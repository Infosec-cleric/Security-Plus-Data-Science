{
 "cells": [
  {
   "cell_type": "markdown",
   "metadata": {},
   "source": [
    "Dataset: http://www.schonlau.net/intrusion.html"
   ]
  },
  {
   "cell_type": "markdown",
   "metadata": {},
   "source": [
    "### Insider Threats: Defense\n",
    "* Masqueraders\n",
    "    * Behaviorial profiling & anomaly detection\n",
    "    * Requires extensive logging of systems & users\n",
    "        * host-based\n",
    "            * pros: better coverage\n",
    "                * most insider attacks at application level not network level\n",
    "            * Cons: hard to deploy\n",
    "* Traitors\n",
    "    * Decoys/traps (e.g., honeypots, honeytokens)"
   ]
  },
  {
   "cell_type": "markdown",
   "metadata": {},
   "source": [
    "### Types of audit data\n",
    "* CLI command sequences\n",
    "* system calls\n",
    "* databse/file accesses\n",
    "* keystroke dynamics\n",
    "* mouse dynamics"
   ]
  },
  {
   "cell_type": "markdown",
   "metadata": {},
   "source": [
    "### User behavior modeling using unix shell comannds\n",
    "* Multi-class classification\n",
    "    * Data from each user as samples from one class\n",
    "    * self vs non-self\n",
    "    * Reqiore retraining as users join/leave organization\n",
    "    * non-self samples bias model's view of masquerader\n",
    "* Single-class classification\n",
    "    * Builds a profile for user only using that user's data\n",
    "    * Requires less data\n",
    "    * Distributed implementation"
   ]
  },
  {
   "cell_type": "markdown",
   "metadata": {},
   "source": [
    "### Schonlau Dataset\n",
    "* Unix shall commands of 70 users\n",
    "    * Collected using Unix acct\n",
    "    * 50 random users as intrusion targets\n",
    "    * 20 masquerade users\n",
    "* 15,000 commands per user\n",
    "    * Over days or months\n",
    "    * First, 5,000 commands clean\n",
    "    * Next, 10,000 commands randomly injected with 100-command intrusion blocks\n",
    "    * Blocks of size 100: clean or dirty\n",
    "* Goal: detect dirty blocks\n",
    "* Issues:\n",
    "    * Widely different time periods for different users\n",
    "    * Different number of login sessions per user\n",
    "    * Different number (0-24) of intrusion blocks per users\n",
    "    * User job functions unknown\n",
    "    * Acct logs commands in the order they finish"
   ]
  },
  {
   "cell_type": "markdown",
   "metadata": {},
   "source": [
    "* Classification\n",
    "    * SVM\n",
    "    * Naive Bayes\n",
    "    * one-class vs two-class\n",
    "    * one step markov\n",
    "    * multinomial\n",
    "    * hybrid multi-setp markov\n",
    "    * IPAM\n",
    "    * Uniqueness\n",
    "    * Sequence match\n",
    "    * Compression"
   ]
  }
 ],
 "metadata": {
  "kernelspec": {
   "display_name": "Python 3",
   "language": "python",
   "name": "python3"
  },
  "language_info": {
   "codemirror_mode": {
    "name": "ipython",
    "version": 3
   },
   "file_extension": ".py",
   "mimetype": "text/x-python",
   "name": "python",
   "nbconvert_exporter": "python",
   "pygments_lexer": "ipython3",
   "version": "3.6.7"
  }
 },
 "nbformat": 4,
 "nbformat_minor": 2
}
