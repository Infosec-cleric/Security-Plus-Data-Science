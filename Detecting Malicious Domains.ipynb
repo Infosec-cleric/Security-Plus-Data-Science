{
 "cells": [
  {
   "cell_type": "markdown",
   "metadata": {},
   "source": [
    "Malicious Use of Domain Names\n",
    "* Bots: locate C&C\n",
    "* Spam/Phishing: URLs linking to scam servers"
   ]
  },
  {
   "cell_type": "markdown",
   "metadata": {},
   "source": [
    "## Detecting Malicious Domains via DNS\n",
    "\n",
    "Reference: EXPOSURE: Finding Malicious Domains Using Passive DNS Analysis\n",
    "\n",
    "* Goal: detect malicious domains\n",
    "* Build features using traffic from authoritative DNS servers to recursive DNS servers\n",
    "    * Queried domain name, query issue time, TTL, list of IP addresses associated with domain"
   ]
  },
  {
   "cell_type": "markdown",
   "metadata": {},
   "source": [
    "### Features\n",
    "* F1: Time-based Features\n",
    "    * Short life\n",
    "    * Daily similarity\n",
    "    * Repeating patterns\n",
    "    * Access ratio\n",
    "* F2: DNS answer-based features\n",
    "    * &#35; of distinct IP addresses\n",
    "    * &#35; of distinct countries\n",
    "    * &#35; of domains IP shared with\n",
    "    * Reverse DNS query results\n",
    "* F3: TTL value-based features\n",
    "    * Average TTL\n",
    "    * Standard deviation of TTL\n",
    "    * &#35; of distinct TTL values\n",
    "    * &#35; of TTL changes\n",
    "    * % usage of specific TTL ranges\n",
    "* F4: Domain name-based features\n",
    "    * % of numerical characters\n",
    "    * % of the length of the LMS"
   ]
  },
  {
   "cell_type": "markdown",
   "metadata": {},
   "source": [
    "### Time-based features\n",
    "* Global scope: short-lived\n",
    "* Local scope:\n",
    "    * Daily simliarity\n",
    "        * An increase or decrease of request count at same intervals everyday\n",
    "    * Regularly repeating patterns\n",
    "        * Instance of change point detection (CPD)\n",
    "    * Access ratio\n",
    "        * Idle vs popular"
   ]
  },
  {
   "cell_type": "markdown",
   "metadata": {},
   "source": [
    "## DNS answer-based features\n",
    "* &#35; of distinct IPs\n",
    "    * Resolved for a domain during the experiment\n",
    "* &#35; of different countries for those IPs\n",
    "* Reverse DNS query results of those IPs\n",
    "* &#35; of domains that share those IPs\n",
    "    * Can be learge for web hosting providers as well\n",
    "    * Reduce false positives by looking for reverse DNS query results on Google top 3 search results"
   ]
  },
  {
   "cell_type": "markdown",
   "metadata": {},
   "source": [
    "### TTL value-based features\n",
    "* TTL: length of time to cache a DNS response\n",
    "    * Recommended between 1 - 5 days\n",
    "* Average TTL value\n",
    "    * High availability systems\n",
    "        * Low TTL values\n",
    "        * Round Robin DNS\n",
    "        * Example: CDNs, Fast Flux botnets\n",
    "* Standard deviation of TTL\n",
    "    * Compromised home computers (dynamic IP) assigned much shorter TTL than compromised servers (static IP)\n",
    "* &#35; of TTL changes, total &#35; of different TTL values\n",
    "    * Higher in malicious domains\n",
    "* % usage of specific TTL ranges\n",
    "    * considered ranges: [0,1), [1,10), [10,100),[100,300),[300,900),>900\n",
    "    * Malicious domains peak at [0,100) ranges"
   ]
  },
  {
   "cell_type": "markdown",
   "metadata": {},
   "source": [
    "### Domain name-based features\n",
    "* easy-to-remember names\n",
    "    * important for benign services\n",
    "        * main purpose of DNS\n",
    "* Features:\n",
    "    * Ratio of numerical characters to name length\n",
    "    * Ratio of length of the longest meanigful substring (i.e., a dictionary word) to length of domain name\n",
    "        * Query name of Google & check # of hits vs a threshold\n",
    "* Features applied to only second-level domains\n",
    "    * Example: server.com for x.y.server.com\n",
    "* Other possible feature: entropy of the domain name\n",
    "    * DGA-generated names more random than human-generated"
   ]
  },
  {
   "cell_type": "markdown",
   "metadata": {},
   "source": [
    "Find a dataset, go over algorithm, give them some features to choose from and why and let them submit features on their own"
   ]
  },
  {
   "cell_type": "markdown",
   "metadata": {},
   "source": [
    "https://ant.isi.edu/datasets/readmes/DoS_DNS_amplification-20130617.README.txt"
   ]
  },
  {
   "cell_type": "markdown",
   "metadata": {},
   "source": [
    "### Evasion\n",
    "\n",
    "* Assign uniform TTL values across all compromise dmachines\n",
    "    * Reduces attacker's infrastructure reliability\n",
    "* Reduce &#35; of DNS lookups of malicious domain\n",
    "    * Not trivial to implement\n",
    "    * Reduces attacker's impact\n",
    "    * Requires high degree of coordination"
   ]
  }
 ],
 "metadata": {
  "kernelspec": {
   "display_name": "Python 3",
   "language": "python",
   "name": "python3"
  },
  "language_info": {
   "codemirror_mode": {
    "name": "ipython",
    "version": 3
   },
   "file_extension": ".py",
   "mimetype": "text/x-python",
   "name": "python",
   "nbconvert_exporter": "python",
   "pygments_lexer": "ipython3",
   "version": "3.6.7"
  }
 },
 "nbformat": 4,
 "nbformat_minor": 2
}
