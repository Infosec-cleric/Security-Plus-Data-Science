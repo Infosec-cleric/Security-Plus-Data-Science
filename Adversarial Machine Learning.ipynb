{
 "cells": [
  {
   "cell_type": "markdown",
   "metadata": {},
   "source": [
    "# ML for security: Adversarial Challenge\n",
    "* Adversaries adapt\n",
    "    * ML assumptions do not necessarily hold\n",
    "        * I.I.D, stationary distributions, linear separability, etc.\n",
    "* ML algorithm itself can be an attack target"
   ]
  },
  {
   "cell_type": "markdown",
   "metadata": {},
   "source": [
    "## ML for security: reactive vs proactive\n",
    "\n",
    "### Adversary\n",
    "1. Analyze classifier\n",
    "2. Devise attack\n",
    "### Classifier deisgner\n",
    "3. Analyzer attack\n",
    "4. Develop countermeasure (e.g., add features, retraining)\n",
    "\n",
    "1. Model adversary\n",
    "2. Simulate attack\n",
    "3. Evaluate attack's impact\n",
    "4. Develop countermeasure (if the attack has a relevant impact)"
   ]
  },
  {
   "cell_type": "markdown",
   "metadata": {},
   "source": [
    "## Taxonomy of attacks against ML\n",
    "* Influence\n",
    "    * Causative\n",
    "    * Exploratory\n",
    "* Security violation\n",
    "    * Integrity\n",
    "    * Availability\n",
    "* Specificity\n",
    "    * Targeted\n",
    "    * Indiscriminate"
   ]
  },
  {
   "cell_type": "markdown",
   "metadata": {},
   "source": [
    "## Causative Integrity Attack: The Spam Foretold\n",
    "* Send non-spam resembling the desired spam\n",
    "    * \"What watch do you want? Really, buy it now!\"\n",
    "    * \"Watch what you buy now! Do you really want it?\"\n",
    "* Learner mistrained\n",
    "    * Misses eventual spam(s)"
   ]
  },
  {
   "cell_type": "markdown",
   "metadata": {},
   "source": [
    "## Caustive Integrity Attack Technique: Red Herring\n",
    "* Introduce spurious features into all malicious instances used by defender for training\n",
    "* Defender learns spurious features as necessary elements of malicious behavior\n",
    "* At attack time, malicious instances lack the spurious features and bypass the filter"
   ]
  },
  {
   "cell_type": "markdown",
   "metadata": {},
   "source": [
    "## Causative available attack example: The Rogue Filter\n",
    "* Send spam resembling benign messages\n",
    "    * Include both spam words and benign words\n",
    "* Learner associates benign words with spam"
   ]
  },
  {
   "cell_type": "markdown",
   "metadata": {},
   "source": [
    "## Causative availability attack technique: Allergy\n",
    "* Autograph: worm signature generation\n",
    "* Phase I:\n",
    "    * Defense:\n",
    "        * Identify infected nodes based on behavioral (scanning) patterns\n",
    "    * Attack:\n",
    "        * An attack node convinces defense of its infection by scanning\n",
    "* Phase II:\n",
    "    * Defense:\n",
    "        * Observe traffic from infected nodes, infer blocking rules based on observed patterns\n",
    "        * Attack node sends crafted packets, causes ML to learn rules blocking benign traffic (DoS)"
   ]
  },
  {
   "cell_type": "markdown",
   "metadata": {},
   "source": [
    "## Exploratory integrity example: The shifty spammer\n",
    "* Craft spam so as to evade classifier without direct influence over the classifier itself\n",
    "    * exchange common spam words with less common synonyms\n",
    "    * Add benign words to sanitize spam"
   ]
  },
  {
   "cell_type": "markdown",
   "metadata": {},
   "source": [
    "## Exploratory integrity attack technique: Polymorphic blending\n",
    "* Encrypt attack traffic so it appears statistically identifical to normal traffic"
   ]
  },
  {
   "cell_type": "markdown",
   "metadata": {},
   "source": [
    "## Exploratory integrity attack technique: mimicry\n",
    "* Example: attacknig sequence-based IDS\n",
    "    * Shortest malicious subsequence longer than IDS window size"
   ]
  },
  {
   "cell_type": "markdown",
   "metadata": {},
   "source": [
    "## Exploratory integrity attack technique: Feature drop"
   ]
  },
  {
   "cell_type": "markdown",
   "metadata": {},
   "source": [
    "### Exploratory integrity attack technique: reverse engineering\n",
    "* Attacker seeks the highest cost instance that passes the classifier\n",
    "\n",
    "### Exploratory availability example: The mistaken identity\n",
    "* Intefere with legitimate operation without influence over training\n",
    "    * Launch spam campaign with target's email address as the From: address of spams\n",
    "    * Flood of message bounces, vacation replies, angry responses, etc. fill target's inbox\n",
    "    \n",
    "### Exploratory availability attack technique: spoofing\n",
    "* Example:\n",
    "    * IPS trained on trusion traffic blocks hosts that originate intrusions\n",
    "    * Attack node spoofs legitimate host's IP address\n",
    "\n",
    "### Exploratory availability attack technique algorithmic complexity\n",
    "* Example: sending spams embedded in images\n",
    "\n",
    "### Defense: Exploratory attacks without probing\n",
    "* Training data\n",
    "    * Limit information accessible to attacker\n",
    "* Feature selection\n",
    "    * Example: use inexact string matching in feature selection to defeat obfuscation of words in spams\n",
    "    * Avoid spurious features\n",
    "    * Regularization: smooth weights, defend against feature deletion\n",
    "* Hypothesis space/learning procedures\n",
    "    * Complex space harder to decode, but also harder to learn\n",
    "    * Regularization: balance complexity and over-fitting\n",
    "* Randomization\n",
    "    * Random decision instead of binary decision\n",
    "* Limiting/mislead feedback\n",
    "    * Example: eliminating bounce emails"
   ]
  },
  {
   "cell_type": "markdown",
   "metadata": {},
   "source": [
    "### Defense: Caustive attacks\n",
    "* Data sanitization\n",
    "    * Example: reject on negative impact (RONI)\n",
    "* Robust learning\n",
    "    * Robust statistics\n",
    "        * Example: median instead of mean\n",
    "* Multi-classifier systems\n",
    "    * Online prediction with experts"
   ]
  },
  {
   "cell_type": "markdown",
   "metadata": {},
   "source": [
    "### Example: Causative availability attack on Naive Bayes spam filter\n",
    "\n",
    "* Method:\n",
    "    * Send attack emails with legitiamte words\n",
    "    * Legitiamte words receive higher spam scores\n",
    "    * Future legitimate emails more likely filtered\n",
    "* Types:\n",
    "    * Indiscriminate: Dictionary attack\n",
    "    * Targeted: Focused attack\n",
    "* Goals:\n",
    "    * Get target to disabl spam filter\n",
    "    * DoS against a bidding competitor"
   ]
  },
  {
   "cell_type": "markdown",
   "metadata": {},
   "source": [
    "# Example: Write up code for my spam filter\n",
    "Beat the spam filter\n",
    "Give time for peolpe to think of ways to build the spam filter\n",
    "Have ppl come up to enhance and beat spam filter on the spot\n",
    "\n",
    "https://www.pythonforengineers.com/build-a-spam-filter/"
   ]
  },
  {
   "cell_type": "code",
   "execution_count": null,
   "metadata": {},
   "outputs": [],
   "source": []
  }
 ],
 "metadata": {
  "kernelspec": {
   "display_name": "Python 3",
   "language": "python",
   "name": "python3"
  },
  "language_info": {
   "codemirror_mode": {
    "name": "ipython",
    "version": 3
   },
   "file_extension": ".py",
   "mimetype": "text/x-python",
   "name": "python",
   "nbconvert_exporter": "python",
   "pygments_lexer": "ipython3",
   "version": "3.6.7"
  }
 },
 "nbformat": 4,
 "nbformat_minor": 2
}
