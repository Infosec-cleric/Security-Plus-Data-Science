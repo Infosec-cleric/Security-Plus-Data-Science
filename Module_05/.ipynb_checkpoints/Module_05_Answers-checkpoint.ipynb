{
 "cells": [
  {
   "cell_type": "markdown",
   "metadata": {},
   "source": [
    "# Exercise 1\n",
    "\n",
    "You are presented with a dataset below. What questions can your formulate to ask based on the dataset provided?"
   ]
  },
  {
   "cell_type": "code",
   "execution_count": 3,
   "metadata": {},
   "outputs": [
    {
     "data": {
      "text/html": [
       "<div>\n",
       "<style scoped>\n",
       "    .dataframe tbody tr th:only-of-type {\n",
       "        vertical-align: middle;\n",
       "    }\n",
       "\n",
       "    .dataframe tbody tr th {\n",
       "        vertical-align: top;\n",
       "    }\n",
       "\n",
       "    .dataframe thead th {\n",
       "        text-align: right;\n",
       "    }\n",
       "</style>\n",
       "<table border=\"1\" class=\"dataframe\">\n",
       "  <thead>\n",
       "    <tr style=\"text-align: right;\">\n",
       "      <th></th>\n",
       "      <th>datetime</th>\n",
       "      <th>host</th>\n",
       "      <th>src</th>\n",
       "      <th>proto</th>\n",
       "      <th>type</th>\n",
       "      <th>spt</th>\n",
       "      <th>dpt</th>\n",
       "      <th>srcstr</th>\n",
       "      <th>cc</th>\n",
       "      <th>country</th>\n",
       "      <th>locale</th>\n",
       "      <th>localeabbr</th>\n",
       "      <th>postalcode</th>\n",
       "      <th>latitude</th>\n",
       "      <th>longitude</th>\n",
       "      <th>Unnamed: 15</th>\n",
       "    </tr>\n",
       "  </thead>\n",
       "  <tbody>\n",
       "    <tr>\n",
       "      <th>0</th>\n",
       "      <td>3/3/13 21:53</td>\n",
       "      <td>groucho-oregon</td>\n",
       "      <td>1032051418</td>\n",
       "      <td>TCP</td>\n",
       "      <td>NaN</td>\n",
       "      <td>6000.0</td>\n",
       "      <td>1433.0</td>\n",
       "      <td>61.131.218.218</td>\n",
       "      <td>CN</td>\n",
       "      <td>China</td>\n",
       "      <td>Jiangxi Sheng</td>\n",
       "      <td>36</td>\n",
       "      <td>NaN</td>\n",
       "      <td>28.5500</td>\n",
       "      <td>115.9333</td>\n",
       "      <td>NaN</td>\n",
       "    </tr>\n",
       "    <tr>\n",
       "      <th>1</th>\n",
       "      <td>3/3/13 21:57</td>\n",
       "      <td>groucho-oregon</td>\n",
       "      <td>1347834426</td>\n",
       "      <td>UDP</td>\n",
       "      <td>NaN</td>\n",
       "      <td>5270.0</td>\n",
       "      <td>5060.0</td>\n",
       "      <td>80.86.82.58</td>\n",
       "      <td>DE</td>\n",
       "      <td>Germany</td>\n",
       "      <td>NaN</td>\n",
       "      <td>NaN</td>\n",
       "      <td>NaN</td>\n",
       "      <td>51.0000</td>\n",
       "      <td>9.0000</td>\n",
       "      <td>NaN</td>\n",
       "    </tr>\n",
       "    <tr>\n",
       "      <th>2</th>\n",
       "      <td>3/3/13 21:58</td>\n",
       "      <td>groucho-oregon</td>\n",
       "      <td>2947856490</td>\n",
       "      <td>TCP</td>\n",
       "      <td>NaN</td>\n",
       "      <td>2489.0</td>\n",
       "      <td>1080.0</td>\n",
       "      <td>175.180.184.106</td>\n",
       "      <td>TW</td>\n",
       "      <td>Taiwan</td>\n",
       "      <td>Taipei</td>\n",
       "      <td>NaN</td>\n",
       "      <td>NaN</td>\n",
       "      <td>25.0392</td>\n",
       "      <td>121.5250</td>\n",
       "      <td>NaN</td>\n",
       "    </tr>\n",
       "    <tr>\n",
       "      <th>3</th>\n",
       "      <td>3/3/13 21:58</td>\n",
       "      <td>groucho-us-east</td>\n",
       "      <td>841842716</td>\n",
       "      <td>UDP</td>\n",
       "      <td>NaN</td>\n",
       "      <td>43235.0</td>\n",
       "      <td>1900.0</td>\n",
       "      <td>50.45.128.28</td>\n",
       "      <td>US</td>\n",
       "      <td>United States</td>\n",
       "      <td>Oregon</td>\n",
       "      <td>OR</td>\n",
       "      <td>97124</td>\n",
       "      <td>45.5848</td>\n",
       "      <td>-122.9117</td>\n",
       "      <td>NaN</td>\n",
       "    </tr>\n",
       "    <tr>\n",
       "      <th>4</th>\n",
       "      <td>3/3/13 21:58</td>\n",
       "      <td>groucho-singapore</td>\n",
       "      <td>3587648279</td>\n",
       "      <td>TCP</td>\n",
       "      <td>NaN</td>\n",
       "      <td>56577.0</td>\n",
       "      <td>80.0</td>\n",
       "      <td>213.215.43.23</td>\n",
       "      <td>FR</td>\n",
       "      <td>France</td>\n",
       "      <td>NaN</td>\n",
       "      <td>NaN</td>\n",
       "      <td>NaN</td>\n",
       "      <td>48.8600</td>\n",
       "      <td>2.3500</td>\n",
       "      <td>NaN</td>\n",
       "    </tr>\n",
       "  </tbody>\n",
       "</table>\n",
       "</div>"
      ],
      "text/plain": [
       "       datetime               host         src proto  type      spt     dpt  \\\n",
       "0  3/3/13 21:53     groucho-oregon  1032051418   TCP   NaN   6000.0  1433.0   \n",
       "1  3/3/13 21:57     groucho-oregon  1347834426   UDP   NaN   5270.0  5060.0   \n",
       "2  3/3/13 21:58     groucho-oregon  2947856490   TCP   NaN   2489.0  1080.0   \n",
       "3  3/3/13 21:58    groucho-us-east   841842716   UDP   NaN  43235.0  1900.0   \n",
       "4  3/3/13 21:58  groucho-singapore  3587648279   TCP   NaN  56577.0    80.0   \n",
       "\n",
       "            srcstr  cc        country         locale localeabbr postalcode  \\\n",
       "0   61.131.218.218  CN          China  Jiangxi Sheng         36        NaN   \n",
       "1      80.86.82.58  DE        Germany            NaN        NaN        NaN   \n",
       "2  175.180.184.106  TW         Taiwan         Taipei        NaN        NaN   \n",
       "3     50.45.128.28  US  United States         Oregon         OR      97124   \n",
       "4    213.215.43.23  FR         France            NaN        NaN        NaN   \n",
       "\n",
       "   latitude  longitude  Unnamed: 15  \n",
       "0   28.5500   115.9333          NaN  \n",
       "1   51.0000     9.0000          NaN  \n",
       "2   25.0392   121.5250          NaN  \n",
       "3   45.5848  -122.9117          NaN  \n",
       "4   48.8600     2.3500          NaN  "
      ]
     },
     "execution_count": 3,
     "metadata": {},
     "output_type": "execute_result"
    }
   ],
   "source": [
    "import pandas as pd\n",
    "df = pd.read_csv('data/AWS_Honeypot_marx-geo.csv')\n",
    "df.head()"
   ]
  },
  {
   "cell_type": "markdown",
   "metadata": {},
   "source": [
    "<b>Answer: </b>What location had the greatest source of attacks for this AWS honeypot?"
   ]
  },
  {
   "cell_type": "markdown",
   "metadata": {},
   "source": [
    "### Exercise 2\n",
    "\n",
    "1. How many total rows and columns do we have?\n",
    "\n",
    "\n",
    "2. How many of those rows are missing values?\n",
    "\n",
    "\n",
    "3. How many unique items there are in each feature?"
   ]
  },
  {
   "cell_type": "code",
   "execution_count": 3,
   "metadata": {},
   "outputs": [
    {
     "name": "stdout",
     "output_type": "stream",
     "text": [
      "(451581, 16)\n",
      "\n",
      "\n",
      "datetime            0\n",
      "host                0\n",
      "src                 0\n",
      "proto               0\n",
      "type           406770\n",
      "spt             44811\n",
      "dpt             44811\n",
      "srcstr              0\n",
      "cc               3596\n",
      "country          3634\n",
      "locale         109469\n",
      "localeabbr     119876\n",
      "postalcode     365103\n",
      "latitude         3469\n",
      "longitude        3428\n",
      "Unnamed: 15    451498\n",
      "dtype: int64\n",
      "\n",
      "\n",
      "datetime: 185118\n",
      "host: 9\n",
      "src: 69602\n",
      "proto: 3\n",
      "type: 7\n",
      "spt: 46188\n",
      "dpt: 4041\n",
      "srcstr: 69602\n",
      "cc: 176\n",
      "country: 177\n",
      "locale: 1179\n",
      "localeabbr: 612\n",
      "postalcode: 2777\n",
      "latitude: 5089\n",
      "longitude: 5253\n",
      "Unnamed: 15: 5\n",
      "\n",
      "\n",
      "TCP     327991\n",
      "UDP      78779\n",
      "ICMP     44811\n",
      "Name: proto, dtype: int64\n",
      "\n",
      "\n"
     ]
    }
   ],
   "source": [
    "# 1. \n",
    "print(str(df.shape) + \"\\n\\n\")\n",
    "\n",
    "# 2.\n",
    "print(str(df.isnull().sum()) + \"\\n\\n\")\n",
    "\n",
    "# 3. \n",
    "for item in df:\n",
    "    print(item + ': ' + str(df[item].nunique()))\n",
    "    \n",
    "# 4.\n",
    "\n",
    "print(\"\\n\\n\" + str(df.proto.value_counts()) + \"\\n\\n\")"
   ]
  },
  {
   "cell_type": "markdown",
   "metadata": {},
   "source": [
    "### Exercise 3\n",
    "\n",
    "1. Create three distribution plots of features for features of which you are interested?"
   ]
  },
  {
   "cell_type": "code",
   "execution_count": 6,
   "metadata": {},
   "outputs": [
    {
     "data": {
      "text/plain": [
       "<matplotlib.axes._subplots.AxesSubplot at 0x7fb195ca1128>"
      ]
     },
     "execution_count": 6,
     "metadata": {},
     "output_type": "execute_result"
    },
    {
     "data": {
      "image/png": "[encoded data removed]",
      "text/plain": [
       "<Figure size 432x288 with 1 Axes>"
      ]
     },
     "metadata": {
      "needs_background": "light"
     },
     "output_type": "display_data"
    }
   ],
   "source": [
    "df.src.value_counts().plot.hist()"
   ]
  },
  {
   "cell_type": "code",
   "execution_count": 7,
   "metadata": {},
   "outputs": [
    {
     "data": {
      "text/plain": [
       "<matplotlib.axes._subplots.AxesSubplot at 0x7fb195b940f0>"
      ]
     },
     "execution_count": 7,
     "metadata": {},
     "output_type": "execute_result"
    },
    {
     "data": {
      "image/png": "[encoded data removed]",
      "text/plain": [
       "<Figure size 432x288 with 1 Axes>"
      ]
     },
     "metadata": {
      "needs_background": "light"
     },
     "output_type": "display_data"
    }
   ],
   "source": [
    "df.proto.value_counts().plot.hist()"
   ]
  },
  {
   "cell_type": "code",
   "execution_count": 8,
   "metadata": {},
   "outputs": [
    {
     "data": {
      "text/plain": [
       "<matplotlib.axes._subplots.AxesSubplot at 0x7fb195b05978>"
      ]
     },
     "execution_count": 8,
     "metadata": {},
     "output_type": "execute_result"
    },
    {
     "data": {
      "image/png": "[encoded data removed]",
      "text/plain": [
       "<Figure size 432x288 with 1 Axes>"
      ]
     },
     "metadata": {
      "needs_background": "light"
     },
     "output_type": "display_data"
    }
   ],
   "source": [
    "df.country.value_counts().plot.hist()"
   ]
  },
  {
   "cell_type": "markdown",
   "metadata": {},
   "source": [
    "### Exercise 4\n",
    "\n",
    "* Take some time and familiarize yourself with this dataset\n",
    "* Create/remove/change a feature you believe would be important to this dataset"
   ]
  },
  {
   "cell_type": "code",
   "execution_count": 11,
   "metadata": {},
   "outputs": [
    {
     "data": {
      "text/plain": [
       "0          6000\n",
       "1          5270\n",
       "2          2489\n",
       "3         43235\n",
       "4         56577\n",
       "5         32628\n",
       "6          6000\n",
       "7          6000\n",
       "8          6000\n",
       "9          6000\n",
       "10         6000\n",
       "11         9907\n",
       "12        33367\n",
       "13        33367\n",
       "14        33367\n",
       "15        33367\n",
       "16        33367\n",
       "17        33367\n",
       "18         6000\n",
       "19        26180\n",
       "20        54790\n",
       "21         2712\n",
       "22        48754\n",
       "23        45855\n",
       "24         3009\n",
       "25         3009\n",
       "26         3303\n",
       "27         3303\n",
       "28         6000\n",
       "29         6000\n",
       "          ...  \n",
       "451551     8888\n",
       "451552     8888\n",
       "451553     6000\n",
       "451554       67\n",
       "451555    55494\n",
       "451556    55494\n",
       "451557     6000\n",
       "451558    11057\n",
       "451559     2706\n",
       "451560     2706\n",
       "451561     6000\n",
       "451562        0\n",
       "451563     4130\n",
       "451564     4130\n",
       "451565     6000\n",
       "451566    62125\n",
       "451567    40707\n",
       "451568     6000\n",
       "451569     2439\n",
       "451570     2439\n",
       "451571        0\n",
       "451572        0\n",
       "451573     6000\n",
       "451574    62175\n",
       "451575    62175\n",
       "451576    62175\n",
       "451577     6000\n",
       "451578     6000\n",
       "451579     3555\n",
       "451580     3555\n",
       "Name: spt, Length: 451581, dtype: int64"
      ]
     },
     "execution_count": 11,
     "metadata": {},
     "output_type": "execute_result"
    }
   ],
   "source": [
    "# I decided to convert port column from float to integer\n",
    "df = df.fillna(0)\n",
    "df['spt'] = df['spt'].astype(int)\n",
    "df['spt']"
   ]
  },
  {
   "cell_type": "code",
   "execution_count": null,
   "metadata": {},
   "outputs": [],
   "source": []
  }
 ],
 "metadata": {
  "kernelspec": {
   "display_name": "Python 3",
   "language": "python",
   "name": "python3"
  },
  "language_info": {
   "codemirror_mode": {
    "name": "ipython",
    "version": 3
   },
   "file_extension": ".py",
   "mimetype": "text/x-python",
   "name": "python",
   "nbconvert_exporter": "python",
   "pygments_lexer": "ipython3",
   "version": "3.6.8"
  }
 },
 "nbformat": 4,
 "nbformat_minor": 2
}
