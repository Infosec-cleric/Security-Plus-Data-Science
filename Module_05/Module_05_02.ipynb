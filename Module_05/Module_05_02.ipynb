{
 "cells": [
  {
   "cell_type": "code",
   "execution_count": 1,
   "metadata": {},
   "outputs": [],
   "source": [
    "import pandas as pd\n",
    "from sklearn.model_selection import train_test_split\n",
    "from sklearn.svm import SVC"
   ]
  },
  {
   "cell_type": "markdown",
   "metadata": {},
   "source": [
    "# The Data Science Process\n",
    "\n",
    "### 1. Ask a Question\n",
    "* What is your goal?\n",
    "* What would you do if you had all data?\n",
    "* What do you want to predict or estimate?\n",
    "* What do you want to understand or gain insight? \n",
    "\n",
    "### 2. Collect Data\n",
    "* What is the source of data?\n",
    "* Are you missing any data?\n",
    "* Which points of data are relevant?\n",
    "* How can you best sample the data?  \n",
    "\n",
    "### 3. Explore Data\n",
    "* What are anomalies in your data?\n",
    "* What are patterns in your data?\n",
    "* What is considered normal for your data?\n",
    "* What plots best represent your data?\n",
    "\n",
    "### 4. Model Data\n",
    "* What features are important to your data?\n",
    "* Why are these feature important to your data?\n",
    "* How can you best model your data?\n",
    "\n",
    "### 5. Communicate & Visualize Results\n",
    "* What did you learn?\n",
    "* Do the results make sense?\n",
    "* Do you need more data?'\n",
    "\n",
    "\n",
    "#### Repeat Steps When Necessary"
   ]
  },
  {
   "cell_type": "markdown",
   "metadata": {},
   "source": [
    "## 4. Model Data\n",
    "\n",
    "There are many ways to model data. We won't go into a deep dive of machine learning but we will provide a simple introduction. \n",
    "\n",
    "Machine learning algorithms help build mathematical models in order to make predictions or deicision without being explicitly programmed to perform the task.\n",
    "\n",
    "Types of machine learning tasks:\n",
    "* supervised learning\n",
    "* unsupervised learning\n",
    "* semi-supervised learning\n",
    "* active learning\n",
    "* deep learning\n",
    "* reinforcement learning\n",
    "\n",
    "The difference between the main two (supervised and unsupervised), is unsupervised learning does not rely on initial label training data to build models, while suprvised learning required this training data. In the case of semi-supervised learning, the training data is missing some training labels.\n",
    "\n",
    "## Exercise 5\n",
    "\n",
    "Take a look at your dataset, should we perform unsupervised or supervised learning?"
   ]
  },
  {
   "cell_type": "markdown",
   "metadata": {},
   "source": [
    "Now, we that we have choose a specific task. We must decide on the type of algorithm we want to use, in machine learning the typical choice are between classification and regression. Classification is the problem of identifying to which of a set of categories a new observation belongs. For example given an email, it will classify it as either spam or non-spam. Regression is a set of statistical processes for estimating the relationships among variables. For example, we could predict the value of a house based on number of bathrooms, number of square footage and etc.\n",
    "\n",
    "## Exercise 6\n",
    "\n",
    "Take another look at the dataset, should we use a classifcation or regression algorithm?\n",
    "\n",
    "We will spend more time on machine learning later, but we will implement a well known algorithm to determine malicious websites."
   ]
  },
  {
   "cell_type": "code",
   "execution_count": null,
   "metadata": {},
   "outputs": [],
   "source": [
    "df = pd.read_csv('data/updated_dataset.csv')\n",
    "\n",
    "df = df.drop(columns=['URL', 'CHARSET', 'SERVER', \n",
    "                      'WHOIS_COUNTRY', 'WHOIS_STATEPRO',\n",
    "                     'WHOIS_REGDATE', 'WHOIS_UPDATED_DATE',\n",
    "                     'DNS_QUERY_TIMES'])\n",
    "\n",
    "X = df.drop('Type', axis=1)\n",
    "y = df.Type\n",
    "\n",
    "X_train, X_test, y_train, y_test = train_test_split(X, y, test_size = 0.25)\n",
    "\n",
    "svm_model_linear = SVC(kernel = 'linear', C = 1).fit(X_train, y_train)\n",
    "svm_predictions = svm_model_linear.predict(X_test)\n",
    "\n",
    "# model accuracy for X_test  \n",
    "accuracy = svm_model_linear.score(X_test, y_test)\n",
    "\n",
    "# creating a confusion matrix\n",
    "cm = confusion_matrix(y_test, svm_predictions)\n",
    "\n",
    "print(accuracy)\n",
    "print(cm)"
   ]
  },
  {
   "cell_type": "markdown",
   "metadata": {},
   "source": [
    "## 5. Communicate & Visualize Results\n",
    "\n",
    "We have successfully model the dataset. Now, we need to visualize and communicate the results."
   ]
  },
  {
   "cell_type": "code",
   "execution_count": null,
   "metadata": {},
   "outputs": [],
   "source": [
    "fig, ax = plt.subplots()\n",
    "# title for the plots\n",
    "title = ('Decision Surface of Linear SVC ')\n",
    "# Set-up grid for plotting.\n",
    "X0, X1 = X[:, 0], X[:, 1]\n",
    "xx, yy = make_meshgrid(X0, X1)\n",
    "\n",
    "plot_contours(ax, clf, xx, yy, cmap=plt.cm.coolwarm, alpha=0.8)\n",
    "ax.scatter(X0, X1, c=y, cmap=plt.cm.coolwarm, s=20, edgecolors='k')\n",
    "ax.set_ylabel('y label here')\n",
    "ax.set_xlabel('x label here')\n",
    "ax.set_xticks(())\n",
    "ax.set_yticks(())\n",
    "ax.set_title(title)\n",
    "ax.legend()\n",
    "plt.show()\n"
   ]
  },
  {
   "cell_type": "markdown",
   "metadata": {},
   "source": [
    "References:\n",
    "1. https://towardsdatascience.com/hitchhikers-guide-to-exploratory-data-analysis-6e8d896d3f7e\n",
    "2. https://towardsdatascience.com/a-gentle-introduction-to-exploratory-data-analysis-f11d843b8184\n",
    "3. https://github.com/ritikabhasker/Intro-to-EDA/blob/master/Intro_to_EDA.ipynb\n",
    "4. https://www.geeksforgeeks.org/python-visualize-missing-values-nan-values-using-missingno-library/\n",
    "5. https://www.kdnuggets.com/2016/03/data-science-process.html"
   ]
  }
 ],
 "metadata": {
  "kernelspec": {
   "display_name": "Python 3",
   "language": "python",
   "name": "python3"
  },
  "language_info": {
   "codemirror_mode": {
    "name": "ipython",
    "version": 3
   },
   "file_extension": ".py",
   "mimetype": "text/x-python",
   "name": "python",
   "nbconvert_exporter": "python",
   "pygments_lexer": "ipython3",
   "version": "3.6.8"
  }
 },
 "nbformat": 4,
 "nbformat_minor": 2
}
