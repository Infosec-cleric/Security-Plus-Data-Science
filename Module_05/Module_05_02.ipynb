{
 "cells": [
  {
   "cell_type": "code",
   "execution_count": 1,
   "metadata": {},
   "outputs": [],
   "source": [
    "import pandas as pd\n",
    "import missingno as msno"
   ]
  },
  {
   "cell_type": "markdown",
   "metadata": {},
   "source": [
    "# The Data Science Process\n",
    "\n",
    "### 1. Ask a Question\n",
    "* What is your goal?\n",
    "* What would you do if you had all data?\n",
    "* What do you want to predict or estimate?\n",
    "* What do you want to understand or gain insight? \n",
    "\n",
    "### 2. Collect Data\n",
    "* What is the source of data?\n",
    "* Are you missing any data?\n",
    "* Which points of data are relevant?\n",
    "* How can you best sample the data?  \n",
    "\n",
    "### 3. Explore Data\n",
    "* What are anomalies in your data?\n",
    "* What are patterns in your data?\n",
    "* What is considered normal for your data?\n",
    "* What plots best represent your data?\n",
    "\n",
    "### 4. Model Data\n",
    "* What features are important to your data?\n",
    "* Why are these feature important to your data?\n",
    "* How can you best model your data?\n",
    "\n",
    "### 5. Communicate & Visualize Results\n",
    "* What did you learn?\n",
    "* Do the results make sense?\n",
    "* Do you need more data?'\n",
    "\n",
    "\n",
    "#### Repeat Steps When Necessary"
   ]
  },
  {
   "cell_type": "markdown",
   "metadata": {},
   "source": [
    "## 4. Model Data\n"
   ]
  },
  {
   "cell_type": "markdown",
   "metadata": {},
   "source": [
    "## 5. Communicate & VIsualize Results\n",
    "\n",
    "You are presented with a dataset below. What questions can your formulate to ask based on the dataset provided?"
   ]
  },
  {
   "cell_type": "markdown",
   "metadata": {},
   "source": [
    "References:\n",
    "1. https://towardsdatascience.com/hitchhikers-guide-to-exploratory-data-analysis-6e8d896d3f7e\n",
    "2. https://towardsdatascience.com/a-gentle-introduction-to-exploratory-data-analysis-f11d843b8184\n",
    "3. https://github.com/ritikabhasker/Intro-to-EDA/blob/master/Intro_to_EDA.ipynb\n",
    "4. https://www.geeksforgeeks.org/python-visualize-missing-values-nan-values-using-missingno-library/\n",
    "5. https://www.kdnuggets.com/2016/03/data-science-process.html"
   ]
  }
 ],
 "metadata": {
  "kernelspec": {
   "display_name": "Python 3",
   "language": "python",
   "name": "python3"
  },
  "language_info": {
   "codemirror_mode": {
    "name": "ipython",
    "version": 3
   },
   "file_extension": ".py",
   "mimetype": "text/x-python",
   "name": "python",
   "nbconvert_exporter": "python",
   "pygments_lexer": "ipython3",
   "version": "3.6.8"
  }
 },
 "nbformat": 4,
 "nbformat_minor": 2
}
