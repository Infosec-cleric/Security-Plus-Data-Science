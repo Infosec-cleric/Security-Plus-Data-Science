{
 "cells": [
  {
   "cell_type": "code",
   "execution_count": 3,
   "metadata": {},
   "outputs": [],
   "source": [
    "import warnings\n",
    "warnings.filterwarnings(\"ignore\")\n",
    "import shutil\n",
    "import os\n",
    "import pandas as pd\n",
    "import matplotlib\n",
    "import matplotlib.pyplot as plt\n",
    "import seaborn as sns\n",
    "import numpy as np\n",
    "import pickle\n",
    "from sklearn.manifold import TSNE\n",
    "from sklearn import preprocessing\n",
    "import pandas as pd\n",
    "from multiprocessing import Process# this is used for multithreading\n",
    "import multiprocessing \n",
    "import random as r\n",
    "from xgboost import XGBClassifier\n",
    "from sklearn.model_selection import RandomizedSearchCV\n",
    "from sklearn.tree import DecisionTreeClassifier\n",
    "from sklearn.calibration import CalibratedClassifierCV\n",
    "from sklearn.neighbors import KNeighborsClassifier\n",
    "from sklearn.metrics import log_loss\n",
    "from sklearn.metrics import confusion_matrix\n",
    "from sklearn.model_selection import train_test_split\n",
    "from sklearn.linear_model import LogisticRegression\n",
    "from sklearn.ensemble import RandomForestClassifier\n",
    "from sklearn.cluster import MiniBatchKMeans"
   ]
  },
  {
   "cell_type": "code",
   "execution_count": 4,
   "metadata": {},
   "outputs": [],
   "source": [
    "features = ['duration','protocol_type','service','flag','src_bytes','dst_bytes','land','wrong_fragment','urgent','hot','num_failed_logins','logged_in','num_compromised','root_shell','su_attempted',\n",
    "'num_root','num_file_creations','num_shells','num_access_files','num_outbound_cmds',\n",
    "'is_host_login',\n",
    "'is_guest_login',\n",
    "'count',\n",
    "'srv_count',\n",
    "'serror_rate',\n",
    "'srv_serror_rate',\n",
    "'rerror_rate',\n",
    "'srv_rerror_rate',\n",
    "'same_srv_rate',\n",
    "'diff_srv_rate',\n",
    "'srv_diff_host_rate',\n",
    "'dst_host_count',\n",
    "'dst_host_srv_count',\n",
    "'dst_host_same_srv_rate',\n",
    "'dst_host_diff_srv_rate',\n",
    "'dst_host_same_src_port_rate',\n",
    "'dst_host_srv_diff_host_rate',\n",
    "'dst_host_serror_rate',\n",
    "'dst_host_srv_serror_rate',\n",
    "'dst_host_rerror_rate',\n",
    "'dst_host_srv_rerror_rate',\n",
    "'intrusion_type']"
   ]
  },
  {
   "cell_type": "code",
   "execution_count": 5,
   "metadata": {},
   "outputs": [
    {
     "data": {
      "text/html": [
       "<div>\n",
       "<style scoped>\n",
       "    .dataframe tbody tr th:only-of-type {\n",
       "        vertical-align: middle;\n",
       "    }\n",
       "\n",
       "    .dataframe tbody tr th {\n",
       "        vertical-align: top;\n",
       "    }\n",
       "\n",
       "    .dataframe thead th {\n",
       "        text-align: right;\n",
       "    }\n",
       "</style>\n",
       "<table border=\"1\" class=\"dataframe\">\n",
       "  <thead>\n",
       "    <tr style=\"text-align: right;\">\n",
       "      <th></th>\n",
       "      <th>duration</th>\n",
       "      <th>protocol_type</th>\n",
       "      <th>service</th>\n",
       "      <th>flag</th>\n",
       "      <th>src_bytes</th>\n",
       "      <th>dst_bytes</th>\n",
       "      <th>land</th>\n",
       "      <th>wrong_fragment</th>\n",
       "      <th>urgent</th>\n",
       "      <th>hot</th>\n",
       "      <th>...</th>\n",
       "      <th>dst_host_srv_count</th>\n",
       "      <th>dst_host_same_srv_rate</th>\n",
       "      <th>dst_host_diff_srv_rate</th>\n",
       "      <th>dst_host_same_src_port_rate</th>\n",
       "      <th>dst_host_srv_diff_host_rate</th>\n",
       "      <th>dst_host_serror_rate</th>\n",
       "      <th>dst_host_srv_serror_rate</th>\n",
       "      <th>dst_host_rerror_rate</th>\n",
       "      <th>dst_host_srv_rerror_rate</th>\n",
       "      <th>intrusion_type</th>\n",
       "    </tr>\n",
       "  </thead>\n",
       "  <tbody>\n",
       "    <tr>\n",
       "      <th>0</th>\n",
       "      <td>0</td>\n",
       "      <td>tcp</td>\n",
       "      <td>http</td>\n",
       "      <td>SF</td>\n",
       "      <td>181</td>\n",
       "      <td>5450</td>\n",
       "      <td>0</td>\n",
       "      <td>0</td>\n",
       "      <td>0</td>\n",
       "      <td>0</td>\n",
       "      <td>...</td>\n",
       "      <td>9</td>\n",
       "      <td>1.0</td>\n",
       "      <td>0.0</td>\n",
       "      <td>0.11</td>\n",
       "      <td>0.0</td>\n",
       "      <td>0.0</td>\n",
       "      <td>0.0</td>\n",
       "      <td>0.0</td>\n",
       "      <td>0.0</td>\n",
       "      <td>normal.</td>\n",
       "    </tr>\n",
       "    <tr>\n",
       "      <th>1</th>\n",
       "      <td>0</td>\n",
       "      <td>tcp</td>\n",
       "      <td>http</td>\n",
       "      <td>SF</td>\n",
       "      <td>239</td>\n",
       "      <td>486</td>\n",
       "      <td>0</td>\n",
       "      <td>0</td>\n",
       "      <td>0</td>\n",
       "      <td>0</td>\n",
       "      <td>...</td>\n",
       "      <td>19</td>\n",
       "      <td>1.0</td>\n",
       "      <td>0.0</td>\n",
       "      <td>0.05</td>\n",
       "      <td>0.0</td>\n",
       "      <td>0.0</td>\n",
       "      <td>0.0</td>\n",
       "      <td>0.0</td>\n",
       "      <td>0.0</td>\n",
       "      <td>normal.</td>\n",
       "    </tr>\n",
       "    <tr>\n",
       "      <th>2</th>\n",
       "      <td>0</td>\n",
       "      <td>tcp</td>\n",
       "      <td>http</td>\n",
       "      <td>SF</td>\n",
       "      <td>235</td>\n",
       "      <td>1337</td>\n",
       "      <td>0</td>\n",
       "      <td>0</td>\n",
       "      <td>0</td>\n",
       "      <td>0</td>\n",
       "      <td>...</td>\n",
       "      <td>29</td>\n",
       "      <td>1.0</td>\n",
       "      <td>0.0</td>\n",
       "      <td>0.03</td>\n",
       "      <td>0.0</td>\n",
       "      <td>0.0</td>\n",
       "      <td>0.0</td>\n",
       "      <td>0.0</td>\n",
       "      <td>0.0</td>\n",
       "      <td>normal.</td>\n",
       "    </tr>\n",
       "    <tr>\n",
       "      <th>3</th>\n",
       "      <td>0</td>\n",
       "      <td>tcp</td>\n",
       "      <td>http</td>\n",
       "      <td>SF</td>\n",
       "      <td>219</td>\n",
       "      <td>1337</td>\n",
       "      <td>0</td>\n",
       "      <td>0</td>\n",
       "      <td>0</td>\n",
       "      <td>0</td>\n",
       "      <td>...</td>\n",
       "      <td>39</td>\n",
       "      <td>1.0</td>\n",
       "      <td>0.0</td>\n",
       "      <td>0.03</td>\n",
       "      <td>0.0</td>\n",
       "      <td>0.0</td>\n",
       "      <td>0.0</td>\n",
       "      <td>0.0</td>\n",
       "      <td>0.0</td>\n",
       "      <td>normal.</td>\n",
       "    </tr>\n",
       "    <tr>\n",
       "      <th>4</th>\n",
       "      <td>0</td>\n",
       "      <td>tcp</td>\n",
       "      <td>http</td>\n",
       "      <td>SF</td>\n",
       "      <td>217</td>\n",
       "      <td>2032</td>\n",
       "      <td>0</td>\n",
       "      <td>0</td>\n",
       "      <td>0</td>\n",
       "      <td>0</td>\n",
       "      <td>...</td>\n",
       "      <td>49</td>\n",
       "      <td>1.0</td>\n",
       "      <td>0.0</td>\n",
       "      <td>0.02</td>\n",
       "      <td>0.0</td>\n",
       "      <td>0.0</td>\n",
       "      <td>0.0</td>\n",
       "      <td>0.0</td>\n",
       "      <td>0.0</td>\n",
       "      <td>normal.</td>\n",
       "    </tr>\n",
       "  </tbody>\n",
       "</table>\n",
       "<p>5 rows × 42 columns</p>\n",
       "</div>"
      ],
      "text/plain": [
       "   duration protocol_type service flag  src_bytes  dst_bytes  land  \\\n",
       "0         0           tcp    http   SF        181       5450     0   \n",
       "1         0           tcp    http   SF        239        486     0   \n",
       "2         0           tcp    http   SF        235       1337     0   \n",
       "3         0           tcp    http   SF        219       1337     0   \n",
       "4         0           tcp    http   SF        217       2032     0   \n",
       "\n",
       "   wrong_fragment  urgent  hot  ...  dst_host_srv_count  \\\n",
       "0               0       0    0  ...                   9   \n",
       "1               0       0    0  ...                  19   \n",
       "2               0       0    0  ...                  29   \n",
       "3               0       0    0  ...                  39   \n",
       "4               0       0    0  ...                  49   \n",
       "\n",
       "   dst_host_same_srv_rate  dst_host_diff_srv_rate  \\\n",
       "0                     1.0                     0.0   \n",
       "1                     1.0                     0.0   \n",
       "2                     1.0                     0.0   \n",
       "3                     1.0                     0.0   \n",
       "4                     1.0                     0.0   \n",
       "\n",
       "   dst_host_same_src_port_rate  dst_host_srv_diff_host_rate  \\\n",
       "0                         0.11                          0.0   \n",
       "1                         0.05                          0.0   \n",
       "2                         0.03                          0.0   \n",
       "3                         0.03                          0.0   \n",
       "4                         0.02                          0.0   \n",
       "\n",
       "   dst_host_serror_rate  dst_host_srv_serror_rate  dst_host_rerror_rate  \\\n",
       "0                   0.0                       0.0                   0.0   \n",
       "1                   0.0                       0.0                   0.0   \n",
       "2                   0.0                       0.0                   0.0   \n",
       "3                   0.0                       0.0                   0.0   \n",
       "4                   0.0                       0.0                   0.0   \n",
       "\n",
       "   dst_host_srv_rerror_rate  intrusion_type  \n",
       "0                       0.0         normal.  \n",
       "1                       0.0         normal.  \n",
       "2                       0.0         normal.  \n",
       "3                       0.0         normal.  \n",
       "4                       0.0         normal.  \n",
       "\n",
       "[5 rows x 42 columns]"
      ]
     },
     "execution_count": 5,
     "metadata": {},
     "output_type": "execute_result"
    }
   ],
   "source": [
    "data = pd.read_csv('kddcup.data_10_percent', names=features, header=None)\n",
    "data.head()"
   ]
  },
  {
   "cell_type": "markdown",
   "metadata": {},
   "source": [
    "<h2> Train Test Split:- </h2>"
   ]
  },
  {
   "cell_type": "code",
   "execution_count": 15,
   "metadata": {},
   "outputs": [],
   "source": [
    "from sklearn.model_selection import train_test_split\n",
    "X_train, X_test, Y_train, Y_test = train_test_split(data.drop('intrusion_type', axis=1), data['intrusion_type'], stratify=data['intrusion_type'], test_size=0.25)"
   ]
  },
  {
   "cell_type": "markdown",
   "metadata": {},
   "source": [
    "<h3> Merging categorical and continuous features:- </h3>"
   ]
  },
  {
   "cell_type": "code",
   "execution_count": 6,
   "metadata": {},
   "outputs": [],
   "source": [
    "from scipy.sparse import hstack"
   ]
  },
  {
   "cell_type": "code",
   "execution_count": 7,
   "metadata": {},
   "outputs": [
    {
     "ename": "NameError",
     "evalue": "name 'duration1' is not defined",
     "output_type": "error",
     "traceback": [
      "\u001b[0;31m---------------------------------------------------------------------------\u001b[0m",
      "\u001b[0;31mNameError\u001b[0m                                 Traceback (most recent call last)",
      "\u001b[0;32m<ipython-input-7-5827c9a0be4c>\u001b[0m in \u001b[0;36m<module>\u001b[0;34m\u001b[0m\n\u001b[0;32m----> 1\u001b[0;31m X_train_1 = hstack((duration1, train_protocol, train_service, train_flag, src_bytes1,\n\u001b[0m\u001b[1;32m      2\u001b[0m        \u001b[0mdst_bytes1\u001b[0m\u001b[0;34m,\u001b[0m \u001b[0mland1\u001b[0m\u001b[0;34m.\u001b[0m\u001b[0mT\u001b[0m\u001b[0;34m,\u001b[0m \u001b[0mwrong_fragment1\u001b[0m\u001b[0;34m,\u001b[0m \u001b[0murgent1\u001b[0m\u001b[0;34m,\u001b[0m \u001b[0mhot1\u001b[0m\u001b[0;34m,\u001b[0m\u001b[0;34m\u001b[0m\u001b[0;34m\u001b[0m\u001b[0m\n\u001b[1;32m      3\u001b[0m        \u001b[0mnum_failed_logins1\u001b[0m\u001b[0;34m,\u001b[0m \u001b[0mlogged_in1\u001b[0m\u001b[0;34m.\u001b[0m\u001b[0mT\u001b[0m\u001b[0;34m,\u001b[0m \u001b[0mnum_compromised1\u001b[0m\u001b[0;34m,\u001b[0m \u001b[0mroot_shell1\u001b[0m\u001b[0;34m,\u001b[0m\u001b[0;34m\u001b[0m\u001b[0;34m\u001b[0m\u001b[0m\n\u001b[1;32m      4\u001b[0m        \u001b[0msu_attempted1\u001b[0m\u001b[0;34m,\u001b[0m \u001b[0mnum_root1\u001b[0m\u001b[0;34m,\u001b[0m \u001b[0mnum_file_creations1\u001b[0m\u001b[0;34m,\u001b[0m \u001b[0mnum_shells1\u001b[0m\u001b[0;34m,\u001b[0m\u001b[0;34m\u001b[0m\u001b[0;34m\u001b[0m\u001b[0m\n\u001b[1;32m      5\u001b[0m        \u001b[0mnum_access_files1\u001b[0m\u001b[0;34m,\u001b[0m \u001b[0mis_host_login1\u001b[0m\u001b[0;34m.\u001b[0m\u001b[0mT\u001b[0m\u001b[0;34m,\u001b[0m\u001b[0;34m\u001b[0m\u001b[0;34m\u001b[0m\u001b[0m\n",
      "\u001b[0;31mNameError\u001b[0m: name 'duration1' is not defined"
     ]
    }
   ],
   "source": [
    "X_train_1 = hstack((duration1, train_protocol, train_service, train_flag, src_bytes1,\n",
    "       dst_bytes1, land1.T, wrong_fragment1, urgent1, hot1,\n",
    "       num_failed_logins1, logged_in1.T, num_compromised1, root_shell1,\n",
    "       su_attempted1, num_root1, num_file_creations1, num_shells1,\n",
    "       num_access_files1, is_host_login1.T,\n",
    "       is_guest_login1.T, count1, srv_count1, serror_rate1,\n",
    "       srv_serror_rate1, rerror_rate1, srv_rerror_rate1, same_srv_rate1,\n",
    "       diff_srv_rate1, srv_diff_host_rate1, dst_host_count1,\n",
    "       dst_host_srv_count1, dst_host_same_srv_rate1,\n",
    "       dst_host_diff_srv_rate1, dst_host_same_src_port_rate1,\n",
    "       dst_host_srv_diff_host_rate1, dst_host_serror_rate1,\n",
    "       dst_host_srv_serror_rate1, dst_host_rerror_rate1,\n",
    "       dst_host_srv_rerror_rate1))"
   ]
  },
  {
   "cell_type": "code",
   "execution_count": 110,
   "metadata": {},
   "outputs": [
    {
     "data": {
      "text/plain": [
       "(109189, 115)"
      ]
     },
     "execution_count": 110,
     "metadata": {},
     "output_type": "execute_result"
    }
   ],
   "source": [
    "X_train_1.shape"
   ]
  },
  {
   "cell_type": "code",
   "execution_count": 111,
   "metadata": {},
   "outputs": [],
   "source": [
    "X_test_1 = hstack((duration2, test_protocol, test_service, test_flag, src_bytes2,\n",
    "       dst_bytes2, land2.T, wrong_fragment2, urgent2, hot2,\n",
    "       num_failed_logins2, logged_in2.T, num_compromised2, root_shell2,\n",
    "       su_attempted2, num_root2, num_file_creations2, num_shells2,\n",
    "       num_access_files2, is_host_login2.T,\n",
    "       is_guest_login2.T, count2, srv_count2, serror_rate2,\n",
    "       srv_serror_rate2, rerror_rate2, srv_rerror_rate2, same_srv_rate2,\n",
    "       diff_srv_rate2, srv_diff_host_rate2, dst_host_count2,\n",
    "       dst_host_srv_count2, dst_host_same_srv_rate2,\n",
    "       dst_host_diff_srv_rate2, dst_host_same_src_port_rate2,\n",
    "       dst_host_srv_diff_host_rate2, dst_host_serror_rate2,\n",
    "       dst_host_srv_serror_rate2, dst_host_rerror_rate2,\n",
    "       dst_host_srv_rerror_rate2))"
   ]
  },
  {
   "cell_type": "code",
   "execution_count": 112,
   "metadata": {},
   "outputs": [
    {
     "data": {
      "text/plain": [
       "(36397, 115)"
      ]
     },
     "execution_count": 112,
     "metadata": {},
     "output_type": "execute_result"
    }
   ],
   "source": [
    "X_test_1.shape"
   ]
  },
  {
   "cell_type": "code",
   "execution_count": 113,
   "metadata": {},
   "outputs": [],
   "source": [
    "import joblib\n",
    "joblib.dump(X_train_1,'X_train_1.pkl')\n",
    "joblib.dump(X_test_1,'X_test_1.pkl')\n",
    "X_train_1 = joblib.load('X_train_1.pkl')\n",
    "X_test_1 = joblib.load('X_test_1.pkl')"
   ]
  },
  {
   "cell_type": "code",
   "execution_count": 114,
   "metadata": {},
   "outputs": [],
   "source": [
    "joblib.dump(Y_train,'Y_train.pkl')\n",
    "joblib.dump(Y_test,'Y_test.pkl')\n",
    "Y_train = joblib.load('Y_train.pkl')\n",
    "Y_test = joblib.load('Y_test.pkl')"
   ]
  },
  {
   "cell_type": "markdown",
   "metadata": {},
   "source": [
    "<h3> Further Approach to our problem </h3>"
   ]
  },
  {
   "cell_type": "markdown",
   "metadata": {},
   "source": [
    "- <h6> We will first apply below classifiers on our dataset and evaluate their performance: </h6>\n",
    "    \n",
    "    \n",
    "    1. Naive Bayes\n",
    "    2. Logistic Regression\n",
    "    3. SVM \n",
    "    4. Decision Tree\n",
    "    5. Random Forest\n",
    "    6. GBDT / XGBoost\n",
    "    \n",
    "    \n",
    "- <h6> Based on the performance metric scores we obtain from the above classifiers, we will apply below feature engineering techniques on our dataset to get additional features: </h6>\n",
    "    \n",
    "    \n",
    "    1. Clustering features:- We will apply clustering on our dataset and add the clustering values as an additional feature to our dataset.\n",
    "    \n",
    "    2. PCA transformed features:- We will apply PCA/TSNE/SVD on the dataset and will use the top 5 PCA features as additional features on our dataset.  \n",
    "    \n",
    "    3. Feature engineering using existing features:- We will apply feature engineering techniques like \n",
    "        (i) Adding 2 existing features, (e.g. new_feature_1 = src_bytes + dst_bytes) \n",
    "        (ii)Subtracting 2 existing features, (e.g. new_feature_2 = abs(src_bytes - dst_bytes).\n",
    "        \n",
    "        \n",
    "        \n",
    "- <h6> We will then apply the best performing classifiers from dataset 1 on dataset 2 and evaluate their performance. </h6>"
   ]
  },
  {
   "cell_type": "markdown",
   "metadata": {},
   "source": [
    "<h2> Applying Machine Algorithms:- </h2>"
   ]
  },
  {
   "cell_type": "markdown",
   "metadata": {},
   "source": [
    "<h5> Utility Functions:- </h5>"
   ]
  },
  {
   "cell_type": "code",
   "execution_count": 115,
   "metadata": {},
   "outputs": [],
   "source": [
    "import datetime as dt\n",
    "from sklearn.metrics import accuracy_score, confusion_matrix, roc_auc_score, precision_score, recall_score, f1_score\n",
    "from sklearn.model_selection import GridSearchCV, RandomizedSearchCV\n",
    "import joblib"
   ]
  },
  {
   "cell_type": "code",
   "execution_count": 116,
   "metadata": {},
   "outputs": [],
   "source": [
    "def confusion_matrix_func(Y_test, y_test_pred):\n",
    "    '''\n",
    "    This function plots the confusion matrix heatmap using the actual and predicted values.\n",
    "    '''\n",
    "    C = confusion_matrix(Y_test, y_test_pred)\n",
    "    cm_df = pd.DataFrame(C)\n",
    "    labels = ['back', 'butter_overflow', 'loadmodule', 'guess_passwd', 'imap', 'ipsweep', 'warezmaster', 'rootkit', \n",
    "              'multihop', 'neptune', 'nmap', 'normal', 'phf', 'perl', 'pod', 'portsweep', 'ftp_write', 'satan', 'smurf',\n",
    "              'teardrop', 'warezclient', 'land']\n",
    "    plt.figure(figsize=(20,15))\n",
    "    sns.set(font_scale=1.4)\n",
    "    sns.heatmap(cm_df, annot=True, annot_kws={\"size\":12}, fmt='g', xticklabels=labels, yticklabels=labels)\n",
    "    plt.ylabel('Actual Class')\n",
    "    plt.xlabel('Predicted Class')\n",
    "    \n",
    "    plt.show()"
   ]
  },
  {
   "cell_type": "code",
   "execution_count": 117,
   "metadata": {},
   "outputs": [],
   "source": [
    "def model(model_name, X_train, Y_train, X_test, Y_test):\n",
    "    \n",
    "    '''\n",
    "    This function computes the performance scores on the train and test data.\n",
    "    '''\n",
    "    \n",
    "    print('Fitting the model and prediction on train data:')\n",
    "    start = dt.datetime.now()\n",
    "    model_name.fit(X_train, Y_train)\n",
    "    y_tr_pred = model_name.predict(X_train)\n",
    "    print('Completed')\n",
    "    print('Time taken:',dt.datetime.now()-start)\n",
    "    print('='*50)\n",
    "    \n",
    "    results_tr = dict()\n",
    "    y_tr_pred = model_name.predict(X_train)    \n",
    "    results_tr['precision'] = precision_score(Y_train, y_tr_pred, average='weighted')\n",
    "    results_tr['recall'] = recall_score(Y_train, y_tr_pred, average='weighted')\n",
    "    results_tr['f1_score'] = f1_score(Y_train, y_tr_pred, average='weighted')\n",
    "    \n",
    "    results_test = dict()\n",
    "    print('Prediction on test data:')\n",
    "    start = dt.datetime.now()\n",
    "    y_test_pred = model_name.predict(X_test)\n",
    "    print('Completed')\n",
    "    print('Time taken:',dt.datetime.now()-start)\n",
    "    print('='*50)\n",
    "    \n",
    "    print('Performance metrics:')\n",
    "    print('='*50)\n",
    "    print('Confusion Matrix is:')\n",
    "    confusion_matrix_func(Y_test, y_test_pred)\n",
    "    print('='*50)\n",
    "    results_test['precision'] = precision_score(Y_test, y_test_pred, average='weighted')\n",
    "    print('Precision score is:')\n",
    "    print(precision_score(Y_test, y_test_pred, average='weighted'))\n",
    "    print('='*50)\n",
    "    results_test['recall'] = recall_score(Y_test, y_test_pred, average='weighted')\n",
    "    print('Recall score is:')\n",
    "    print(recall_score(Y_test, y_test_pred, average='weighted'))\n",
    "    print('='*50)\n",
    "    results_test['f1_score'] = f1_score(Y_test, y_test_pred, average='weighted')\n",
    "    print('F1-score is:')\n",
    "    print(f1_score(Y_test, y_test_pred, average='weighted'))\n",
    "    # add the trained  model to the results\n",
    "    results_test['model'] = model\n",
    "    \n",
    "    return results_tr, results_test"
   ]
  },
  {
   "cell_type": "code",
   "execution_count": 118,
   "metadata": {},
   "outputs": [],
   "source": [
    "def print_grid_search_attributes(model):\n",
    "    \n",
    "    '''\n",
    "    This function prints all the grid search attributes\n",
    "    '''\n",
    "    \n",
    "    print('---------------------------')\n",
    "    print('|      Best Estimator     |')\n",
    "    print('---------------------------')\n",
    "    print('\\n\\t{}\\n'.format(model.best_estimator_))\n",
    "\n",
    "\n",
    "    # parameters that gave best results while performing grid search\n",
    "    print('---------------------------')\n",
    "    print('|     Best parameters     |')\n",
    "    print('---------------------------')\n",
    "    print('\\tParameters of best estimator : \\n\\n\\t{}\\n'.format(model.best_params_))\n",
    "\n",
    "\n",
    "    #  number of cross validation splits\n",
    "    print('----------------------------------')\n",
    "    print('|   No of CrossValidation sets   |')\n",
    "    print('----------------------------------')\n",
    "    print('\\n\\tTotal numbre of cross validation sets: {}\\n'.format(model.n_splits_))\n",
    "\n",
    "\n",
    "    # Average cross validated score of the best estimator, from the Grid Search \n",
    "    print('---------------------------')\n",
    "    print('|        Best Score       |')\n",
    "    print('---------------------------')\n",
    "    print('\\n\\tAverage Cross Validate scores of best estimator : \\n\\n\\t{}\\n'.format(model.best_score_))"
   ]
  },
  {
   "cell_type": "code",
   "execution_count": 119,
   "metadata": {},
   "outputs": [],
   "source": [
    "def tpr_fpr_func(Y_tr, Y_pred):\n",
    "    '''\n",
    "    This function computes the TPR and FPR scores using the actual and predicetd values\n",
    "    '''\n",
    "    results = dict()\n",
    "    Y_tr = Y_tr.to_list()\n",
    "    tp = 0; fp = 0; positives = 0; negatives = 0; length = len(Y_tr)\n",
    "    for i in range(len(Y_tr)):\n",
    "        if Y_tr[i]=='normal.':\n",
    "            positives += 1\n",
    "        else:\n",
    "            negatives += 1\n",
    "            \n",
    "    for i in range(len(Y_pred)):\n",
    "        if Y_tr[i]=='normal.' and Y_pred[i]=='normal.':\n",
    "            tp += 1\n",
    "        elif Y_tr[i]!='normal.' and Y_pred[i]=='normal.':\n",
    "            fp += 1\n",
    "            \n",
    "    tpr = tp/positives\n",
    "    fpr = fp/negatives\n",
    "    \n",
    "    results['tp'] = tp; results['tpr'] = tpr; results['fp'] = fp; results['fpr'] = fpr\n",
    "    \n",
    "    return results\n",
    "    "
   ]
  },
  {
   "cell_type": "markdown",
   "metadata": {},
   "source": [
    "<h3> Model_1 :- Gaussian Naive Bayes </h3>"
   ]
  },
  {
   "cell_type": "code",
   "execution_count": 120,
   "metadata": {},
   "outputs": [],
   "source": [
    "hyperparameter = {'var_smoothing':[10**x for x in range(-9,3)]}\n",
    "\n",
    "from sklearn.naive_bayes import GaussianNB\n",
    "nb = GaussianNB()\n",
    "nb_grid = GridSearchCV(nb, param_grid=hyperparameter, cv=5, verbose=1, n_jobs=-1)"
   ]
  },
  {
   "cell_type": "code",
   "execution_count": 121,
   "metadata": {},
   "outputs": [
    {
     "name": "stdout",
     "output_type": "stream",
     "text": [
      "Fitting the model and prediction on train data:\n",
      "Fitting 5 folds for each of 12 candidates, totalling 60 fits\n",
      "Completed\n",
      "Time taken: 0:00:19.535634\n",
      "==================================================\n",
      "Prediction on test data:\n",
      "Completed\n",
      "Time taken: 0:00:00.485023\n",
      "==================================================\n",
      "Performance metrics:\n",
      "==================================================\n",
      "Confusion Matrix is:\n"
     ]
    },
    {
     "data": {
      "image/png": "[encoded data removed]",
      "text/plain": [
       "<Figure size 1440x1080 with 2 Axes>"
      ]
     },
     "metadata": {
      "needs_background": "light"
     },
     "output_type": "display_data"
    },
    {
     "name": "stdout",
     "output_type": "stream",
     "text": [
      "==================================================\n",
      "Precision score is:\n",
      "0.9638699239207957\n",
      "==================================================\n",
      "Recall score is:\n",
      "0.9747506662637031\n",
      "==================================================\n",
      "F1-score is:\n",
      "0.9679689128273304\n"
     ]
    }
   ],
   "source": [
    "nb_grid_results_tr, nb_grid_results_test = model(nb_grid, X_train_1.toarray(), Y_train, X_test_1.toarray(), Y_test)"
   ]
  },
  {
   "cell_type": "code",
   "execution_count": 122,
   "metadata": {},
   "outputs": [
    {
     "name": "stdout",
     "output_type": "stream",
     "text": [
      "---------------------------\n",
      "|      Best Estimator     |\n",
      "---------------------------\n",
      "\n",
      "\tGaussianNB(var_smoothing=10)\n",
      "\n",
      "---------------------------\n",
      "|     Best parameters     |\n",
      "---------------------------\n",
      "\tParameters of best estimator : \n",
      "\n",
      "\t{'var_smoothing': 10}\n",
      "\n",
      "----------------------------------\n",
      "|   No of CrossValidation sets   |\n",
      "----------------------------------\n",
      "\n",
      "\tTotal numbre of cross validation sets: 5\n",
      "\n",
      "---------------------------\n",
      "|        Best Score       |\n",
      "---------------------------\n",
      "\n",
      "\tAverage Cross Validate scores of best estimator : \n",
      "\n",
      "\t0.9726804097747708\n",
      "\n"
     ]
    }
   ],
   "source": [
    "print_grid_search_attributes(nb_grid)"
   ]
  },
  {
   "cell_type": "code",
   "execution_count": 123,
   "metadata": {},
   "outputs": [
    {
     "data": {
      "text/plain": [
       "['nb_gs.pkl']"
      ]
     },
     "execution_count": 123,
     "metadata": {},
     "output_type": "execute_result"
    }
   ],
   "source": [
    "joblib.dump(nb_grid.best_estimator_, 'nb_gs.pkl')"
   ]
  },
  {
   "cell_type": "code",
   "execution_count": 124,
   "metadata": {},
   "outputs": [],
   "source": [
    "nb_gs = nb_grid.best_estimator_\n",
    "y_tr_pred = nb_gs.predict(X_train_1.toarray())\n",
    "y_test_pred = nb_gs.predict(X_test_1.toarray())\n",
    "tpr_fpr_train = tpr_fpr_func(Y_train, y_tr_pred)\n",
    "tpr_fpr_test = tpr_fpr_func(Y_test, y_test_pred)"
   ]
  },
  {
   "cell_type": "code",
   "execution_count": 125,
   "metadata": {},
   "outputs": [
    {
     "data": {
      "text/plain": [
       "{'tp': 65529,\n",
       " 'tpr': 0.9947627288459787,\n",
       " 'fp': 2258,\n",
       " 'fpr': 0.05212974720073878}"
      ]
     },
     "execution_count": 125,
     "metadata": {},
     "output_type": "execute_result"
    }
   ],
   "source": [
    "tpr_fpr_train"
   ]
  },
  {
   "cell_type": "code",
   "execution_count": 126,
   "metadata": {},
   "outputs": [
    {
     "data": {
      "text/plain": [
       "{'precision': 0.9630576928376071,\n",
       " 'recall': 0.9739351033529019,\n",
       " 'f1_score': 0.9668687892566603}"
      ]
     },
     "execution_count": 126,
     "metadata": {},
     "output_type": "execute_result"
    }
   ],
   "source": [
    "nb_grid_results_tr"
   ]
  },
  {
   "cell_type": "code",
   "execution_count": 127,
   "metadata": {},
   "outputs": [
    {
     "data": {
      "text/plain": [
       "{'tp': 21850, 'tpr': 0.9950815192640495, 'fp': 726, 'fpr': 0.05028049033866611}"
      ]
     },
     "execution_count": 127,
     "metadata": {},
     "output_type": "execute_result"
    }
   ],
   "source": [
    "tpr_fpr_test"
   ]
  },
  {
   "cell_type": "code",
   "execution_count": 128,
   "metadata": {},
   "outputs": [
    {
     "data": {
      "text/plain": [
       "{'precision': 0.9638699239207957,\n",
       " 'recall': 0.9747506662637031,\n",
       " 'f1_score': 0.9679689128273304,\n",
       " 'model': <function __main__.model(model_name, X_train, Y_train, X_test, Y_test)>}"
      ]
     },
     "execution_count": 128,
     "metadata": {},
     "output_type": "execute_result"
    }
   ],
   "source": [
    "nb_grid_results_test"
   ]
  },
  {
   "cell_type": "markdown",
   "metadata": {},
   "source": [
    "<h6> Observations from applying Naive Bayes Classifier:- </h6>\n",
    "\n",
    "\n",
    "\n",
    "    \n",
    "- The test data has 36397 total no. of points. Out of these, 21958 are points belonging to Normal connections and remaining 14439 points belong to Bad connections.\n",
    "    \n",
    "\n",
    "- Out of the 21958 Normal connection points, 21814 (99.34%) were classified correctly by the Naive Bayes Classifier.\n",
    "  \n",
    "  \n",
    "- Out of the 14439 points belonging to Bad connections, class Neptune has the highest no. of data points 12955, out of which 12954(99.99%) are classified correctly.\n",
    "    \n",
    "    \n",
    "- Out of the classes having very less no. of data points, class guess_passwd was classified with (12/13) 92.30% accuracy, class butter_overflow with (6/7) 85.71% accuracy,class warezmaster with(4/5) 80% accuracy, class land with(4/5) 80% accuracy, class imap with(0/3) 0% accuracy, class loadmodule with (1/2) 50% accuracy, class rootkit with(0/2) 0% accuracy, class multihop with (0/2) 0% accuracy, class ftp_write with(0/2) 0% accuracy, and classes phf and perl with both (1/1) 100% accuracy.\n",
    "    \n",
    "    \n",
    "- Although the Naive bayes Classifier was able to classify points with a high f1 score of 0.9670, we can use more advanced Non-linear and linear classifiers ahead and we will try to classify the Normal and bad connections with a higher f1-score.\n",
    "\n",
    "\n",
    "- false positives : 710\n",
    "\n",
    "\n",
    "- false positive rate : 0.049\n",
    "\n",
    "\n",
    "- true positive : 21814\n",
    "\n",
    "\n",
    "- true positive rate : 0.9934\n",
    "\n",
    "\n",
    "- As the train and test scores are almost similar and high, we can say that the model is \"NEITHER OVERFITTING NOR UNDERFITTING\"."
   ]
  },
  {
   "cell_type": "markdown",
   "metadata": {},
   "source": [
    "<h3> Model_2:- Logistic Regression </h3>"
   ]
  },
  {
   "cell_type": "code",
   "execution_count": 129,
   "metadata": {},
   "outputs": [],
   "source": [
    "hyperparameter = {'alpha':[0.001, 0.01, 0.1, 1, 10, 20, 30], 'penalty':['l1', 'l2']}\n",
    "from sklearn.linear_model import SGDClassifier\n",
    "lr = SGDClassifier(loss='log')\n",
    "lr_grid = GridSearchCV(lr, param_grid=hyperparameter, cv=5, verbose=1, n_jobs=-1)"
   ]
  },
  {
   "cell_type": "code",
   "execution_count": 130,
   "metadata": {},
   "outputs": [
    {
     "name": "stdout",
     "output_type": "stream",
     "text": [
      "Fitting the model and prediction on train data:\n",
      "Fitting 5 folds for each of 14 candidates, totalling 70 fits\n"
     ]
    },
    {
     "ename": "KeyboardInterrupt",
     "evalue": "",
     "output_type": "error",
     "traceback": [
      "\u001b[0;31m---------------------------------------------------------------------------\u001b[0m",
      "\u001b[0;31mKeyboardInterrupt\u001b[0m                         Traceback (most recent call last)",
      "\u001b[0;32m<ipython-input-130-4f466a070e41>\u001b[0m in \u001b[0;36m<module>\u001b[0;34m\u001b[0m\n\u001b[0;32m----> 1\u001b[0;31m \u001b[0mlr_grid_results_tr\u001b[0m\u001b[0;34m,\u001b[0m \u001b[0mlr_grid_results_test\u001b[0m \u001b[0;34m=\u001b[0m \u001b[0mmodel\u001b[0m\u001b[0;34m(\u001b[0m\u001b[0mlr_grid\u001b[0m\u001b[0;34m,\u001b[0m \u001b[0mX_train_1\u001b[0m\u001b[0;34m.\u001b[0m\u001b[0mtoarray\u001b[0m\u001b[0;34m(\u001b[0m\u001b[0;34m)\u001b[0m\u001b[0;34m,\u001b[0m \u001b[0mY_train\u001b[0m\u001b[0;34m,\u001b[0m \u001b[0mX_test_1\u001b[0m\u001b[0;34m.\u001b[0m\u001b[0mtoarray\u001b[0m\u001b[0;34m(\u001b[0m\u001b[0;34m)\u001b[0m\u001b[0;34m,\u001b[0m \u001b[0mY_test\u001b[0m\u001b[0;34m)\u001b[0m\u001b[0;34m\u001b[0m\u001b[0;34m\u001b[0m\u001b[0m\n\u001b[0m",
      "\u001b[0;32m<ipython-input-117-9c31dc69ad1c>\u001b[0m in \u001b[0;36mmodel\u001b[0;34m(model_name, X_train, Y_train, X_test, Y_test)\u001b[0m\n\u001b[1;32m      7\u001b[0m     \u001b[0mprint\u001b[0m\u001b[0;34m(\u001b[0m\u001b[0;34m'Fitting the model and prediction on train data:'\u001b[0m\u001b[0;34m)\u001b[0m\u001b[0;34m\u001b[0m\u001b[0;34m\u001b[0m\u001b[0m\n\u001b[1;32m      8\u001b[0m     \u001b[0mstart\u001b[0m \u001b[0;34m=\u001b[0m \u001b[0mdt\u001b[0m\u001b[0;34m.\u001b[0m\u001b[0mdatetime\u001b[0m\u001b[0;34m.\u001b[0m\u001b[0mnow\u001b[0m\u001b[0;34m(\u001b[0m\u001b[0;34m)\u001b[0m\u001b[0;34m\u001b[0m\u001b[0;34m\u001b[0m\u001b[0m\n\u001b[0;32m----> 9\u001b[0;31m     \u001b[0mmodel_name\u001b[0m\u001b[0;34m.\u001b[0m\u001b[0mfit\u001b[0m\u001b[0;34m(\u001b[0m\u001b[0mX_train\u001b[0m\u001b[0;34m,\u001b[0m \u001b[0mY_train\u001b[0m\u001b[0;34m)\u001b[0m\u001b[0;34m\u001b[0m\u001b[0;34m\u001b[0m\u001b[0m\n\u001b[0m\u001b[1;32m     10\u001b[0m     \u001b[0my_tr_pred\u001b[0m \u001b[0;34m=\u001b[0m \u001b[0mmodel_name\u001b[0m\u001b[0;34m.\u001b[0m\u001b[0mpredict\u001b[0m\u001b[0;34m(\u001b[0m\u001b[0mX_train\u001b[0m\u001b[0;34m)\u001b[0m\u001b[0;34m\u001b[0m\u001b[0;34m\u001b[0m\u001b[0m\n\u001b[1;32m     11\u001b[0m     \u001b[0mprint\u001b[0m\u001b[0;34m(\u001b[0m\u001b[0;34m'Completed'\u001b[0m\u001b[0;34m)\u001b[0m\u001b[0;34m\u001b[0m\u001b[0;34m\u001b[0m\u001b[0m\n",
      "\u001b[0;32m~/.local/lib/python3.8/site-packages/sklearn/model_selection/_search.py\u001b[0m in \u001b[0;36mfit\u001b[0;34m(self, X, y, groups, **fit_params)\u001b[0m\n\u001b[1;32m    889\u001b[0m                 \u001b[0;32mreturn\u001b[0m \u001b[0mresults\u001b[0m\u001b[0;34m\u001b[0m\u001b[0;34m\u001b[0m\u001b[0m\n\u001b[1;32m    890\u001b[0m \u001b[0;34m\u001b[0m\u001b[0m\n\u001b[0;32m--> 891\u001b[0;31m             \u001b[0mself\u001b[0m\u001b[0;34m.\u001b[0m\u001b[0m_run_search\u001b[0m\u001b[0;34m(\u001b[0m\u001b[0mevaluate_candidates\u001b[0m\u001b[0;34m)\u001b[0m\u001b[0;34m\u001b[0m\u001b[0;34m\u001b[0m\u001b[0m\n\u001b[0m\u001b[1;32m    892\u001b[0m \u001b[0;34m\u001b[0m\u001b[0m\n\u001b[1;32m    893\u001b[0m             \u001b[0;31m# multimetric is determined here because in the case of a callable\u001b[0m\u001b[0;34m\u001b[0m\u001b[0;34m\u001b[0m\u001b[0;34m\u001b[0m\u001b[0m\n",
      "\u001b[0;32m~/.local/lib/python3.8/site-packages/sklearn/model_selection/_search.py\u001b[0m in \u001b[0;36m_run_search\u001b[0;34m(self, evaluate_candidates)\u001b[0m\n\u001b[1;32m   1390\u001b[0m     \u001b[0;32mdef\u001b[0m \u001b[0m_run_search\u001b[0m\u001b[0;34m(\u001b[0m\u001b[0mself\u001b[0m\u001b[0;34m,\u001b[0m \u001b[0mevaluate_candidates\u001b[0m\u001b[0;34m)\u001b[0m\u001b[0;34m:\u001b[0m\u001b[0;34m\u001b[0m\u001b[0;34m\u001b[0m\u001b[0m\n\u001b[1;32m   1391\u001b[0m         \u001b[0;34m\"\"\"Search all candidates in param_grid\"\"\"\u001b[0m\u001b[0;34m\u001b[0m\u001b[0;34m\u001b[0m\u001b[0m\n\u001b[0;32m-> 1392\u001b[0;31m         \u001b[0mevaluate_candidates\u001b[0m\u001b[0;34m(\u001b[0m\u001b[0mParameterGrid\u001b[0m\u001b[0;34m(\u001b[0m\u001b[0mself\u001b[0m\u001b[0;34m.\u001b[0m\u001b[0mparam_grid\u001b[0m\u001b[0;34m)\u001b[0m\u001b[0;34m)\u001b[0m\u001b[0;34m\u001b[0m\u001b[0;34m\u001b[0m\u001b[0m\n\u001b[0m\u001b[1;32m   1393\u001b[0m \u001b[0;34m\u001b[0m\u001b[0m\n\u001b[1;32m   1394\u001b[0m \u001b[0;34m\u001b[0m\u001b[0m\n",
      "\u001b[0;32m~/.local/lib/python3.8/site-packages/sklearn/model_selection/_search.py\u001b[0m in \u001b[0;36mevaluate_candidates\u001b[0;34m(candidate_params, cv, more_results)\u001b[0m\n\u001b[1;32m    836\u001b[0m                     )\n\u001b[1;32m    837\u001b[0m \u001b[0;34m\u001b[0m\u001b[0m\n\u001b[0;32m--> 838\u001b[0;31m                 out = parallel(\n\u001b[0m\u001b[1;32m    839\u001b[0m                     delayed(_fit_and_score)(\n\u001b[1;32m    840\u001b[0m                         \u001b[0mclone\u001b[0m\u001b[0;34m(\u001b[0m\u001b[0mbase_estimator\u001b[0m\u001b[0;34m)\u001b[0m\u001b[0;34m,\u001b[0m\u001b[0;34m\u001b[0m\u001b[0;34m\u001b[0m\u001b[0m\n",
      "\u001b[0;32m~/.local/lib/python3.8/site-packages/joblib/parallel.py\u001b[0m in \u001b[0;36m__call__\u001b[0;34m(self, iterable)\u001b[0m\n\u001b[1;32m   1054\u001b[0m \u001b[0;34m\u001b[0m\u001b[0m\n\u001b[1;32m   1055\u001b[0m             \u001b[0;32mwith\u001b[0m \u001b[0mself\u001b[0m\u001b[0;34m.\u001b[0m\u001b[0m_backend\u001b[0m\u001b[0;34m.\u001b[0m\u001b[0mretrieval_context\u001b[0m\u001b[0;34m(\u001b[0m\u001b[0;34m)\u001b[0m\u001b[0;34m:\u001b[0m\u001b[0;34m\u001b[0m\u001b[0;34m\u001b[0m\u001b[0m\n\u001b[0;32m-> 1056\u001b[0;31m                 \u001b[0mself\u001b[0m\u001b[0;34m.\u001b[0m\u001b[0mretrieve\u001b[0m\u001b[0;34m(\u001b[0m\u001b[0;34m)\u001b[0m\u001b[0;34m\u001b[0m\u001b[0;34m\u001b[0m\u001b[0m\n\u001b[0m\u001b[1;32m   1057\u001b[0m             \u001b[0;31m# Make sure that we get a last message telling us we are done\u001b[0m\u001b[0;34m\u001b[0m\u001b[0;34m\u001b[0m\u001b[0;34m\u001b[0m\u001b[0m\n\u001b[1;32m   1058\u001b[0m             \u001b[0melapsed_time\u001b[0m \u001b[0;34m=\u001b[0m \u001b[0mtime\u001b[0m\u001b[0;34m.\u001b[0m\u001b[0mtime\u001b[0m\u001b[0;34m(\u001b[0m\u001b[0;34m)\u001b[0m \u001b[0;34m-\u001b[0m \u001b[0mself\u001b[0m\u001b[0;34m.\u001b[0m\u001b[0m_start_time\u001b[0m\u001b[0;34m\u001b[0m\u001b[0;34m\u001b[0m\u001b[0m\n",
      "\u001b[0;32m~/.local/lib/python3.8/site-packages/joblib/parallel.py\u001b[0m in \u001b[0;36mretrieve\u001b[0;34m(self)\u001b[0m\n\u001b[1;32m    933\u001b[0m             \u001b[0;32mtry\u001b[0m\u001b[0;34m:\u001b[0m\u001b[0;34m\u001b[0m\u001b[0;34m\u001b[0m\u001b[0m\n\u001b[1;32m    934\u001b[0m                 \u001b[0;32mif\u001b[0m \u001b[0mgetattr\u001b[0m\u001b[0;34m(\u001b[0m\u001b[0mself\u001b[0m\u001b[0;34m.\u001b[0m\u001b[0m_backend\u001b[0m\u001b[0;34m,\u001b[0m \u001b[0;34m'supports_timeout'\u001b[0m\u001b[0;34m,\u001b[0m \u001b[0;32mFalse\u001b[0m\u001b[0;34m)\u001b[0m\u001b[0;34m:\u001b[0m\u001b[0;34m\u001b[0m\u001b[0;34m\u001b[0m\u001b[0m\n\u001b[0;32m--> 935\u001b[0;31m                     \u001b[0mself\u001b[0m\u001b[0;34m.\u001b[0m\u001b[0m_output\u001b[0m\u001b[0;34m.\u001b[0m\u001b[0mextend\u001b[0m\u001b[0;34m(\u001b[0m\u001b[0mjob\u001b[0m\u001b[0;34m.\u001b[0m\u001b[0mget\u001b[0m\u001b[0;34m(\u001b[0m\u001b[0mtimeout\u001b[0m\u001b[0;34m=\u001b[0m\u001b[0mself\u001b[0m\u001b[0;34m.\u001b[0m\u001b[0mtimeout\u001b[0m\u001b[0;34m)\u001b[0m\u001b[0;34m)\u001b[0m\u001b[0;34m\u001b[0m\u001b[0;34m\u001b[0m\u001b[0m\n\u001b[0m\u001b[1;32m    936\u001b[0m                 \u001b[0;32melse\u001b[0m\u001b[0;34m:\u001b[0m\u001b[0;34m\u001b[0m\u001b[0;34m\u001b[0m\u001b[0m\n\u001b[1;32m    937\u001b[0m                     \u001b[0mself\u001b[0m\u001b[0;34m.\u001b[0m\u001b[0m_output\u001b[0m\u001b[0;34m.\u001b[0m\u001b[0mextend\u001b[0m\u001b[0;34m(\u001b[0m\u001b[0mjob\u001b[0m\u001b[0;34m.\u001b[0m\u001b[0mget\u001b[0m\u001b[0;34m(\u001b[0m\u001b[0;34m)\u001b[0m\u001b[0;34m)\u001b[0m\u001b[0;34m\u001b[0m\u001b[0;34m\u001b[0m\u001b[0m\n",
      "\u001b[0;32m~/.local/lib/python3.8/site-packages/joblib/_parallel_backends.py\u001b[0m in \u001b[0;36mwrap_future_result\u001b[0;34m(future, timeout)\u001b[0m\n\u001b[1;32m    540\u001b[0m         AsyncResults.get from multiprocessing.\"\"\"\n\u001b[1;32m    541\u001b[0m         \u001b[0;32mtry\u001b[0m\u001b[0;34m:\u001b[0m\u001b[0;34m\u001b[0m\u001b[0;34m\u001b[0m\u001b[0m\n\u001b[0;32m--> 542\u001b[0;31m             \u001b[0;32mreturn\u001b[0m \u001b[0mfuture\u001b[0m\u001b[0;34m.\u001b[0m\u001b[0mresult\u001b[0m\u001b[0;34m(\u001b[0m\u001b[0mtimeout\u001b[0m\u001b[0;34m=\u001b[0m\u001b[0mtimeout\u001b[0m\u001b[0;34m)\u001b[0m\u001b[0;34m\u001b[0m\u001b[0;34m\u001b[0m\u001b[0m\n\u001b[0m\u001b[1;32m    543\u001b[0m         \u001b[0;32mexcept\u001b[0m \u001b[0mCfTimeoutError\u001b[0m \u001b[0;32mas\u001b[0m \u001b[0me\u001b[0m\u001b[0;34m:\u001b[0m\u001b[0;34m\u001b[0m\u001b[0;34m\u001b[0m\u001b[0m\n\u001b[1;32m    544\u001b[0m             \u001b[0;32mraise\u001b[0m \u001b[0mTimeoutError\u001b[0m \u001b[0;32mfrom\u001b[0m \u001b[0me\u001b[0m\u001b[0;34m\u001b[0m\u001b[0;34m\u001b[0m\u001b[0m\n",
      "\u001b[0;32m/usr/lib/python3.8/concurrent/futures/_base.py\u001b[0m in \u001b[0;36mresult\u001b[0;34m(self, timeout)\u001b[0m\n\u001b[1;32m    437\u001b[0m                     \u001b[0;32mreturn\u001b[0m \u001b[0mself\u001b[0m\u001b[0;34m.\u001b[0m\u001b[0m__get_result\u001b[0m\u001b[0;34m(\u001b[0m\u001b[0;34m)\u001b[0m\u001b[0;34m\u001b[0m\u001b[0;34m\u001b[0m\u001b[0m\n\u001b[1;32m    438\u001b[0m \u001b[0;34m\u001b[0m\u001b[0m\n\u001b[0;32m--> 439\u001b[0;31m                 \u001b[0mself\u001b[0m\u001b[0;34m.\u001b[0m\u001b[0m_condition\u001b[0m\u001b[0;34m.\u001b[0m\u001b[0mwait\u001b[0m\u001b[0;34m(\u001b[0m\u001b[0mtimeout\u001b[0m\u001b[0;34m)\u001b[0m\u001b[0;34m\u001b[0m\u001b[0;34m\u001b[0m\u001b[0m\n\u001b[0m\u001b[1;32m    440\u001b[0m \u001b[0;34m\u001b[0m\u001b[0m\n\u001b[1;32m    441\u001b[0m                 \u001b[0;32mif\u001b[0m \u001b[0mself\u001b[0m\u001b[0;34m.\u001b[0m\u001b[0m_state\u001b[0m \u001b[0;32min\u001b[0m \u001b[0;34m[\u001b[0m\u001b[0mCANCELLED\u001b[0m\u001b[0;34m,\u001b[0m \u001b[0mCANCELLED_AND_NOTIFIED\u001b[0m\u001b[0;34m]\u001b[0m\u001b[0;34m:\u001b[0m\u001b[0;34m\u001b[0m\u001b[0;34m\u001b[0m\u001b[0m\n",
      "\u001b[0;32m/usr/lib/python3.8/threading.py\u001b[0m in \u001b[0;36mwait\u001b[0;34m(self, timeout)\u001b[0m\n\u001b[1;32m    300\u001b[0m         \u001b[0;32mtry\u001b[0m\u001b[0;34m:\u001b[0m    \u001b[0;31m# restore state no matter what (e.g., KeyboardInterrupt)\u001b[0m\u001b[0;34m\u001b[0m\u001b[0;34m\u001b[0m\u001b[0m\n\u001b[1;32m    301\u001b[0m             \u001b[0;32mif\u001b[0m \u001b[0mtimeout\u001b[0m \u001b[0;32mis\u001b[0m \u001b[0;32mNone\u001b[0m\u001b[0;34m:\u001b[0m\u001b[0;34m\u001b[0m\u001b[0;34m\u001b[0m\u001b[0m\n\u001b[0;32m--> 302\u001b[0;31m                 \u001b[0mwaiter\u001b[0m\u001b[0;34m.\u001b[0m\u001b[0macquire\u001b[0m\u001b[0;34m(\u001b[0m\u001b[0;34m)\u001b[0m\u001b[0;34m\u001b[0m\u001b[0;34m\u001b[0m\u001b[0m\n\u001b[0m\u001b[1;32m    303\u001b[0m                 \u001b[0mgotit\u001b[0m \u001b[0;34m=\u001b[0m \u001b[0;32mTrue\u001b[0m\u001b[0;34m\u001b[0m\u001b[0;34m\u001b[0m\u001b[0m\n\u001b[1;32m    304\u001b[0m             \u001b[0;32melse\u001b[0m\u001b[0;34m:\u001b[0m\u001b[0;34m\u001b[0m\u001b[0;34m\u001b[0m\u001b[0m\n",
      "\u001b[0;31mKeyboardInterrupt\u001b[0m: "
     ]
    }
   ],
   "source": [
    "lr_grid_results_tr, lr_grid_results_test = model(lr_grid, X_train_1.toarray(), Y_train, X_test_1.toarray(), Y_test)"
   ]
  },
  {
   "cell_type": "code",
   "execution_count": null,
   "metadata": {},
   "outputs": [],
   "source": [
    "print_grid_search_attributes(lr_grid)"
   ]
  },
  {
   "cell_type": "code",
   "execution_count": null,
   "metadata": {},
   "outputs": [],
   "source": [
    "joblib.dump(lr_grid.best_estimator_, 'lr_gs.pkl')"
   ]
  },
  {
   "cell_type": "code",
   "execution_count": null,
   "metadata": {},
   "outputs": [],
   "source": [
    "lr_gs = lr_grid.best_estimator_\n",
    "y_tr_pred = lr_gs.predict(X_train_1.toarray())\n",
    "y_test_pred = lr_gs.predict(X_test_1.toarray())\n",
    "tpr_fpr_train = tpr_fpr_func(Y_train, y_tr_pred)\n",
    "tpr_fpr_test = tpr_fpr_func(Y_test, y_test_pred)"
   ]
  },
  {
   "cell_type": "code",
   "execution_count": null,
   "metadata": {},
   "outputs": [],
   "source": [
    "lr_grid_results_tr"
   ]
  },
  {
   "cell_type": "code",
   "execution_count": null,
   "metadata": {},
   "outputs": [],
   "source": [
    "tpr_fpr_train"
   ]
  },
  {
   "cell_type": "code",
   "execution_count": null,
   "metadata": {},
   "outputs": [],
   "source": [
    "lr_grid_results_test"
   ]
  },
  {
   "cell_type": "code",
   "execution_count": null,
   "metadata": {},
   "outputs": [],
   "source": [
    "tpr_fpr_test"
   ]
  },
  {
   "cell_type": "markdown",
   "metadata": {},
   "source": [
    "<h6> Observations from applying Logistic Regression Classifier:- </h6>\n",
    "\n",
    "\n",
    "- Out of the 21958 Normal connection points, 21918 (99.81%) were correctly classified by the LR Classifier.\n",
    "    \n",
    "\n",
    "- Out of the 14439 points belonging to Bad connections, class Neptune has the highest no. of data points 12955, out of which 12950(99.96%) were classified correctly.\n",
    "    \n",
    "\n",
    "- Out of the classes having very less no. of data points, class guess_passwd was classified with (13/13) 100% accuracy, class butter_overflow with (2/7) 28.15% accuracy, class warezmaster with(0/5) 0% accuracy, class land with(4/5) 80% accuracy, class imap with(0/3) 0% accuracy, class loadmodule with (0/2) 0% accuracy, class rootkit with(0/2) 0% accuracy, class multihop with (0/2) 0% accuracy, class ftp_write with(0/2) 0% accuracy, and class phf with (0/1)\n",
    "0% accuracy and class perl with (0/1) 0% accuracy.\n",
    "        \n",
    "\n",
    "- Classes with very low no. of data points like loadmodule, multihop, ftp_write, phf were not classified correctly by this classifier.\n",
    "    \n",
    "\n",
    "- The Logistic Regression Classifier was able to classify points with a high f1 score of 0.9819 compared to the Naive Bayes Classifier. \n",
    "        \n",
    "\n",
    "- From the good performance of the Logistic Regression model, we can conclude that the data has some linearity in the higher dimensional space which was not visible in the lower dimensional 2D pair plots and Tsne transformed 2D space.\n",
    "\n",
    "\n",
    "- True Postives = 21918\n",
    "\n",
    "\n",
    "- TPR = 0.9981\n",
    "\n",
    "\n",
    "- False Positives = 399\n",
    "\n",
    "\n",
    "- FPR = 0.0276\n",
    "\n",
    "\n",
    "- LR model has a lower FPR and higher TPR than the NB Classifier.\n",
    "\n",
    "\n",
    "- As the train and test scores are almost similar and high, we can say that the LR model is \"NEITHER OVERFITTING NOR UNDERFITTING\"."
   ]
  },
  {
   "cell_type": "markdown",
   "metadata": {},
   "source": [
    "<h3> Model_3 :- SVM (SGD_Classifier with loss='hinge') </h3>"
   ]
  },
  {
   "cell_type": "code",
   "execution_count": null,
   "metadata": {},
   "outputs": [],
   "source": [
    "hyperparameter = {'alpha':[10**x for x in range(-8,3)], 'penalty':['l1', 'l2']}\n",
    "\n",
    "from sklearn.linear_model import SGDClassifier\n",
    "svm = SGDClassifier(loss='hinge')\n",
    "svm_grid = GridSearchCV(svm, param_grid=hyperparameter, cv=5, verbose=1, n_jobs=-1)"
   ]
  },
  {
   "cell_type": "code",
   "execution_count": null,
   "metadata": {},
   "outputs": [],
   "source": [
    "svm_grid_results_tr, svm_grid_results_test = model(svm_grid, X_train_1.toarray(), Y_train, X_test_1.toarray(), Y_test)"
   ]
  },
  {
   "cell_type": "code",
   "execution_count": null,
   "metadata": {},
   "outputs": [],
   "source": [
    "print_grid_search_attributes(svm_grid)"
   ]
  },
  {
   "cell_type": "code",
   "execution_count": null,
   "metadata": {},
   "outputs": [],
   "source": [
    "joblib.dump(svm_grid.best_estimator_, 'svm_gs.pkl')"
   ]
  },
  {
   "cell_type": "code",
   "execution_count": null,
   "metadata": {},
   "outputs": [],
   "source": [
    "svm_gs = svm_grid.best_estimator_\n",
    "y_tr_pred = svm_gs.predict(X_train_1.toarray())\n",
    "y_test_pred = svm_gs.predict(X_test_1.toarray())\n",
    "svm_tpr_fpr_train = tpr_fpr_func(Y_train, y_tr_pred)\n",
    "svm_tpr_fpr_test = tpr_fpr_func(Y_test, y_test_pred)"
   ]
  },
  {
   "cell_type": "code",
   "execution_count": null,
   "metadata": {},
   "outputs": [],
   "source": [
    "svm_grid_results_tr"
   ]
  },
  {
   "cell_type": "code",
   "execution_count": null,
   "metadata": {},
   "outputs": [],
   "source": [
    "svm_tpr_fpr_train"
   ]
  },
  {
   "cell_type": "code",
   "execution_count": null,
   "metadata": {},
   "outputs": [],
   "source": [
    "svm_grid_results_test"
   ]
  },
  {
   "cell_type": "code",
   "execution_count": null,
   "metadata": {},
   "outputs": [],
   "source": [
    "svm_tpr_fpr_test"
   ]
  },
  {
   "cell_type": "markdown",
   "metadata": {},
   "source": [
    "<h6> Observations from applying SVM Classifier (SGD Classifier + \"hinge\" loss):- </h6>\n",
    "\n",
    "\n",
    "    \n",
    "    \n",
    "- Out of the 21958 Normal connection points, 21931 (99.85%) were correctly classified by the SVM Classifier.\n",
    "    \n",
    "\n",
    "- Out of the 17409 points belonging to Bad connections, class Neptune has the highest no. of data points 12955, out of which 12954(99.99%) were classified correctly.\n",
    "    \n",
    "\n",
    "- Out of the classes having very less no. of data points, class guess_passwd was classified with (13/13) 100.0% accuracy, class buffer_overflow with (1/7) 14.71% accuracy,class warezmaster with(3/5) 60% accuracy, class land with(4/5) 80% accuracy, class imap with(3/3) 100% accuracy, class loadmodule with (0/2) 0% accuracy, class rootkit with(0/2) 0% accuracy, class multihop with (0/2) 0% accuracy, class ftp_write with(0/2) 0% accuracy, and class phf with (1/1)100% accuracy and class perl with (0/1) 0% accuracy.\n",
    " \n",
    " \n",
    "- The SVM Classifier was able to classify points with a high f1 score of 0.9966 compared to Naive Bayes and LR Classifiers. \n",
    "        \n",
    "\n",
    "\n",
    "- True Postives = 21931\n",
    "\n",
    "\n",
    "- TPR = 0.9985\n",
    "\n",
    "\n",
    "- False Positives = 63\n",
    "\n",
    "\n",
    "- FPR = 0.0043\n",
    "\n",
    "\n",
    "- The SVM Classifier has the lowest FPR and highest FPR than the NB and LR models.\n",
    "\n",
    "\n",
    "- As the train and test scores are almost similar and high, we can say that the LR model is \"NEITHER OVERFITTING NOR UNDERFITTING\""
   ]
  },
  {
   "cell_type": "markdown",
   "metadata": {},
   "source": [
    "<h3> Model_4 :- Decision Tree </h3>"
   ]
  },
  {
   "cell_type": "code",
   "execution_count": null,
   "metadata": {},
   "outputs": [],
   "source": [
    "hyperparameter = {'max_depth':[5, 10, 20, 50, 100, 500], 'min_samples_split':[5, 10, 100, 500]}\n",
    "\n",
    "from sklearn.tree import DecisionTreeClassifier\n",
    "decision_tree = DecisionTreeClassifier(criterion='gini', splitter='best',class_weight='balanced')\n",
    "decision_tree_grid = GridSearchCV(decision_tree, param_grid=hyperparameter, cv=3, verbose=1, n_jobs=-1)"
   ]
  },
  {
   "cell_type": "code",
   "execution_count": null,
   "metadata": {},
   "outputs": [],
   "source": [
    "decision_tree_grid_results_tr, decision_tree_grid_results_test = model(decision_tree_grid, X_train_1.toarray(), Y_train, X_test_1.toarray(), Y_test)"
   ]
  },
  {
   "cell_type": "code",
   "execution_count": null,
   "metadata": {},
   "outputs": [],
   "source": [
    "print_grid_search_attributes(decision_tree_grid)"
   ]
  },
  {
   "cell_type": "code",
   "execution_count": null,
   "metadata": {},
   "outputs": [],
   "source": [
    "joblib.dump(decision_tree_grid.best_estimator_, 'decision_tree_gs.pkl')"
   ]
  },
  {
   "cell_type": "code",
   "execution_count": null,
   "metadata": {},
   "outputs": [],
   "source": [
    "dt_gs = decision_tree_grid.best_estimator_\n",
    "y_tr_pred = dt_gs.predict(X_train_1.toarray())\n",
    "y_test_pred = dt_gs.predict(X_test_1.toarray())\n",
    "dt_tpr_fpr_train = tpr_fpr_func(Y_train, y_tr_pred)\n",
    "dt_tpr_fpr_test = tpr_fpr_func(Y_test, y_test_pred)"
   ]
  },
  {
   "cell_type": "code",
   "execution_count": null,
   "metadata": {},
   "outputs": [],
   "source": [
    "decision_tree_grid_results_tr"
   ]
  },
  {
   "cell_type": "code",
   "execution_count": null,
   "metadata": {},
   "outputs": [],
   "source": [
    "dt_tpr_fpr_train"
   ]
  },
  {
   "cell_type": "code",
   "execution_count": null,
   "metadata": {},
   "outputs": [],
   "source": [
    "decision_tree_grid_results_test"
   ]
  },
  {
   "cell_type": "code",
   "execution_count": null,
   "metadata": {},
   "outputs": [],
   "source": [
    "dt_tpr_fpr_test"
   ]
  },
  {
   "cell_type": "markdown",
   "metadata": {},
   "source": [
    "<h6> Observations from applying Decision Tree Classifier:- </h6>\n",
    "\n",
    "\n",
    "    \n",
    "    \n",
    "- Out of the 21958 Normal connection points, 21934 (99.89%) were correctly classified by the Decision Tree Classifier.\n",
    "    \n",
    "\n",
    "- Out of the 14439 points belonging to Bad connections, class Neptune has the highest no. of data points 12955, out of which 12953(99.98%) were classified correctly.\n",
    " \n",
    " \n",
    "- Out of the classes having very less no. of data points, class guess_passwd was classified with (13/13) 100% accuracy, class butter_overflow with (6/7) 85.71% accuracy, class warezmaster with(5/5) 100% accuracy, class land with(4/5) 80% accuracy, class imap with(3/3) 100% accuracy, class loadmodule with (0/2) 0% accuracy, class rootkit with(1/2) 50% accuracy, class multihop with (1/2) 50% accuracy, class ftp_write with(0/2) 0% accuracy, class phf with (1/1) 100% accuracy and class perl with (1/1) 100% accuracy.\n",
    "    \n",
    "    \n",
    "- The Decision Tree Classifier was able to classify points with a higher f1 score of 0.9986 compared to all the previous Classifiers. \n",
    "\n",
    "\n",
    "- True Postives = 21937\n",
    "\n",
    "\n",
    "- TPR = 0.9990\n",
    "\n",
    "\n",
    "- False Positives = 19\n",
    "\n",
    "\n",
    "- FPR = 0.0013\n",
    "\n",
    "\n",
    "- The DT Classifier has the lowest FPR and highest TPR compared to all of the above models.\n",
    "\n",
    "\n",
    "- Thus, we can say that a non linear ML model like DT is able to learn the pattern from the data better compared to the linear classifiers.\n",
    "        "
   ]
  },
  {
   "cell_type": "markdown",
   "metadata": {},
   "source": [
    "<h3> Model_5 :- Random Forest </h3>"
   ]
  },
  {
   "cell_type": "code",
   "execution_count": null,
   "metadata": {},
   "outputs": [],
   "source": [
    "hyperparameter = {'max_depth':[5, 10, 100, 500, 1000], 'n_estimators': [5, 10, 50, 100, 500],\n",
    "                  'min_samples_split':[5, 10, 100, 500]}\n",
    "\n",
    "from sklearn.ensemble import RandomForestClassifier\n",
    "rf = RandomForestClassifier(criterion='gini',class_weight='balanced')\n",
    "rf_grid = GridSearchCV(rf, param_grid=hyperparameter, cv=3, verbose=1, n_jobs=-1)"
   ]
  },
  {
   "cell_type": "code",
   "execution_count": null,
   "metadata": {},
   "outputs": [],
   "source": [
    "rf_grid_results_tr, rf_grid_results_test = model(rf_grid, X_train_1.toarray(), Y_train, X_test_1.toarray(), Y_test)"
   ]
  },
  {
   "cell_type": "code",
   "execution_count": null,
   "metadata": {},
   "outputs": [],
   "source": [
    "print_grid_search_attributes(rf_grid)"
   ]
  },
  {
   "cell_type": "code",
   "execution_count": null,
   "metadata": {},
   "outputs": [],
   "source": [
    "rf_gs = rf_grid.best_estimator_\n",
    "y_tr_pred = rf_gs.predict(X_train_1.toarray())\n",
    "y_test_pred = rf_gs.predict(X_test_1.toarray())\n",
    "rf_tpr_fpr_train = tpr_fpr_func(Y_train, y_tr_pred)\n",
    "rf_tpr_fpr_test = tpr_fpr_func(Y_test, y_test_pred)"
   ]
  },
  {
   "cell_type": "code",
   "execution_count": null,
   "metadata": {},
   "outputs": [],
   "source": [
    "rf_grid_results_tr"
   ]
  },
  {
   "cell_type": "code",
   "execution_count": null,
   "metadata": {},
   "outputs": [],
   "source": [
    "rf_tpr_fpr_train"
   ]
  },
  {
   "cell_type": "code",
   "execution_count": null,
   "metadata": {},
   "outputs": [],
   "source": [
    "rf_grid_results_test"
   ]
  },
  {
   "cell_type": "code",
   "execution_count": null,
   "metadata": {},
   "outputs": [],
   "source": [
    "rf_tpr_fpr_test"
   ]
  },
  {
   "cell_type": "code",
   "execution_count": null,
   "metadata": {},
   "outputs": [],
   "source": [
    "joblib.dump(rf_grid.best_estimator_, 'rf_gs.pkl')"
   ]
  },
  {
   "cell_type": "markdown",
   "metadata": {},
   "source": [
    "<h6> Observations from applying Random Forest Classifier:- </h6>\n",
    "\n",
    "\n",
    "    \n",
    "    \n",
    "- Out of the 21958 Normal connection points, 21954 (99.98%) were correctly classified by the RF Classifier.\n",
    "    \n",
    "\n",
    "- Out of the 17409 points belonging to Bad connections, class Neptune has the highest no. of data points 12955, out of which 12954(99.99%) were classified correctly.\n",
    "    \n",
    "\n",
    "- Out of the classes having very less no. of data points, class guess_passwd was classified with (13/13) 100% accuracy, class butter_overflow with (6/7) 85.71% accuracy, class warezmaster with(5/5) 100% accuracy, class land with(4/5) 80% accuracy, class imap with(2/3) 66.67% accuracy, class loadmodule with (1/2) 50% accuracy, class rootkit with(0/2) 0% accuracy, class multihop with (1/2) 50% accuracy, class ftp_write with(0/2) 0% accuracy, class phf with (1/1) 100% accuracy and class perl with (1/1) 100% accuracy.\n",
    "    \n",
    "\n",
    "- The RF Classifier was able to classify the Normal connection points with the highest f1_score compared to all of the above classifiers. \n",
    "        \n",
    "\n",
    "- But this classifier was still unable to correctly classify bad connection classes like loadmodule, rootkit and ftp_write.\n",
    "\n",
    "\n",
    "- True Postives = 21954\n",
    "\n",
    "\n",
    "- TPR = 0.9998\n",
    "\n",
    "\n",
    "- False Positives = 19\n",
    "\n",
    "\n",
    "- FPR = 0.0013\n",
    "\n",
    "\n",
    "- The RF Classifier has a lower FPR compared to the DT model.\n",
    "\n",
    "\n",
    "- As the train and test metrics like f1-score, tpr and fpr are almost similar, the model is NOT OVERFITTING.\n",
    "\n",
    "        "
   ]
  },
  {
   "cell_type": "markdown",
   "metadata": {},
   "source": [
    "<h3> Model_6 :- XGBoost </h3>"
   ]
  },
  {
   "cell_type": "code",
   "execution_count": null,
   "metadata": {},
   "outputs": [],
   "source": [
    "hyperparameter = {'max_depth':[2, 3, 5, 7, 10], 'n_estimators': [10, 50, 100, 200, 500]}\n",
    "\n",
    "from xgboost import XGBClassifier\n",
    "xgb = XGBClassifier(objective='multi:softprob')\n",
    "xgb_grid = RandomizedSearchCV(xgb, param_distributions=hyperparameter, cv=3, verbose=1, n_jobs=-1)"
   ]
  },
  {
   "cell_type": "code",
   "execution_count": null,
   "metadata": {},
   "outputs": [],
   "source": [
    "xgb_best = xgb_grid.best_estimator_"
   ]
  },
  {
   "cell_type": "code",
   "execution_count": null,
   "metadata": {},
   "outputs": [],
   "source": [
    "xgb_grid_results_tr, xgb_grid_results_test = model(xgb_best, X_train_1.toarray(), Y_train, X_test_1.toarray(), Y_test)"
   ]
  },
  {
   "cell_type": "code",
   "execution_count": null,
   "metadata": {},
   "outputs": [],
   "source": [
    "print_grid_search_attributes(xgb_grid)"
   ]
  },
  {
   "cell_type": "code",
   "execution_count": null,
   "metadata": {},
   "outputs": [],
   "source": [
    "xgb_gs = xgb_grid.best_estimator_\n",
    "y_tr_pred = xgb_gs.predict(X_train_1.toarray())\n",
    "y_test_pred = xgb_gs.predict(X_test_1.toarray())\n",
    "xgb_tpr_fpr_train = tpr_fpr_func(Y_train, y_tr_pred)\n",
    "xgb_tpr_fpr_test = tpr_fpr_func(Y_test, y_test_pred)"
   ]
  },
  {
   "cell_type": "code",
   "execution_count": null,
   "metadata": {},
   "outputs": [],
   "source": [
    "xgb_grid_results_tr"
   ]
  },
  {
   "cell_type": "code",
   "execution_count": null,
   "metadata": {},
   "outputs": [],
   "source": [
    "xgb_tpr_fpr_train"
   ]
  },
  {
   "cell_type": "code",
   "execution_count": null,
   "metadata": {},
   "outputs": [],
   "source": [
    "xgb_grid_results_test"
   ]
  },
  {
   "cell_type": "code",
   "execution_count": null,
   "metadata": {},
   "outputs": [],
   "source": [
    "xgb_tpr_fpr_test"
   ]
  },
  {
   "cell_type": "code",
   "execution_count": null,
   "metadata": {},
   "outputs": [],
   "source": [
    "joblib.dump(xgb_grid.best_estimator_, 'xgb_gs.pkl')"
   ]
  },
  {
   "cell_type": "markdown",
   "metadata": {},
   "source": [
    "<h6> Observations from applying XG Boost Classifier:- </h6>\n",
    "\n",
    "\n",
    "    \n",
    "    \n",
    "- Out of the 21958 Normal connection points, 21955 (99.98%) were correctly classified by the XGB Classifier.\n",
    "\n",
    "\n",
    "- Out of the 17409 points belonging to Bad connections, class Neptune has the highest no. of data points 12955, out of which 12955(100.0%) were classified correctly.\n",
    "\n",
    "\n",
    "- Out of the classes having very less no. of data points, class guess_passwd was classified with (12/13) 92.30% accuracy, class butter_overflow with (7/7) 100.0% accuracy, class warezmaster with(4/5) 80% accuracy, class land with(5/5) 100% accuracy, class imap with(3/3) 100% accuracy, class loadmodule with (0/2) 0% accuracy, class rootkit with(0/2) 0% accuracy, class multihop with (0/2) 0% accuracy, class ftp_write with(1/2) 50% accuracy, class phf with (1/1) 100% accuracy and class perl with (1/1) 100% accuracy.\n",
    "\n",
    "    \n",
    "- The XGB Classifier was able to classify different classes with the highest f1-score(0.9994) comapred to all of the above models.\n",
    "\n",
    "\n",
    "- True Postives = 21955\n",
    "\n",
    "\n",
    "- TPR = 0.9998\n",
    "\n",
    "\n",
    "- False Positives = 12\n",
    "\n",
    "\n",
    "- FPR = 0.00083\n",
    "\n",
    "\n",
    "- The XGB Classifier has the highest TPR and lowest FPR compared to all of the previous models.\n",
    "\n",
    "\n",
    "- As the train and test metrics like f1-score, tpr and fpr are almost similar, the model is NOT OVERFITTING."
   ]
  },
  {
   "cell_type": "markdown",
   "metadata": {},
   "source": [
    "\n",
    "\n",
    "<h2> Observation from ALL of the above classifiers:- </h2>"
   ]
  },
  {
   "cell_type": "markdown",
   "metadata": {},
   "source": [
    "- If we consider NORMAL connection points as 1 class and points belonging to all the other 22 BAD connection classes as the 2nd class, then XGB Classifier is the best classifier as it has a TPR and FPR of 0.9998 and 0.0011.\n",
    "\n",
    "\n",
    "- Although XGB classifier had a better f1_score than the RF classifier, if we go into details of the confusion matrix scores, we can observe that both classifiers have performed similarly on the different categories of attacks on our  dataset.\n",
    "\n",
    "\n",
    "- The RF Classifier has TPR and FPR of 0.9998 and 0.0013.\n",
    "    \n",
    "\n",
    "- The overall time taken for training + evaluation was less for the RF and DT classifiers compared to the XGB classifier.\n",
    "\n",
    "\n",
    "<h6> As the train and test metrics like f1-score, tpr and fpr have almost similar scores for train and test dataseta, the models are NOT OVERFITTING. </h6>\n",
    "    \n",
    "\n",
    "- A common pattern shown by all of the classifiers is that classes rootkit, ftp_write and loadmodule were misclassified as class Normal by most of the classifiers.\n",
    "        \n",
    "\n",
    "- We will add more features in our dataset and try to improve the classifier performance.\n",
    "    \n",
    "\n",
    "- As DT, RF & XGB had the best performance, we will use these 3 classifiers ahead on the existing + feature engineered data."
   ]
  },
  {
   "cell_type": "markdown",
   "metadata": {},
   "source": [
    "<h2> Adding new features:- </h2>"
   ]
  },
  {
   "cell_type": "markdown",
   "metadata": {},
   "source": [
    "<h3> 1. Clustering features (using MiniBatchKmeans):- </h3>"
   ]
  },
  {
   "cell_type": "markdown",
   "metadata": {},
   "source": [
    "https://scikit-learn.org/stable/modules/generated/sklearn.cluster.MiniBatchKMeans.html"
   ]
  },
  {
   "cell_type": "markdown",
   "metadata": {},
   "source": [
    "<h6> KMeans with n=23 (for Multiclass Classification):- </h6>"
   ]
  },
  {
   "cell_type": "code",
   "execution_count": null,
   "metadata": {},
   "outputs": [],
   "source": [
    "data = pd.read_pickle('data.pkl')\n",
    "print('Shape of our dataset', data.shape)"
   ]
  },
  {
   "cell_type": "code",
   "execution_count": null,
   "metadata": {},
   "outputs": [],
   "source": [
    "from sklearn.cluster import MiniBatchKMeans\n",
    "import numpy as np"
   ]
  },
  {
   "cell_type": "code",
   "execution_count": null,
   "metadata": {},
   "outputs": [],
   "source": [
    "kmeans_1 = MiniBatchKMeans(n_clusters=23, random_state=0, batch_size=128, max_iter=1000) #Multiclass classification\n",
    "kmeans_1.fit(X_train_1)"
   ]
  },
  {
   "cell_type": "code",
   "execution_count": null,
   "metadata": {},
   "outputs": [],
   "source": [
    "train_cluster_1 = kmeans_1.predict(X_train_1)\n",
    "test_cluster_1 = kmeans_1.predict(X_test_1)"
   ]
  },
  {
   "cell_type": "code",
   "execution_count": null,
   "metadata": {},
   "outputs": [],
   "source": [
    "print('Length of train cluster is:',len(train_cluster_1))\n",
    "train_cluster_1"
   ]
  },
  {
   "cell_type": "code",
   "execution_count": null,
   "metadata": {},
   "outputs": [],
   "source": [
    "print('Length of test cluster is',len(test_cluster_1))\n",
    "test_cluster_1"
   ]
  },
  {
   "cell_type": "code",
   "execution_count": null,
   "metadata": {},
   "outputs": [],
   "source": [
    "train_cluster_1 = np.array([train_cluster_1])\n",
    "train_cluster_1.shape"
   ]
  },
  {
   "cell_type": "code",
   "execution_count": null,
   "metadata": {},
   "outputs": [],
   "source": [
    "test_cluster_1 = np.array([test_cluster_1])\n",
    "test_cluster_1.shape"
   ]
  },
  {
   "cell_type": "markdown",
   "metadata": {},
   "source": [
    "<h6> KMeans with n=2 (for solving Binary Classification problem to improve TPR and reduce FPR):- </h6>"
   ]
  },
  {
   "cell_type": "code",
   "execution_count": null,
   "metadata": {},
   "outputs": [],
   "source": [
    "kmeans_2 = MiniBatchKMeans(n_clusters=2, random_state=0, batch_size=128, max_iter=1000) #Binary Classification\n",
    "kmeans_2.fit(X_train_1)"
   ]
  },
  {
   "cell_type": "code",
   "execution_count": null,
   "metadata": {},
   "outputs": [],
   "source": [
    "train_cluster_2 = kmeans_2.predict(X_train_1)\n",
    "test_cluster_2 = kmeans_2.predict(X_test_1)"
   ]
  },
  {
   "cell_type": "code",
   "execution_count": null,
   "metadata": {},
   "outputs": [],
   "source": [
    "print('Length of train cluster is:',len(train_cluster_2))\n",
    "train_cluster_2"
   ]
  },
  {
   "cell_type": "code",
   "execution_count": null,
   "metadata": {},
   "outputs": [],
   "source": [
    "print('Length of test cluster is',len(test_cluster_2))\n",
    "test_cluster_2"
   ]
  },
  {
   "cell_type": "code",
   "execution_count": null,
   "metadata": {},
   "outputs": [],
   "source": [
    "train_cluster_2 = np.array([train_cluster_2])\n",
    "train_cluster_2.shape"
   ]
  },
  {
   "cell_type": "code",
   "execution_count": null,
   "metadata": {},
   "outputs": [],
   "source": [
    "test_cluster_2 = np.array([test_cluster_2])\n",
    "test_cluster_2.shape"
   ]
  },
  {
   "cell_type": "markdown",
   "metadata": {},
   "source": [
    "<h3> 2. PCA features :- </h3>\n",
    "\n",
    "https://scikit-learn.org/stable/modules/generated/sklearn.decomposition.PCA.html"
   ]
  },
  {
   "cell_type": "markdown",
   "metadata": {},
   "source": [
    "- We will add top 5 PCA features to our dataset. (We can add more or less and test if they improve the performance)"
   ]
  },
  {
   "cell_type": "code",
   "execution_count": null,
   "metadata": {},
   "outputs": [],
   "source": [
    "from sklearn.decomposition import PCA"
   ]
  },
  {
   "cell_type": "code",
   "execution_count": null,
   "metadata": {},
   "outputs": [],
   "source": [
    "pca = PCA(n_components=5)\n",
    "pca.fit(X_train_1.toarray())\n",
    "pca_train = pca.transform(X_train_1.toarray())\n",
    "pca_test = pca.transform(X_test_1.toarray())"
   ]
  },
  {
   "cell_type": "code",
   "execution_count": null,
   "metadata": {},
   "outputs": [],
   "source": [
    "print(pca_train.shape)\n",
    "print(pca_test.shape)"
   ]
  },
  {
   "cell_type": "markdown",
   "metadata": {},
   "source": [
    "<h3> 3. Additional feature engineering :-</h3>"
   ]
  },
  {
   "cell_type": "markdown",
   "metadata": {},
   "source": [
    "<h6> src_bytes + dst_bytes </h6>"
   ]
  },
  {
   "cell_type": "code",
   "execution_count": null,
   "metadata": {},
   "outputs": [],
   "source": [
    "feature_src_dst_1 = src_bytes1 + dst_bytes1\n",
    "feature_src_dst_2 = src_bytes2 + dst_bytes2"
   ]
  },
  {
   "cell_type": "code",
   "execution_count": null,
   "metadata": {},
   "outputs": [],
   "source": [
    "feature_src_dst_1.shape"
   ]
  },
  {
   "cell_type": "markdown",
   "metadata": {},
   "source": [
    "<h6> src_bytes - dst_bytes </h6>"
   ]
  },
  {
   "cell_type": "code",
   "execution_count": null,
   "metadata": {},
   "outputs": [],
   "source": [
    "feature_src_dst_3 = abs(src_bytes1 - dst_bytes1)\n",
    "feature_src_dst_4 = abs(src_bytes2 - dst_bytes2)"
   ]
  },
  {
   "cell_type": "code",
   "execution_count": null,
   "metadata": {},
   "outputs": [],
   "source": [
    "feature_src_dst_3.shape"
   ]
  },
  {
   "cell_type": "markdown",
   "metadata": {},
   "source": [
    "<h5> same_srv_rate + diff_srv_rate :- </h5>"
   ]
  },
  {
   "cell_type": "code",
   "execution_count": null,
   "metadata": {},
   "outputs": [],
   "source": [
    "feature_5 = same_srv_rate1 + diff_srv_rate1\n",
    "feature_6 = same_srv_rate2 + diff_srv_rate2"
   ]
  },
  {
   "cell_type": "code",
   "execution_count": null,
   "metadata": {},
   "outputs": [],
   "source": [
    "feature_5.shape"
   ]
  },
  {
   "cell_type": "markdown",
   "metadata": {},
   "source": [
    "<h5> dst_host_same_srv_rate + dst_host_diff_srv_rate :- </h5>"
   ]
  },
  {
   "cell_type": "code",
   "execution_count": null,
   "metadata": {},
   "outputs": [],
   "source": [
    "feature_7 = dst_host_same_srv_rate1 + dst_host_diff_srv_rate1\n",
    "feature_8 = dst_host_same_srv_rate2 + dst_host_diff_srv_rate2"
   ]
  },
  {
   "cell_type": "code",
   "execution_count": null,
   "metadata": {},
   "outputs": [],
   "source": [
    "feature_7.shape"
   ]
  },
  {
   "cell_type": "markdown",
   "metadata": {},
   "source": [
    "<h2> Adding clustering and PCA features to our dataset with the additional 4 features:- </h2>"
   ]
  },
  {
   "cell_type": "code",
   "execution_count": null,
   "metadata": {},
   "outputs": [],
   "source": [
    "X_train_2 = hstack((X_train_1, pca_train, train_cluster_1.T, train_cluster_2.T, feature_src_dst_1, feature_src_dst_3, feature_5, feature_7))"
   ]
  },
  {
   "cell_type": "code",
   "execution_count": null,
   "metadata": {},
   "outputs": [],
   "source": [
    "X_test_2 = hstack((X_test_1, pca_test, test_cluster_1.T, test_cluster_2.T, feature_src_dst_2, feature_src_dst_4, feature_6, feature_8))"
   ]
  },
  {
   "cell_type": "code",
   "execution_count": null,
   "metadata": {},
   "outputs": [],
   "source": [
    "print('Train data:')\n",
    "print(X_train_2.shape)\n",
    "print('='*30)\n",
    "print('Test data:')\n",
    "print(X_test_2.shape)"
   ]
  },
  {
   "cell_type": "code",
   "execution_count": null,
   "metadata": {},
   "outputs": [],
   "source": [
    "joblib.dump(X_train_2, 'X_train_2.pkl')\n",
    "joblib.dump(X_test_2, 'X_test_2.pkl')"
   ]
  },
  {
   "cell_type": "markdown",
   "metadata": {},
   "source": [
    "<h2> Model_1 :- Decision Tree </h2>"
   ]
  },
  {
   "cell_type": "code",
   "execution_count": null,
   "metadata": {},
   "outputs": [],
   "source": [
    "hyperparameter = {'max_depth':[5, 10, 20, 50, 100, 500], 'min_samples_split':[5, 10, 100, 500]}\n",
    "\n",
    "from sklearn.tree import DecisionTreeClassifier\n",
    "decision_tree = DecisionTreeClassifier(criterion='gini', splitter='best',class_weight='balanced')\n",
    "decision_tree_grid = GridSearchCV(decision_tree, param_grid=hyperparameter, cv=5, verbose=1, n_jobs=-1)"
   ]
  },
  {
   "cell_type": "code",
   "execution_count": null,
   "metadata": {},
   "outputs": [],
   "source": [
    "decision_tree_results2_tr, decision_tree_results2_test = model(decision_tree_grid, X_train_2.toarray(), Y_train, X_test_2.toarray(), Y_test)"
   ]
  },
  {
   "cell_type": "code",
   "execution_count": null,
   "metadata": {},
   "outputs": [],
   "source": [
    "print_grid_search_attributes(decision_tree_grid)"
   ]
  },
  {
   "cell_type": "code",
   "execution_count": null,
   "metadata": {},
   "outputs": [],
   "source": [
    "dt_gs = decision_tree_grid.best_estimator_\n",
    "y_tr_pred = dt_gs.predict(X_train_2.toarray())\n",
    "y_test_pred = dt_gs.predict(X_test_2.toarray())\n",
    "dt_tpr_fpr_train = tpr_fpr_func(Y_train, y_tr_pred)\n",
    "dt_tpr_fpr_test = tpr_fpr_func(Y_test, y_test_pred)"
   ]
  },
  {
   "cell_type": "code",
   "execution_count": null,
   "metadata": {},
   "outputs": [],
   "source": [
    "decision_tree_results2_tr"
   ]
  },
  {
   "cell_type": "code",
   "execution_count": null,
   "metadata": {},
   "outputs": [],
   "source": [
    "dt_tpr_fpr_train"
   ]
  },
  {
   "cell_type": "code",
   "execution_count": null,
   "metadata": {},
   "outputs": [],
   "source": [
    "decision_tree_results2_test"
   ]
  },
  {
   "cell_type": "code",
   "execution_count": null,
   "metadata": {},
   "outputs": [],
   "source": [
    "dt_tpr_fpr_test"
   ]
  },
  {
   "cell_type": "code",
   "execution_count": null,
   "metadata": {},
   "outputs": [],
   "source": [
    "joblib.dump(decision_tree_grid.best_estimator_, 'dt2.pkl')"
   ]
  },
  {
   "cell_type": "markdown",
   "metadata": {},
   "source": [
    "<h5> Observation from DT-2 Classifier :- </h5>\n",
    "    \n",
    "    \n",
    "- The Decision Tree Classifier was able to classify points with a high f1 score of ~0.9986 which is \n",
    "similar to the performance of the 1st Decision Tree Classifier.\n",
    "\n",
    "\n",
    "- True Postives = 21935\n",
    "\n",
    "\n",
    "- TPR = 0.9989\n",
    "\n",
    "\n",
    "- False Positives = 13\n",
    "\n",
    "\n",
    "- FPR = 0.00090\n",
    "\n",
    "\n",
    "- This DT Classifier has comparatively lower TPR and FPR than DT-1 model."
   ]
  },
  {
   "cell_type": "markdown",
   "metadata": {},
   "source": [
    "<h2> Model_2 :- Random Forest  </h2>"
   ]
  },
  {
   "cell_type": "code",
   "execution_count": null,
   "metadata": {},
   "outputs": [],
   "source": [
    "hyperparameter = {'max_depth':[5, 10, 100, 500, 1000], 'n_estimators': [5, 10, 50, 100, 500],\n",
    "                  'min_samples_split':[5, 10, 100, 500]}\n",
    "\n",
    "from sklearn.ensemble import RandomForestClassifier\n",
    "rf = RandomForestClassifier(criterion='gini',class_weight='balanced')\n",
    "rf_grid = GridSearchCV(rf, param_grid=hyperparameter, cv=3, verbose=1, n_jobs=-1)"
   ]
  },
  {
   "cell_type": "code",
   "execution_count": null,
   "metadata": {},
   "outputs": [],
   "source": [
    "rf_grid_results_tr, rf_grid_results_test = model(rf_grid, X_train_2.toarray(), Y_train, X_test_2.toarray(), Y_test)"
   ]
  },
  {
   "cell_type": "code",
   "execution_count": null,
   "metadata": {},
   "outputs": [],
   "source": [
    "print_grid_search_attributes(rf_grid)"
   ]
  },
  {
   "cell_type": "code",
   "execution_count": null,
   "metadata": {},
   "outputs": [],
   "source": [
    "rf_gs = rf_grid.best_estimator_\n",
    "y_tr_pred = rf_gs.predict(X_train_2.toarray())\n",
    "y_test_pred = rf_gs.predict(X_test_2.toarray())\n",
    "rf_tpr_fpr_train = tpr_fpr_func(Y_train, y_tr_pred)\n",
    "rf_tpr_fpr_test = tpr_fpr_func(Y_test, y_test_pred)"
   ]
  },
  {
   "cell_type": "code",
   "execution_count": null,
   "metadata": {},
   "outputs": [],
   "source": [
    "rf_grid_results_tr"
   ]
  },
  {
   "cell_type": "code",
   "execution_count": null,
   "metadata": {},
   "outputs": [],
   "source": [
    "rf_tpr_fpr_train"
   ]
  },
  {
   "cell_type": "code",
   "execution_count": null,
   "metadata": {},
   "outputs": [],
   "source": [
    "rf_grid_results_test"
   ]
  },
  {
   "cell_type": "code",
   "execution_count": null,
   "metadata": {},
   "outputs": [],
   "source": [
    "rf_tpr_fpr_test"
   ]
  },
  {
   "cell_type": "code",
   "execution_count": null,
   "metadata": {},
   "outputs": [],
   "source": [
    "joblib.dump(rf_grid.best_estimator_, 'rf2.pkl')"
   ]
  },
  {
   "cell_type": "markdown",
   "metadata": {},
   "source": [
    "<h5> Observation from RF_2 Classifier :- </h5>\n",
    "    \n",
    "    \n",
    "- This RF Classifier has a lower f1-score(0.9990) compared to the RF_1 Classifier.\n",
    "\n",
    "\n",
    "- True Postives = 21956\n",
    "\n",
    "\n",
    "- TPR = 0.9999\n",
    "\n",
    "\n",
    "- False Positives = 22\n",
    "\n",
    "\n",
    "- FPR = 0.0015\n",
    "\n",
    "\n",
    "- This RF Classifer has a higher TPR and higher FPR than the RF_1 model, which indicates that adding new features have improved the classification of Good connections but has also increased the misclassification of Bad category connections by some amount.\n",
    "\n",
    "\n",
    "- The no. of false positives are more than the DT_2 classifier which is a Drawback of this model."
   ]
  },
  {
   "cell_type": "markdown",
   "metadata": {},
   "source": [
    "<h2> Model_3 :- XG Boost </h2>\n",
    "\n",
    "- We will apply the XG Boost classifier on  the same dataset and check if it shows any improvement."
   ]
  },
  {
   "cell_type": "code",
   "execution_count": null,
   "metadata": {},
   "outputs": [],
   "source": [
    "hyperparameter = {'max_depth':[2, 3, 5, 7, 10], 'n_estimators': [10, 50, 100, 200, 500]}\n",
    "\n",
    "from xgboost import XGBClassifier\n",
    "xgb = XGBClassifier(objective='multi:softprob', n_jobs=-1)\n",
    "xgb_grid = RandomizedSearchCV(xgb, param_distributions=hyperparameter, cv=3, verbose=1, n_jobs=-1)"
   ]
  },
  {
   "cell_type": "code",
   "execution_count": null,
   "metadata": {},
   "outputs": [],
   "source": [
    "xgb_grid_results_tr, xgb_grid_results_test = model(xgb_grid, X_train_2.toarray(), Y_train, X_test_2.toarray(), Y_test)"
   ]
  },
  {
   "cell_type": "code",
   "execution_count": null,
   "metadata": {},
   "outputs": [],
   "source": [
    "print_grid_search_attributes(xgb_grid)"
   ]
  },
  {
   "cell_type": "code",
   "execution_count": null,
   "metadata": {},
   "outputs": [],
   "source": [
    "xgb_gs = xgb_grid.best_estimator_\n",
    "y_tr_pred = xgb_gs.predict(X_train_2.toarray())\n",
    "y_test_pred = xgb_gs.predict(X_test_2.toarray())\n",
    "xgb_tpr_fpr_train = tpr_fpr_func(Y_train, y_tr_pred)\n",
    "xgb_tpr_fpr_test = tpr_fpr_func(Y_test, y_test_pred)"
   ]
  },
  {
   "cell_type": "code",
   "execution_count": null,
   "metadata": {},
   "outputs": [],
   "source": [
    "xgb_grid_results_tr"
   ]
  },
  {
   "cell_type": "code",
   "execution_count": null,
   "metadata": {},
   "outputs": [],
   "source": [
    "xgb_tpr_fpr_train"
   ]
  },
  {
   "cell_type": "code",
   "execution_count": null,
   "metadata": {},
   "outputs": [],
   "source": [
    "xgb_grid_results_test"
   ]
  },
  {
   "cell_type": "code",
   "execution_count": null,
   "metadata": {},
   "outputs": [],
   "source": [
    "xgb_tpr_fpr_test"
   ]
  },
  {
   "cell_type": "code",
   "execution_count": null,
   "metadata": {},
   "outputs": [],
   "source": [
    "joblib.dump(xgb_grid.best_estimator_, 'xgb2_gs.pkl')"
   ]
  },
  {
   "cell_type": "markdown",
   "metadata": {},
   "source": [
    "<h5> Observation from XGBoost_2 Classifier :- </h5>\n",
    "    \n",
    "    \n",
    "- This XG Boost Classifier was able to classify points with better accuracy of ~99.94 and high f1 score of ~0.9994 which is \n",
    "similar to the performance of the 1st XGB Classifier.\n",
    "\n",
    "\n",
    "- True Postives = 21955\n",
    "\n",
    "\n",
    "- TPR = 0.9998\n",
    "\n",
    "\n",
    "- False Positives = 12\n",
    "\n",
    "\n",
    "- FPR = 0.00083\n",
    "\n",
    "\n",
    "- This XGB Classifier has the highest TPR of (99.98%), but the FPR(0.00083) is same as the XGB1 model(0.0008)."
   ]
  },
  {
   "cell_type": "markdown",
   "metadata": {},
   "source": [
    "<h3> Important Observation from the above 3 models:- </h3>\n",
    "\n",
    "    \n",
    "- From the performance scores we have obtained from the above 3 models, we can conclude that adding new features has increased the TPR score as the no. correct classification of \"Normal\" class points has increased, but no significant improvement has been obtained on the FPR score for all the 3 models which is a drawback."
   ]
  },
  {
   "cell_type": "markdown",
   "metadata": {},
   "source": [
    "<h2> Summarizing Results of Multiclass Classification problem:- </h2>"
   ]
  },
  {
   "cell_type": "code",
   "execution_count": null,
   "metadata": {},
   "outputs": [],
   "source": [
    "from prettytable import PrettyTable\n",
    "\n",
    "x = PrettyTable()\n",
    "\n",
    "x.field_names = ['Model', 'Train f1-score', 'Train TPR', 'Train FPR', 'Test f1-score', 'Test TPR', 'Test FPR']\n",
    "x.add_row(['Naive Bayes','0.9671','99.40%','5.13%','0.9679','99.34%','4.91%'])\n",
    "x.add_row(['Logistic Regression','0.9813','99.81%','2.95%','0.9819','99.81%','2.76%'])\n",
    "x.add_row(['Support Vector Machine','0.9967','99.87%','0.48%','0.9966','99.87%','0.43%'])\n",
    "x.add_row(['Decision Tree - 1','0.9997','99.96%','0.0%','0.9986','99.90%','0.13%'])\n",
    "x.add_row(['Random Forest - 1','0.9999','99.98%','0.0%','0.9992','99.98%','0.13%'])\n",
    "x.add_row(['XG Boost - 1','0.9999','100.0%','0.0%','0.9994','99.98%','0.083%'])\n",
    "x.add_row(['Decision Tree - 2','0.9998','99.97%','0.0%','0.9986','99.89%','0.09%'])\n",
    "x.add_row(['Random Forest - 2','0.9999','99.99%','0.0%','0.9990','99.99%','0.15%'])\n",
    "x.add_row(['XG Boost - 2','0.9999','99.99%','0.0%','0.9994','99.98%','0.083%'])\n",
    "\n",
    "print(x)"
   ]
  },
  {
   "cell_type": "markdown",
   "metadata": {},
   "source": [
    "- All the models have very close performance scores on train and test data, thus they are not OVERFITTING."
   ]
  },
  {
   "cell_type": "markdown",
   "metadata": {},
   "source": [
    "<h3> - The model XG Boost_1 is our best model for intrusion detection as it has highest Test f1-score 0.9994 and TPR 99.98%  as well as the least FPR of 0.08%. </h3>"
   ]
  },
  {
   "cell_type": "markdown",
   "metadata": {},
   "source": [
    "# (II) Binary Classification :-"
   ]
  },
  {
   "cell_type": "markdown",
   "metadata": {},
   "source": [
    "In this section, we will solve the Intrusion detection problem as a Binary Classification problem, where we will consider points belonging to class \"Normal\" as one class(Positive Class) and points belonging to the remaining 22 classes as the second class(Negative Class).\n",
    "\n",
    "\n",
    "By formulating this problem as a binary classification problem, we will re-apply the models and try to improve our TPR and FPR.\n",
    "\n",
    "\n",
    "The reason we are converting this problem to a binary classification problem is because organisations are more concerned about Normal and Bad connections getting classified correctly rather than each of the bad categories getting misclassified so that no Bad connections are allowed to gain access to the Internal network of the organisation by getting misclassified as a Normal connection which may otherwise result in a security threat."
   ]
  },
  {
   "cell_type": "code",
   "execution_count": null,
   "metadata": {},
   "outputs": [],
   "source": [
    "data.head()"
   ]
  },
  {
   "cell_type": "code",
   "execution_count": null,
   "metadata": {},
   "outputs": [],
   "source": [
    "intrusion_binary = []\n",
    "for i in data['intrusion_type'].values:\n",
    "    if i=='normal.':\n",
    "        intrusion_binary.append(1)\n",
    "    else:\n",
    "        intrusion_binary.append(0)\n",
    "print(len(intrusion_binary))\n",
    "print(intrusion_binary[:10])"
   ]
  },
  {
   "cell_type": "code",
   "execution_count": null,
   "metadata": {},
   "outputs": [],
   "source": [
    "data['intrusion_binary'] = intrusion_binary\n",
    "data.head()"
   ]
  },
  {
   "cell_type": "code",
   "execution_count": null,
   "metadata": {},
   "outputs": [],
   "source": [
    "data.drop('intrusion_type', axis=1, inplace=True)\n",
    "print('Shape of the data is:')\n",
    "print(data.shape)\n",
    "print('='*80)\n",
    "print('Features of the dataset:')\n",
    "print(data.columns)"
   ]
  },
  {
   "cell_type": "markdown",
   "metadata": {},
   "source": [
    "<h2> 1. Exploratory Data Analysis :-</h2>"
   ]
  },
  {
   "cell_type": "markdown",
   "metadata": {},
   "source": [
    "<h3> Bivariate Analysis :- </h3>"
   ]
  },
  {
   "cell_type": "code",
   "execution_count": null,
   "metadata": {},
   "outputs": [],
   "source": [
    "def pairplot(data, label, features=[]):\n",
    "    '''\n",
    "    This function creates pairplot taking 4 features from our dataset as default parameters along with the output variable\n",
    "    '''\n",
    "    sns.pairplot(data, hue=label, height=4, diag_kind='hist', vars=features,\n",
    "            plot_kws={'alpha':0.6, 's':80, 'edgecolor':'k'})"
   ]
  },
  {
   "cell_type": "code",
   "execution_count": null,
   "metadata": {},
   "outputs": [],
   "source": [
    "pairplot(data, 'intrusion_binary', features=['duration', 'src_bytes', 'dst_bytes', 'wrong_fragment'])"
   ]
  },
  {
   "cell_type": "code",
   "execution_count": null,
   "metadata": {},
   "outputs": [],
   "source": [
    "pairplot(data, 'intrusion_binary',features=['urgent','hot','num_failed_logins','num_compromised'])"
   ]
  },
  {
   "cell_type": "code",
   "execution_count": null,
   "metadata": {},
   "outputs": [],
   "source": [
    "pairplot(data, 'intrusion_binary', features=['root_shell','su_attempted','num_root','num_file_creations'])"
   ]
  },
  {
   "cell_type": "code",
   "execution_count": null,
   "metadata": {},
   "outputs": [],
   "source": [
    "pairplot(data, 'intrusion_binary', features=['num_shells','num_access_files','num_outbound_cmds','count'])"
   ]
  },
  {
   "cell_type": "code",
   "execution_count": null,
   "metadata": {},
   "outputs": [],
   "source": [
    "pairplot(data, 'intrusion_binary', features=['srv_count','serror_rate','srv_serror_rate','rerror_rate'])"
   ]
  },
  {
   "cell_type": "code",
   "execution_count": null,
   "metadata": {},
   "outputs": [],
   "source": [
    "pairplot(data, 'intrusion_binary', features=['srv_rerror_rate','same_srv_rate','diff_srv_rate','srv_diff_host_rate'])"
   ]
  },
  {
   "cell_type": "code",
   "execution_count": null,
   "metadata": {},
   "outputs": [],
   "source": [
    "pairplot(data, 'intrusion_binary', features=['dst_host_same_src_port_rate','dst_host_srv_diff_host_rate','dst_host_serror_rate','dst_host_srv_serror_rate'])"
   ]
  },
  {
   "cell_type": "code",
   "execution_count": null,
   "metadata": {},
   "outputs": [],
   "source": [
    "pairplot(data, 'intrusion_binary', features=['dst_host_count','dst_host_srv_count','dst_host_same_srv_rate','dst_host_diff_srv_rate'])"
   ]
  },
  {
   "cell_type": "markdown",
   "metadata": {},
   "source": [
    "<h5> Observation from pairplots:- </h5>\n",
    "    \n",
    "- Pairplots involving src_bytes, dst_bytes and duration show some separability between the 2 classes.\n",
    "\n",
    "\n",
    "- Pairplots involving dts_host_count, dts_host_srv_count, dst_host_same_srv_rate have high concentration of points belonging to class 1(Normal) and thus do not show any separability between the 2 categories.\n",
    "\n",
    "\n",
    "- Remaining plots do not indicate any separability."
   ]
  },
  {
   "cell_type": "markdown",
   "metadata": {},
   "source": [
    "<h3> TSNE for Bivariate Analysis:- </h3>"
   ]
  },
  {
   "cell_type": "code",
   "execution_count": null,
   "metadata": {},
   "outputs": [],
   "source": [
    "def tsne_func(data, label, no_components, perplexity_value, n_iter_value):\n",
    "    '''\n",
    "    This function applies TSNE on the original dataset with no_components, perplexity_value, n_iter_value as the TSNE \n",
    "    parameters and transforms the original dataset into TSNE transformed feature space with the tsne dataset containing \n",
    "    number of features equal to the value specified for no_components and also plots the scatter plot of the transformed \n",
    "    data points along with their class label \n",
    "    '''\n",
    "    start = datetime.now()\n",
    "    print('TSNE with perplexity={} and no. of iterations={}'.format(perplexity_value, n_iter_value))\n",
    "    tsne = TSNE(n_components=no_components, perplexity=perplexity_value, n_iter=n_iter_value)\n",
    "    tsne_df1 = tsne.fit_transform(data)\n",
    "    print(tsne_df1.shape)\n",
    "    tsne_df1 = np.vstack((tsne_df1.T, Y)).T\n",
    "    tsne_data1 = pd.DataFrame(data=tsne_df1, columns=['feature1', 'feature2', 'Output'])\n",
    "    sns.FacetGrid(tsne_data1, hue='Output', size=6).map(plt.scatter, 'feature1', 'feature2').add_legend()\n",
    "    print('Total time taken:',datetime.now()-start)\n",
    "    plt.show()"
   ]
  },
  {
   "cell_type": "code",
   "execution_count": null,
   "metadata": {},
   "outputs": [],
   "source": [
    "df = data.drop(['intrusion_binary','service','flag','protocol_type'], axis=1)\n",
    "Y = data['intrusion_binary'].values"
   ]
  },
  {
   "cell_type": "code",
   "execution_count": null,
   "metadata": {},
   "outputs": [],
   "source": [
    "from datetime import datetime"
   ]
  },
  {
   "cell_type": "code",
   "execution_count": null,
   "metadata": {},
   "outputs": [],
   "source": [
    "tsne_func(data=df, label=Y, no_components=2, perplexity_value=100, n_iter_value=500)"
   ]
  },
  {
   "cell_type": "code",
   "execution_count": null,
   "metadata": {},
   "outputs": [],
   "source": [
    "tsne_func(data=df, label=Y, no_components=2, perplexity_value=50, n_iter_value=1000)"
   ]
  },
  {
   "cell_type": "markdown",
   "metadata": {},
   "source": [
    "<h6> Observations:- </h6>"
   ]
  },
  {
   "cell_type": "markdown",
   "metadata": {},
   "source": [
    "- None of the 2 plots show any linear separability/almost linear separability between the 2 classes in the TSNE transformed 2-D space."
   ]
  },
  {
   "cell_type": "markdown",
   "metadata": {},
   "source": [
    "<h2> Merging features :- </h2>"
   ]
  },
  {
   "cell_type": "code",
   "execution_count": null,
   "metadata": {},
   "outputs": [],
   "source": [
    "X_train_3 = hstack((X_train_1, pca_train, train_cluster_2.T, feature_src_dst_1, feature_src_dst_3, feature_5, feature_7))"
   ]
  },
  {
   "cell_type": "code",
   "execution_count": null,
   "metadata": {},
   "outputs": [],
   "source": [
    "X_test_3 = hstack((X_test_1, pca_test, test_cluster_2.T, feature_src_dst_2, feature_src_dst_4, feature_6, feature_8))"
   ]
  },
  {
   "cell_type": "code",
   "execution_count": null,
   "metadata": {},
   "outputs": [],
   "source": [
    "print('Train data:')\n",
    "print(X_train_3.shape)\n",
    "print('='*30)\n",
    "print('Test data:')\n",
    "print(X_test_3.shape)"
   ]
  },
  {
   "cell_type": "code",
   "execution_count": null,
   "metadata": {},
   "outputs": [],
   "source": [
    "joblib.dump(X_train_3, 'X_train_3.pkl')\n",
    "joblib.dump(X_test_3, 'X_test_3.pkl')"
   ]
  },
  {
   "cell_type": "code",
   "execution_count": null,
   "metadata": {},
   "outputs": [],
   "source": [
    "Y_train_new = []\n",
    "for i in Y_train:\n",
    "    if i=='normal.':\n",
    "        Y_train_new.append(1)\n",
    "    else:\n",
    "        Y_train_new.append(0)\n",
    "print(len(Y_train_new))"
   ]
  },
  {
   "cell_type": "code",
   "execution_count": null,
   "metadata": {},
   "outputs": [],
   "source": [
    "Y_train_new[:5]"
   ]
  },
  {
   "cell_type": "code",
   "execution_count": null,
   "metadata": {},
   "outputs": [],
   "source": [
    "Y_test_new = []\n",
    "for i in Y_test:\n",
    "    if i=='normal.':\n",
    "        Y_test_new.append(1)\n",
    "    else:\n",
    "        Y_test_new.append(0)\n",
    "print(len(Y_test_new))"
   ]
  },
  {
   "cell_type": "code",
   "execution_count": null,
   "metadata": {},
   "outputs": [],
   "source": [
    "Y_test_new[:5]"
   ]
  },
  {
   "cell_type": "code",
   "execution_count": null,
   "metadata": {},
   "outputs": [],
   "source": [
    "joblib.dump(Y_train_new, 'Y_train_new.pkl')\n",
    "joblib.dump(Y_test_new, 'Y_test_new.pkl')"
   ]
  },
  {
   "cell_type": "markdown",
   "metadata": {},
   "source": [
    "# Applying Machine learning models:- "
   ]
  },
  {
   "cell_type": "code",
   "execution_count": null,
   "metadata": {},
   "outputs": [],
   "source": [
    "from sklearn.metrics import roc_auc_score, roc_curve, auc"
   ]
  },
  {
   "cell_type": "code",
   "execution_count": null,
   "metadata": {},
   "outputs": [],
   "source": [
    "def confusion_matrix_func(Y_test, y_test_pred):\n",
    "    '''\n",
    "    This function plots the confusion matrix for Binary classification problem\n",
    "    '''\n",
    "    C = confusion_matrix(Y_test, y_test_pred)\n",
    "    cm_df = pd.DataFrame(C)\n",
    "    labels = ['BAD', 'NORMAL']\n",
    "    plt.figure(figsize=(5,4))\n",
    "    sns.set(font_scale=1.4)\n",
    "    sns.heatmap(cm_df, annot=True, annot_kws={\"size\":12}, fmt='g', xticklabels=labels, yticklabels=labels)\n",
    "    plt.ylabel('Actual Class')\n",
    "    plt.xlabel('Predicted Class')\n",
    "    \n",
    "    plt.show()"
   ]
  },
  {
   "cell_type": "code",
   "execution_count": null,
   "metadata": {},
   "outputs": [],
   "source": [
    "def tpr_fpr_func_2(Y_tr, Y_pred):\n",
    "    '''\n",
    "    This function computes the TPR and FPR using the actual and predicted values for each of the models.\n",
    "    '''\n",
    "    results = dict()\n",
    "    #Y_tr = Y_tr.to_list()\n",
    "    tp = 0; fp = 0; positives = 0; negatives = 0; length = len(Y_tr)\n",
    "    for i in range(len(Y_tr)):\n",
    "        if Y_tr[i]==1:\n",
    "            positives += 1\n",
    "        elif Y_tr[i]==0:\n",
    "            negatives += 1\n",
    "            \n",
    "    for i in range(len(Y_pred)):\n",
    "        if Y_tr[i]==1 and Y_pred[i]==1:\n",
    "            tp += 1\n",
    "        elif Y_tr[i]==0 and Y_pred[i]==1:\n",
    "            fp += 1\n",
    "            \n",
    "    tpr = tp/(positives)\n",
    "    fpr = fp/(negatives)\n",
    "    \n",
    "    results['tp'] = tp; results['tpr'] = tpr; results['fp'] = fp; results['fpr'] = fpr\n",
    "    \n",
    "    return results\n",
    "    "
   ]
  },
  {
   "cell_type": "code",
   "execution_count": null,
   "metadata": {},
   "outputs": [],
   "source": [
    "def model(model_name, X_train, Y_train, X_test, Y_test):\n",
    "    '''\n",
    "    This function computes the performance metric scores on the train and test data.\n",
    "    '''\n",
    "    \n",
    "    print('Fitting the model and prediction on train data:')\n",
    "    start = dt.datetime.now()\n",
    "    model_name.fit(X_train, Y_train)\n",
    "    y_tr_pred = model_name.predict(X_train)\n",
    "    print('Completed')\n",
    "    print('Time taken:',dt.datetime.now()-start)\n",
    "    print('='*50)\n",
    "    \n",
    "    results_tr = dict()\n",
    "    y_tr_pred = model_name.predict(X_train)    \n",
    "    results_tr['precision'] = precision_score(Y_train, y_tr_pred, average='weighted')\n",
    "    results_tr['recall'] = recall_score(Y_train, y_tr_pred, average='weighted')\n",
    "    results_tr['f1_score'] = f1_score(Y_train, y_tr_pred, average='weighted')\n",
    "    \n",
    "    results_test = dict()\n",
    "    print('Prediction on test data:')\n",
    "    start = dt.datetime.now()\n",
    "    y_test_pred = model_name.predict(X_test)\n",
    "    print('Completed')\n",
    "    print('Time taken:',dt.datetime.now()-start)\n",
    "    print('='*50)\n",
    "    print('Train Confusion Matrix is:')\n",
    "    confusion_matrix_func(Y_train, y_tr_pred)\n",
    "    print('='*50)\n",
    "    print('F1-score is:')\n",
    "    print(f1_score(Y_test, y_test_pred, average='weighted'))\n",
    "    print('='*50)\n",
    "    \n",
    "    print('Test Performance metrics:')\n",
    "    print('='*50)\n",
    "    print('Confusion Matrix is:')\n",
    "    confusion_matrix_func(Y_test, y_test_pred)\n",
    "    print('='*50)\n",
    "    results_test['precision'] = precision_score(Y_test, y_test_pred, average='weighted')\n",
    "    print('Precision score is:')\n",
    "    print(precision_score(Y_test, y_test_pred, average='weighted'))\n",
    "    print('='*50)\n",
    "    results_test['recall'] = recall_score(Y_test, y_test_pred, average='weighted')\n",
    "    print('Recall score is:')\n",
    "    print(recall_score(Y_test, y_test_pred, average='weighted'))\n",
    "    print('='*50)\n",
    "    results_test['f1_score'] = f1_score(Y_test, y_test_pred, average='weighted')\n",
    "    print('F1-score is:')\n",
    "    print(f1_score(Y_test, y_test_pred, average='weighted'))\n",
    "    # add the trained  model to the results\n",
    "    results_test['model'] = model\n",
    "    \n",
    "    return results_tr, results_test"
   ]
  },
  {
   "cell_type": "markdown",
   "metadata": {},
   "source": [
    "<h2>Decision Tree:-</h2>"
   ]
  },
  {
   "cell_type": "code",
   "execution_count": null,
   "metadata": {},
   "outputs": [],
   "source": [
    "hyperparameter = {'max_depth':[5, 10, 20, 50, 100, 500], 'min_samples_split':[5, 10, 100, 500]}\n",
    "\n",
    "from sklearn.tree import DecisionTreeClassifier\n",
    "decision_tree = DecisionTreeClassifier(criterion='gini', splitter='best',class_weight='balanced')\n",
    "decision_tree_grid = GridSearchCV(decision_tree, param_grid=hyperparameter, cv=5, verbose=1, n_jobs=-1)"
   ]
  },
  {
   "cell_type": "code",
   "execution_count": null,
   "metadata": {},
   "outputs": [],
   "source": [
    "decision_tree_grid_results_tr, decision_tree_grid_results_test = model(decision_tree_grid, X_train_3.toarray(), Y_train_new, X_test_3.toarray(), Y_test_new)"
   ]
  },
  {
   "cell_type": "code",
   "execution_count": null,
   "metadata": {},
   "outputs": [],
   "source": [
    "dt_gs = decision_tree_grid.best_estimator_\n",
    "y_tr_pred = dt_gs.predict(X_train_3.toarray())\n",
    "y_test_pred = dt_gs.predict(X_test_3.toarray())\n",
    "dt_tpr_fpr_train = tpr_fpr_func_2(Y_train_new, y_tr_pred)\n",
    "dt_tpr_fpr_test = tpr_fpr_func_2(Y_test_new, y_test_pred)"
   ]
  },
  {
   "cell_type": "code",
   "execution_count": null,
   "metadata": {},
   "outputs": [],
   "source": [
    "dt_tpr_fpr_train"
   ]
  },
  {
   "cell_type": "code",
   "execution_count": null,
   "metadata": {},
   "outputs": [],
   "source": [
    "dt_tpr_fpr_test"
   ]
  },
  {
   "cell_type": "code",
   "execution_count": null,
   "metadata": {},
   "outputs": [],
   "source": [
    "print_grid_search_attributes(decision_tree_grid)"
   ]
  },
  {
   "cell_type": "code",
   "execution_count": null,
   "metadata": {},
   "outputs": [],
   "source": [
    "# https://stackoverflow.com/questions/25009284/how-to-plot-roc-curve-in-python\n",
    "\n",
    "from sklearn.metrics import roc_auc_score, roc_curve\n",
    "clf=decision_tree_grid.best_estimator_\n",
    "clf.fit(X_train_3, Y_train_new)\n",
    "Y_1=clf.predict_proba(X_train_3)\n",
    "Y1= Y_1[:,1]\n",
    "train_fpr, train_tpr, tr_threshold = roc_curve(Y_train_new, Y1)\n",
    "Y_2=clf.predict_proba(X_test_3)\n",
    "Y2= Y_2[:,1]\n",
    "test_fpr, test_tpr, te_threshold = roc_curve(Y_test_new, Y2)\n",
    "plt.plot(train_fpr, train_tpr, label='Train_AUC = '+str(auc(train_fpr, train_tpr)))\n",
    "plt.plot(test_fpr, test_tpr, label='Test_AUC = '+str(auc(test_fpr, test_tpr)))\n",
    "plt.xlabel('False Positive rate')\n",
    "plt.ylabel('True Positive rate')\n",
    "plt.title('AUC')\n",
    "plt.legend()\n",
    "plt.grid()\n",
    "plt.show()"
   ]
  },
  {
   "cell_type": "code",
   "execution_count": null,
   "metadata": {},
   "outputs": [],
   "source": [
    "decision_tree_grid_results_tr"
   ]
  },
  {
   "cell_type": "code",
   "execution_count": null,
   "metadata": {},
   "outputs": [],
   "source": [
    "decision_tree_grid_results_test"
   ]
  },
  {
   "cell_type": "code",
   "execution_count": null,
   "metadata": {},
   "outputs": [],
   "source": [
    "joblib.dump(decision_tree_grid.best_estimator_, 'dt_grid_3.pkl')"
   ]
  },
  {
   "cell_type": "markdown",
   "metadata": {},
   "source": [
    "<h6> Observation from DT-3 Classifier :- </h6>"
   ]
  },
  {
   "cell_type": "markdown",
   "metadata": {},
   "source": [
    "- This DT Classifier was able to classify points with an AUC of 0.9991 and high f1 score of 0.9989.\n",
    "\n",
    "\n",
    "- TPR = 0.9987\n",
    "\n",
    "\n",
    "- FPR = 0.00083\n",
    "\n",
    "\n",
    "- This DT Classifier has a TPR of (99.87%), but the FPR(0.00083) which is better than the previous DT classifiers.\n",
    "\n",
    "\n",
    "- The train and test scores are very close, so the model is not overfitting."
   ]
  },
  {
   "cell_type": "markdown",
   "metadata": {},
   "source": [
    "<h2> Random Forests :- </h2>"
   ]
  },
  {
   "cell_type": "code",
   "execution_count": null,
   "metadata": {},
   "outputs": [],
   "source": [
    "hyperparameter = {'max_depth':[5, 10, 100, 500, 1000], 'n_estimators': [5, 10, 50, 100, 500],\n",
    "                  'min_samples_split':[5, 10, 100, 500]}\n",
    "\n",
    "from sklearn.ensemble import RandomForestClassifier\n",
    "rf = RandomForestClassifier(criterion='gini',class_weight='balanced')\n",
    "rf_grid = GridSearchCV(rf, param_grid=hyperparameter, cv=3, verbose=1, n_jobs=-1)"
   ]
  },
  {
   "cell_type": "code",
   "execution_count": null,
   "metadata": {},
   "outputs": [],
   "source": [
    "rf_grid_results_tr, rf_grid_results_test = model(rf_grid, X_train_3.toarray(), Y_train_new, X_test_3.toarray(), Y_test_new)"
   ]
  },
  {
   "cell_type": "code",
   "execution_count": null,
   "metadata": {},
   "outputs": [],
   "source": [
    "print_grid_search_attributes(rf_grid)"
   ]
  },
  {
   "cell_type": "code",
   "execution_count": null,
   "metadata": {},
   "outputs": [],
   "source": [
    "rf_gs = rf_grid.best_estimator_\n",
    "y_tr_pred = rf_gs.predict(X_train_3.toarray())\n",
    "y_test_pred = rf_gs.predict(X_test_3.toarray())\n",
    "rf_tpr_fpr_train = tpr_fpr_func_2(Y_train_new, y_tr_pred)\n",
    "rf_tpr_fpr_test = tpr_fpr_func_2(Y_test_new, y_test_pred)"
   ]
  },
  {
   "cell_type": "code",
   "execution_count": null,
   "metadata": {},
   "outputs": [],
   "source": [
    "rf_tpr_fpr_train"
   ]
  },
  {
   "cell_type": "code",
   "execution_count": null,
   "metadata": {},
   "outputs": [],
   "source": [
    "rf_tpr_fpr_test"
   ]
  },
  {
   "cell_type": "code",
   "execution_count": null,
   "metadata": {},
   "outputs": [],
   "source": [
    "# https://stackoverflow.com/questions/25009284/how-to-plot-roc-curve-in-python\n",
    "\n",
    "from sklearn.metrics import roc_auc_score, roc_curve\n",
    "clf=rf_grid.best_estimator_\n",
    "clf.fit(X_train_3, Y_train_new)\n",
    "Y_1=clf.predict_proba(X_train_3)\n",
    "Y1= Y_1[:,1]\n",
    "train_fpr, train_tpr, tr_threshold = roc_curve(Y_train_new, Y1)\n",
    "Y_2=clf.predict_proba(X_test_3)\n",
    "Y2= Y_2[:,1]\n",
    "test_fpr, test_tpr, te_threshold = roc_curve(Y_test_new, Y2)\n",
    "plt.plot(train_fpr, train_tpr, label='Train_AUC = '+str(auc(train_fpr, train_tpr)))\n",
    "plt.plot(test_fpr, test_tpr, label='Test_AUC = '+str(auc(test_fpr, test_tpr)))\n",
    "plt.xlabel('False Positive rate')\n",
    "plt.ylabel('True Positive rate')\n",
    "plt.title('AUC')\n",
    "plt.legend()\n",
    "plt.grid()\n",
    "plt.show()"
   ]
  },
  {
   "cell_type": "code",
   "execution_count": null,
   "metadata": {},
   "outputs": [],
   "source": [
    "rf_grid_results_tr"
   ]
  },
  {
   "cell_type": "code",
   "execution_count": null,
   "metadata": {},
   "outputs": [],
   "source": [
    "rf_grid_results_test"
   ]
  },
  {
   "cell_type": "code",
   "execution_count": null,
   "metadata": {},
   "outputs": [],
   "source": [
    "joblib.dump(rf_grid.best_estimator_, 'rf_grid_3.pkl')"
   ]
  },
  {
   "cell_type": "markdown",
   "metadata": {},
   "source": [
    "<h6> Observation from RF_3 Classifier :- </h6>"
   ]
  },
  {
   "cell_type": "markdown",
   "metadata": {},
   "source": [
    "- This RF Classifier was able to classify points with an auc of 0.9999 and a high f1 score of ~0.9991.\n",
    "\n",
    "\n",
    "- TPR = 0.9994\n",
    "\n",
    "\n",
    "- False Positives = 15\n",
    "\n",
    "\n",
    "- FPR = 0.0013\n",
    "\n",
    "\n",
    "- This RF Classifier has a higher TPR of (99.94%), but a lower FPR(0.0010) than the DT_3 model which is a drawback.\n"
   ]
  },
  {
   "cell_type": "markdown",
   "metadata": {},
   "source": [
    "<h2> 3. XGBoost :-</h2>"
   ]
  },
  {
   "cell_type": "code",
   "execution_count": null,
   "metadata": {},
   "outputs": [],
   "source": [
    "hyperparameter = {'max_depth':[2, 3, 5, 7, 10], 'n_estimators': [10, 50, 100, 200, 500]}\n",
    "\n",
    "from xgboost import XGBClassifier\n",
    "xgb = XGBClassifier(objective='binary:logistic', n_jobs=-1)\n",
    "xgb_grid = RandomizedSearchCV(xgb, param_distributions=hyperparameter, cv=3, verbose=1, n_jobs=-1)"
   ]
  },
  {
   "cell_type": "code",
   "execution_count": null,
   "metadata": {},
   "outputs": [],
   "source": [
    "xgb_grid_results_tr, xgb_grid_results_test = model(xgb_grid, X_train_3.toarray(), Y_train_new, X_test_3.toarray(), Y_test_new)"
   ]
  },
  {
   "cell_type": "code",
   "execution_count": null,
   "metadata": {},
   "outputs": [],
   "source": [
    "print_grid_search_attributes(xgb_grid)"
   ]
  },
  {
   "cell_type": "code",
   "execution_count": null,
   "metadata": {},
   "outputs": [],
   "source": [
    "xgb_gs = xgb_grid.best_estimator_\n",
    "y_tr_pred = xgb_gs.predict(X_train_3.toarray())\n",
    "y_test_pred = xgb_gs.predict(X_test_3.toarray())\n",
    "xgb_tpr_fpr_train = tpr_fpr_func_2(Y_train_new, y_tr_pred)\n",
    "xgb_tpr_fpr_test = tpr_fpr_func_2(Y_test_new, y_test_pred)"
   ]
  },
  {
   "cell_type": "code",
   "execution_count": null,
   "metadata": {},
   "outputs": [],
   "source": [
    "# https://stackoverflow.com/questions/25009284/how-to-plot-roc-curve-in-python\n",
    "\n",
    "from sklearn.metrics import roc_auc_score, roc_curve\n",
    "clf=xgb_grid.best_estimator_\n",
    "clf.fit(X_train_3, Y_train_new)\n",
    "Y_1=clf.predict_proba(X_train_3)\n",
    "Y1= Y_1[:,1]\n",
    "train_fpr, train_tpr, tr_threshold = roc_curve(Y_train_new, Y1)\n",
    "Y_2=clf.predict_proba(X_test_3)\n",
    "Y2= Y_2[:,1]\n",
    "test_fpr, test_tpr, te_threshold = roc_curve(Y_test_new, Y2)\n",
    "plt.plot(train_fpr, train_tpr, label='Train_AUC = '+str(auc(train_fpr, train_tpr)))\n",
    "plt.plot(test_fpr, test_tpr, label='Test_AUC = '+str(auc(test_fpr, test_tpr)))\n",
    "plt.xlabel('False Positive rate')\n",
    "plt.ylabel('True Positive rate')\n",
    "plt.title('AUC')\n",
    "plt.legend()\n",
    "plt.grid()\n",
    "plt.show()"
   ]
  },
  {
   "cell_type": "code",
   "execution_count": null,
   "metadata": {},
   "outputs": [],
   "source": [
    "xgb_grid_results_tr"
   ]
  },
  {
   "cell_type": "code",
   "execution_count": null,
   "metadata": {},
   "outputs": [],
   "source": [
    "xgb_grid_results_test"
   ]
  },
  {
   "cell_type": "code",
   "execution_count": null,
   "metadata": {},
   "outputs": [],
   "source": [
    "xgb_tpr_fpr_train"
   ]
  },
  {
   "cell_type": "code",
   "execution_count": null,
   "metadata": {},
   "outputs": [],
   "source": [
    "xgb_tpr_fpr_test"
   ]
  },
  {
   "cell_type": "code",
   "execution_count": null,
   "metadata": {},
   "outputs": [],
   "source": [
    "joblib.dump(xgb_grid.best_estimator_, 'xgb_grid_3.pkl')"
   ]
  },
  {
   "cell_type": "markdown",
   "metadata": {},
   "source": [
    "<h6>Observation from XGBoost_3 Classifier :- "
   ]
  },
  {
   "cell_type": "markdown",
   "metadata": {},
   "source": [
    "- This XG Boost Classifier was able to classify points with a high test AUC of 0.9999 and a high f1-score of 0.9995 \n",
    "which is the highest of all of the previous models.\n",
    "\n",
    "\n",
    "- True Postives = 21947\n",
    "\n",
    "\n",
    "- TPR = 0.9994\n",
    "\n",
    "\n",
    "- False Positives = 15\n",
    "\n",
    "\n",
    "- FPR = 0.0010\n",
    "\n",
    "\n",
    "- This XGB Classifier has a higher FPR than the DT_3 model which is not desirable.\n"
   ]
  },
  {
   "cell_type": "markdown",
   "metadata": {},
   "source": [
    "<h4> Observation from all of the above models:- </h4>"
   ]
  },
  {
   "cell_type": "markdown",
   "metadata": {},
   "source": [
    "- The DT_3 model has the best FPR of 0.0008 but it also has the least TPR of 0.9987 and a test AUC of 0.9991.\n",
    "\n",
    "\n",
    "- The RF_3 has a better TPR than the DT_3 but it has a higher FPR which is not desirable.\n",
    "\n",
    "\n",
    "- The XGB_3 model has the best combination of FPR(0.001038) and TPR(0.9994) and an AUC of 0.9999 on the test data.\n",
    "\n",
    "\n",
    "- As the train and test scores are almost same, the models are not Overfitting."
   ]
  },
  {
   "cell_type": "markdown",
   "metadata": {},
   "source": [
    "# Summarizing results for Part 2 : Binary Classification Problem"
   ]
  },
  {
   "cell_type": "code",
   "execution_count": null,
   "metadata": {},
   "outputs": [],
   "source": [
    "from prettytable import PrettyTable\n",
    "\n",
    "x = PrettyTable()\n",
    "\n",
    "x.field_names = ['Model', 'Train_AUC', 'Train f1-score', 'Train TPR', 'Train FPR', 'Test AUC', 'Test f1-score', 'Test TPR', 'Test FPR']\n",
    "x.add_row(['DT - 3','0.9999','0.9998','99.98%','0.00009%','0.9991','0.9989','99.87%','0.08%'])\n",
    "x.add_row(['RF - 3','0.9999','0.9998','99.99%','0.013%','0.9999','0.9990','99.94%','0.13%'])\n",
    "x.add_row(['XGB - 3','1.0','1.0','100.0%','0.0%','0.9999','0.9992','99.94%','0.10%'])\n",
    "\n",
    "print(x)"
   ]
  },
  {
   "cell_type": "markdown",
   "metadata": {},
   "source": [
    "# Conclusion :-"
   ]
  },
  {
   "cell_type": "markdown",
   "metadata": {},
   "source": [
    "<h6> For Multiclass Classification:- </h6>\n",
    "    \n",
    "\n",
    "- The model XG Boost_1 is our best model for intrusion detection as it has highest f1-score 0.9994 and TPR 99.98% as well as the least FPR of 0.08%.\n",
    "\n",
    "\n",
    "\n",
    "<h6> For Binary Classification:- </h6>\n",
    "    \n",
    "\n",
    "- The XGB_3 model has the best combination of FPR(0.01038%) and TPR(99.94%) and an AUC of 0.9999 on the test data, thus it is our\n",
    "best model for binary classification."
   ]
  }
 ],
 "metadata": {
  "kernelspec": {
   "display_name": "Python 3",
   "language": "python",
   "name": "python3"
  },
  "language_info": {
   "codemirror_mode": {
    "name": "ipython",
    "version": 3
   },
   "file_extension": ".py",
   "mimetype": "text/x-python",
   "name": "python",
   "nbconvert_exporter": "python",
   "pygments_lexer": "ipython3",
   "version": "3.8.10"
  }
 },
 "nbformat": 4,
 "nbformat_minor": 2
}
