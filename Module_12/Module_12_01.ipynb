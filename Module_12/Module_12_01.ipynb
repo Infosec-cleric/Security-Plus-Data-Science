{
 "cells": [
  {
   "cell_type": "code",
   "execution_count": 1,
   "metadata": {},
   "outputs": [],
   "source": [
    "%matplotlib inline\n",
    "import matplotlib\n",
    "import matplotlib.pyplot as plt\n",
    "import seaborn as sns# for pretty plots\n",
    "import pandas as pd\n",
    "import numpy as np\n",
    "from sklearn import model_selection\n",
    "from sklearn.linear_model import LogisticRegression\n",
    "from sklearn.tree import DecisionTreeClassifier\n",
    "from sklearn.neighbors import KNeighborsClassifier\n",
    "from sklearn.discriminant_analysis import LinearDiscriminantAnalysis\n",
    "from sklearn.naive_bayes import GaussianNB\n",
    "from sklearn.svm import SVC\n",
    "from matplotlib.colors import ListedColormap\n",
    "from sklearn.model_selection import train_test_split\n",
    "from sklearn.preprocessing import StandardScaler\n",
    "from sklearn.datasets import make_moons, make_circles, make_classification\n",
    "from sklearn.neural_network import MLPClassifier\n",
    "from sklearn.neighbors import KNeighborsClassifier\n",
    "from sklearn.svm import SVC\n",
    "from sklearn.gaussian_process import GaussianProcessClassifier\n",
    "from sklearn.gaussian_process.kernels import RBF\n",
    "from sklearn.tree import DecisionTreeClassifier\n",
    "from sklearn.ensemble import RandomForestClassifier, AdaBoostClassifier\n",
    "from sklearn.naive_bayes import GaussianNB\n",
    "from sklearn.discriminant_analysis import QuadraticDiscriminantAnalysis"
   ]
  },
  {
   "cell_type": "markdown",
   "metadata": {},
   "source": [
    "# Dataset Description\n",
    "\n",
    "Software to detect network intrusions protects a computer network from unauthorized users, including perhaps insiders.  The intrusion detector learning task is to build a predictive model (i.e. a classifier) capable of distinguishing between `bad` connections, called intrusions or attacks, and `good` normal connections.\n",
    "\n",
    "The 1998 DARPA Intrusion Detection Evaluation Program was prepared and managed by MIT Lincoln Labs. The objective was to survey and evaluate research in intrusion detection.  A standard set of data to be audited, which includes a wide variety of intrusions simulated in a military network environment, was provided.  The 1999 KDD intrusion detection contest uses a version of this dataset.\n",
    "\n",
    "Lincoln Labs set up an environment to acquire nine weeks of raw TCP dump data for a local-area network (LAN) simulating a typical U.S. Air Force LAN.  They operated the LAN as if it were a true Air Force environment, but peppered it with multiple attacks.\n",
    "\n",
    "The raw training data was about four gigabytes of compressed binary TCP dump data from seven weeks of network traffic.  This was processed into about five million connection records.  Similarly, the two weeks of test data yielded around two million connection records.\n",
    "\n",
    "A connection is a sequence of TCP packets starting and ending at some well defined times, between which data flows to and from a source IP address to a target IP address under some well defined protocol.  Each connection is labeled as either normal, or as an attack, with exactly one specific attack type.  Each connection record consists of about 100 bytes.\n",
    "\n",
    "Attacks fall into four main categories:\n",
    "\n",
    "    DOS: denial-of-service, e.g. syn flood;\n",
    "    R2L: unauthorized access from a remote machine, e.g. guessing password;\n",
    "    U2R:  unauthorized access to local superuser (root) privileges, e.g., various ``buffer overflow'' attacks;\n",
    "    probing: surveillance and other probing, e.g., port scanning.\n",
    "\n",
    "It is important to note that the test data is not from the same probability distribution as the training data, and it includes specific attack types not in the training data.  This makes the task more realistic.  Some intrusion experts believe that most novel attacks are variants of known attacks and the \"signature\" of known attacks can be sufficient to catch novel variants.  The datasets contain a total of 24 training attack types, with an additional 14 types in the test data only. "
   ]
  },
  {
   "cell_type": "markdown",
   "metadata": {},
   "source": [
    "# Anomaly Detection\n",
    "\n",
    "Anomaly detection (also outlier detection) is the identification of rare items, events or observations which raise suspicions by differing significantly from the majority of the data. The anomalous items translate to some kind of problem."
   ]
  },
  {
   "cell_type": "markdown",
   "metadata": {},
   "source": [
    "# Data Preparation"
   ]
  },
  {
   "cell_type": "code",
   "execution_count": 2,
   "metadata": {},
   "outputs": [],
   "source": [
    "columns = ['duration', 'protocol', 'service', 'flag', 'src_bytes', 'dst_bytes', 'land', 'wrong_fragment',\n",
    "           'urgent', 'hot', 'num_failed_logins', 'logged_in', 'num_compromised', 'root_shell', 'su_attempted',\n",
    "           'num_root', 'num_file_creations', 'num_shells', 'num_access_files', 'num_outbound_cmds',\n",
    "           'is_host_login', 'is_guest_login', 'count', 'srv_count', 'serror_rate', 'srv_serror_rate',\n",
    "           'rerror_rate', 'srv_rerror_rate', 'same_srv_rate', 'diff_srv_rate', 'srv_diff_host_rate',\n",
    "           'dst_host_count', 'dst_host_srv_count', 'dst_host_same_srv_rate', 'dst_host_diff_srv_rate',\n",
    "           'dst_host_same_src_port_rate', 'dst_host_srv_diff_host_rate', 'dst_host_serror_rate',\n",
    "           'dst_host_srv_serror_rate', 'dst_host_rerror_rate', 'dst_host_srv_rerror_rate', 'attack_type', 'other']"
   ]
  },
  {
   "cell_type": "code",
   "execution_count": 3,
   "metadata": {},
   "outputs": [],
   "source": [
    "train_df = pd.read_csv('data/KDDTrain+.txt', header=None, names=columns)\n",
    "test_df = pd.read_csv('data/KDDTest+.txt', header=None, names=columns)"
   ]
  },
  {
   "cell_type": "markdown",
   "metadata": {},
   "source": [
    "Concatenate the datasets into one large dataframe (we will break them up into train-test splits later on)"
   ]
  },
  {
   "cell_type": "code",
   "execution_count": 4,
   "metadata": {},
   "outputs": [
    {
     "data": {
      "text/plain": [
       "(148517, 43)"
      ]
     },
     "execution_count": 4,
     "metadata": {},
     "output_type": "execute_result"
    }
   ],
   "source": [
    "df = pd.concat([train_df, test_df])\n",
    "df.shape"
   ]
  },
  {
   "cell_type": "markdown",
   "metadata": {},
   "source": [
    "# Data Exploration"
   ]
  },
  {
   "cell_type": "markdown",
   "metadata": {},
   "source": [
    "The predictor label is attack_type"
   ]
  },
  {
   "cell_type": "code",
   "execution_count": 5,
   "metadata": {},
   "outputs": [
    {
     "data": {
      "text/plain": [
       "array(['normal', 'normal', 'neptune', ..., 'back', 'normal', 'mscan'],\n",
       "      dtype=object)"
      ]
     },
     "execution_count": 5,
     "metadata": {},
     "output_type": "execute_result"
    }
   ],
   "source": [
    "df.attack_type.values"
   ]
  },
  {
   "cell_type": "code",
   "execution_count": 6,
   "metadata": {},
   "outputs": [
    {
     "data": {
      "text/plain": [
       "(array([ 0,  1,  2,  3,  4,  5,  6,  7,  8,  9, 10, 11, 12, 13, 14, 15, 16,\n",
       "        17, 18, 19, 20, 21, 22, 23, 24, 25, 26, 27, 28, 29, 30, 31, 32, 33,\n",
       "        34, 35, 36, 37, 38, 39]),\n",
       " [Text(0, 0, 'normal'),\n",
       "  Text(1, 0, 'neptune'),\n",
       "  Text(2, 0, 'warezclient'),\n",
       "  Text(3, 0, 'ipsweep'),\n",
       "  Text(4, 0, 'portsweep'),\n",
       "  Text(5, 0, 'teardrop'),\n",
       "  Text(6, 0, 'nmap'),\n",
       "  Text(7, 0, 'satan'),\n",
       "  Text(8, 0, 'smurf'),\n",
       "  Text(9, 0, 'pod'),\n",
       "  Text(10, 0, 'back'),\n",
       "  Text(11, 0, 'guess_passwd'),\n",
       "  Text(12, 0, 'ftp_write'),\n",
       "  Text(13, 0, 'multihop'),\n",
       "  Text(14, 0, 'rootkit'),\n",
       "  Text(15, 0, 'buffer_overflow'),\n",
       "  Text(16, 0, 'imap'),\n",
       "  Text(17, 0, 'warezmaster'),\n",
       "  Text(18, 0, 'phf'),\n",
       "  Text(19, 0, 'land'),\n",
       "  Text(20, 0, 'loadmodule'),\n",
       "  Text(21, 0, 'spy'),\n",
       "  Text(22, 0, 'perl'),\n",
       "  Text(23, 0, 'saint'),\n",
       "  Text(24, 0, 'mscan'),\n",
       "  Text(25, 0, 'apache2'),\n",
       "  Text(26, 0, 'snmpgetattack'),\n",
       "  Text(27, 0, 'processtable'),\n",
       "  Text(28, 0, 'httptunnel'),\n",
       "  Text(29, 0, 'ps'),\n",
       "  Text(30, 0, 'snmpguess'),\n",
       "  Text(31, 0, 'mailbomb'),\n",
       "  Text(32, 0, 'named'),\n",
       "  Text(33, 0, 'sendmail'),\n",
       "  Text(34, 0, 'xterm'),\n",
       "  Text(35, 0, 'worm'),\n",
       "  Text(36, 0, 'xlock'),\n",
       "  Text(37, 0, 'xsnoop'),\n",
       "  Text(38, 0, 'sqlattack'),\n",
       "  Text(39, 0, 'udpstorm')])"
      ]
     },
     "execution_count": 6,
     "metadata": {},
     "output_type": "execute_result"
    },
    {
     "data": {
      "image/png": "[encoded data removed]",
      "text/plain": [
       "<Figure size 1800x720 with 1 Axes>"
      ]
     },
     "metadata": {
      "needs_background": "light"
     },
     "output_type": "display_data"
    }
   ],
   "source": [
    "fig, ax = plt.subplots(figsize=(25, 10))\n",
    "sns.countplot(ax=ax, x=\"attack_type\", data=df)\n",
    "plt.xticks(rotation=45)"
   ]
  },
  {
   "cell_type": "markdown",
   "metadata": {},
   "source": [
    "Clearly the data is unevenly distributed.  Let's make a new variable called attack_set to which contains the superset the attack type belongs to"
   ]
  },
  {
   "cell_type": "code",
   "execution_count": 7,
   "metadata": {},
   "outputs": [],
   "source": [
    "df['attack_set'] = df['attack_type']"
   ]
  },
  {
   "cell_type": "code",
   "execution_count": 8,
   "metadata": {},
   "outputs": [],
   "source": [
    "# DOS\n",
    "df.loc[df.attack_set == 'neptune', 'attack_set'] = 'dos'\n",
    "df.loc[df.attack_set == 'back', 'attack_set'] = 'dos' \n",
    "df.loc[df.attack_set == 'land', 'attack_set'] = 'dos'\n",
    "df.loc[df.attack_set == 'pod', 'attack_set'] = 'dos' \n",
    "df.loc[df.attack_set == 'smurf', 'attack_set'] = 'dos'\n",
    "df.loc[df.attack_set == 'teardrop', 'attack_set'] = 'dos' \n",
    "df.loc[df.attack_set == 'mailbomb', 'attack_set'] = 'dos'\n",
    "df.loc[df.attack_set == 'processtable', 'attack_set'] = 'dos' \n",
    "df.loc[df.attack_set == 'udpstorm', 'attack_set'] = 'dos'\n",
    "df.loc[df.attack_set == 'apache2', 'attack_set'] = 'dos' \n",
    "df.loc[df.attack_set == 'worm', 'attack_set'] = 'dos'\n",
    "\n",
    "\n",
    "# User-to-Root (U2R)\n",
    "df.loc[df.attack_set == 'buffer_overflow', 'attack_set'] = 'u2r' \n",
    "df.loc[df.attack_set == 'loadmodule', 'attack_set'] = 'u2r'\n",
    "df.loc[df.attack_set == 'perl', 'attack_set'] = 'u2r' \n",
    "df.loc[df.attack_set == 'rootkit', 'attack_set'] = 'u2r'\n",
    "df.loc[df.attack_set == 'sqlattack', 'attack_set'] = 'u2r' \n",
    "df.loc[df.attack_set == 'xterm', 'attack_set'] = 'u2r'\n",
    "df.loc[df.attack_set == 'ps', 'attack_set'] = 'u2r'\n",
    "\n",
    "# Remote-to-Local (R2L)\n",
    "df.loc[df.attack_set == 'ftp_write', 'attack_set'] = 'r2l'\n",
    "df.loc[df.attack_set == 'guess_passwd', 'attack_set'] = 'r2l' \n",
    "df.loc[df.attack_set == 'imap', 'attack_set'] = 'r2l'\n",
    "df.loc[df.attack_set == 'multihop', 'attack_set'] = 'r2l' \n",
    "df.loc[df.attack_set == 'phf', 'attack_set'] = 'r2l'\n",
    "df.loc[df.attack_set == 'spy', 'attack_set'] = 'r2l' \n",
    "df.loc[df.attack_set == 'warezclient', 'attack_set'] = 'r2l'\n",
    "df.loc[df.attack_set == 'warezmaster', 'attack_set'] = 'r2l' \n",
    "df.loc[df.attack_set == 'xlock', 'attack_set'] = 'r2l'\n",
    "df.loc[df.attack_set == 'xsnoop', 'attack_set'] = 'r2l' \n",
    "df.loc[df.attack_set == 'snmpgetattack', 'attack_set'] = 'r2l'\n",
    "df.loc[df.attack_set == 'httptunnel', 'attack_set'] = 'r2l' \n",
    "df.loc[df.attack_set == 'snmpguess', 'attack_set'] = 'r2l'\n",
    "df.loc[df.attack_set == 'sendmail', 'attack_set'] = 'r2l' \n",
    "df.loc[df.attack_set == 'named', 'attack_set'] = 'r2l'\n",
    "\n",
    "# Probe attacks\n",
    "df.loc[df.attack_set == 'satan', 'attack_set'] = 'probe'\n",
    "df.loc[df.attack_set == 'ipsweep', 'attack_set'] = 'probe'\n",
    "df.loc[df.attack_set == 'nmap', 'attack_set'] = 'probe'\n",
    "df.loc[df.attack_set == 'portsweep', 'attack_set'] = 'probe'\n",
    "df.loc[df.attack_set == 'saint', 'attack_set'] = 'probe'\n",
    "df.loc[df.attack_set == 'mscan', 'attack_set'] = 'probe'"
   ]
  },
  {
   "cell_type": "code",
   "execution_count": 9,
   "metadata": {},
   "outputs": [
    {
     "data": {
      "text/plain": [
       "array(['normal', 'dos', 'r2l', 'probe', 'u2r'], dtype=object)"
      ]
     },
     "execution_count": 9,
     "metadata": {},
     "output_type": "execute_result"
    }
   ],
   "source": [
    "df.attack_set.unique()"
   ]
  },
  {
   "cell_type": "code",
   "execution_count": 10,
   "metadata": {},
   "outputs": [
    {
     "data": {
      "text/plain": [
       "normal             77054\n",
       "neptune            45871\n",
       "satan               4368\n",
       "ipsweep             3740\n",
       "smurf               3311\n",
       "portsweep           3088\n",
       "nmap                1566\n",
       "back                1315\n",
       "guess_passwd        1284\n",
       "mscan                996\n",
       "warezmaster          964\n",
       "teardrop             904\n",
       "warezclient          890\n",
       "apache2              737\n",
       "processtable         685\n",
       "snmpguess            331\n",
       "saint                319\n",
       "mailbomb             293\n",
       "pod                  242\n",
       "snmpgetattack        178\n",
       "httptunnel           133\n",
       "buffer_overflow       50\n",
       "land                  25\n",
       "multihop              25\n",
       "rootkit               23\n",
       "named                 17\n",
       "ps                    15\n",
       "sendmail              14\n",
       "xterm                 13\n",
       "imap                  12\n",
       "loadmodule            11\n",
       "ftp_write             11\n",
       "xlock                  9\n",
       "phf                    6\n",
       "perl                   5\n",
       "xsnoop                 4\n",
       "spy                    2\n",
       "worm                   2\n",
       "sqlattack              2\n",
       "udpstorm               2\n",
       "Name: attack_type, dtype: int64"
      ]
     },
     "execution_count": 10,
     "metadata": {},
     "output_type": "execute_result"
    }
   ],
   "source": [
    "df.attack_type.value_counts()"
   ]
  },
  {
   "cell_type": "code",
   "execution_count": 11,
   "metadata": {},
   "outputs": [
    {
     "data": {
      "text/plain": [
       "(array([0, 1, 2, 3, 4]),\n",
       " [Text(0, 0, 'normal'),\n",
       "  Text(1, 0, 'dos'),\n",
       "  Text(2, 0, 'r2l'),\n",
       "  Text(3, 0, 'probe'),\n",
       "  Text(4, 0, 'u2r')])"
      ]
     },
     "execution_count": 11,
     "metadata": {},
     "output_type": "execute_result"
    },
    {
     "data": {
      "image/png": "[encoded data removed]",
      "text/plain": [
       "<Figure size 1800x720 with 1 Axes>"
      ]
     },
     "metadata": {
      "needs_background": "light"
     },
     "output_type": "display_data"
    }
   ],
   "source": [
    "fig, ax = plt.subplots(figsize=(25, 10))\n",
    "sns.countplot(ax=ax, x=\"attack_set\", data=df)\n",
    "plt.xticks(rotation=45)"
   ]
  },
  {
   "cell_type": "code",
   "execution_count": 12,
   "metadata": {},
   "outputs": [
    {
     "data": {
      "text/plain": [
       "normal    77054\n",
       "dos       53387\n",
       "probe     14077\n",
       "r2l        3880\n",
       "u2r         119\n",
       "Name: attack_set, dtype: int64"
      ]
     },
     "execution_count": 12,
     "metadata": {},
     "output_type": "execute_result"
    }
   ],
   "source": [
    "df.attack_set.value_counts()"
   ]
  },
  {
   "cell_type": "code",
   "execution_count": 13,
   "metadata": {},
   "outputs": [
    {
     "data": {
      "text/plain": [
       "count     148517\n",
       "unique         5\n",
       "top       normal\n",
       "freq       77054\n",
       "Name: attack_set, dtype: object"
      ]
     },
     "execution_count": 13,
     "metadata": {},
     "output_type": "execute_result"
    }
   ],
   "source": [
    "df.attack_set.describe()"
   ]
  },
  {
   "cell_type": "code",
   "execution_count": 14,
   "metadata": {
    "scrolled": true
   },
   "outputs": [
    {
     "data": {
      "text/html": [
       "<div>\n",
       "<style scoped>\n",
       "    .dataframe tbody tr th:only-of-type {\n",
       "        vertical-align: middle;\n",
       "    }\n",
       "\n",
       "    .dataframe tbody tr th {\n",
       "        vertical-align: top;\n",
       "    }\n",
       "\n",
       "    .dataframe thead th {\n",
       "        text-align: right;\n",
       "    }\n",
       "</style>\n",
       "<table border=\"1\" class=\"dataframe\">\n",
       "  <thead>\n",
       "    <tr style=\"text-align: right;\">\n",
       "      <th></th>\n",
       "      <th>attack_type</th>\n",
       "      <th>attack_set</th>\n",
       "    </tr>\n",
       "  </thead>\n",
       "  <tbody>\n",
       "    <tr>\n",
       "      <th>0</th>\n",
       "      <td>normal</td>\n",
       "      <td>normal</td>\n",
       "    </tr>\n",
       "    <tr>\n",
       "      <th>1</th>\n",
       "      <td>normal</td>\n",
       "      <td>normal</td>\n",
       "    </tr>\n",
       "    <tr>\n",
       "      <th>2</th>\n",
       "      <td>neptune</td>\n",
       "      <td>dos</td>\n",
       "    </tr>\n",
       "    <tr>\n",
       "      <th>3</th>\n",
       "      <td>normal</td>\n",
       "      <td>normal</td>\n",
       "    </tr>\n",
       "    <tr>\n",
       "      <th>4</th>\n",
       "      <td>normal</td>\n",
       "      <td>normal</td>\n",
       "    </tr>\n",
       "  </tbody>\n",
       "</table>\n",
       "</div>"
      ],
      "text/plain": [
       "  attack_type attack_set\n",
       "0      normal     normal\n",
       "1      normal     normal\n",
       "2     neptune        dos\n",
       "3      normal     normal\n",
       "4      normal     normal"
      ]
     },
     "execution_count": 14,
     "metadata": {},
     "output_type": "execute_result"
    }
   ],
   "source": [
    "y = df[['attack_type', 'attack_set']].copy()\n",
    "y.head()"
   ]
  },
  {
   "cell_type": "code",
   "execution_count": 15,
   "metadata": {},
   "outputs": [
    {
     "data": {
      "text/html": [
       "<div>\n",
       "<style scoped>\n",
       "    .dataframe tbody tr th:only-of-type {\n",
       "        vertical-align: middle;\n",
       "    }\n",
       "\n",
       "    .dataframe tbody tr th {\n",
       "        vertical-align: top;\n",
       "    }\n",
       "\n",
       "    .dataframe thead th {\n",
       "        text-align: right;\n",
       "    }\n",
       "</style>\n",
       "<table border=\"1\" class=\"dataframe\">\n",
       "  <thead>\n",
       "    <tr style=\"text-align: right;\">\n",
       "      <th></th>\n",
       "      <th>duration</th>\n",
       "      <th>protocol</th>\n",
       "      <th>service</th>\n",
       "      <th>flag</th>\n",
       "      <th>src_bytes</th>\n",
       "      <th>dst_bytes</th>\n",
       "      <th>land</th>\n",
       "      <th>wrong_fragment</th>\n",
       "      <th>urgent</th>\n",
       "      <th>hot</th>\n",
       "      <th>...</th>\n",
       "      <th>dst_host_diff_srv_rate</th>\n",
       "      <th>dst_host_same_src_port_rate</th>\n",
       "      <th>dst_host_srv_diff_host_rate</th>\n",
       "      <th>dst_host_serror_rate</th>\n",
       "      <th>dst_host_srv_serror_rate</th>\n",
       "      <th>dst_host_rerror_rate</th>\n",
       "      <th>dst_host_srv_rerror_rate</th>\n",
       "      <th>attack_type</th>\n",
       "      <th>other</th>\n",
       "      <th>attack_set</th>\n",
       "    </tr>\n",
       "  </thead>\n",
       "  <tbody>\n",
       "    <tr>\n",
       "      <th>0</th>\n",
       "      <td>0</td>\n",
       "      <td>tcp</td>\n",
       "      <td>ftp_data</td>\n",
       "      <td>SF</td>\n",
       "      <td>491</td>\n",
       "      <td>0</td>\n",
       "      <td>0</td>\n",
       "      <td>0</td>\n",
       "      <td>0</td>\n",
       "      <td>0</td>\n",
       "      <td>...</td>\n",
       "      <td>0.03</td>\n",
       "      <td>0.17</td>\n",
       "      <td>0.00</td>\n",
       "      <td>0.00</td>\n",
       "      <td>0.00</td>\n",
       "      <td>0.05</td>\n",
       "      <td>0.00</td>\n",
       "      <td>normal</td>\n",
       "      <td>20</td>\n",
       "      <td>normal</td>\n",
       "    </tr>\n",
       "    <tr>\n",
       "      <th>1</th>\n",
       "      <td>0</td>\n",
       "      <td>udp</td>\n",
       "      <td>other</td>\n",
       "      <td>SF</td>\n",
       "      <td>146</td>\n",
       "      <td>0</td>\n",
       "      <td>0</td>\n",
       "      <td>0</td>\n",
       "      <td>0</td>\n",
       "      <td>0</td>\n",
       "      <td>...</td>\n",
       "      <td>0.60</td>\n",
       "      <td>0.88</td>\n",
       "      <td>0.00</td>\n",
       "      <td>0.00</td>\n",
       "      <td>0.00</td>\n",
       "      <td>0.00</td>\n",
       "      <td>0.00</td>\n",
       "      <td>normal</td>\n",
       "      <td>15</td>\n",
       "      <td>normal</td>\n",
       "    </tr>\n",
       "    <tr>\n",
       "      <th>2</th>\n",
       "      <td>0</td>\n",
       "      <td>tcp</td>\n",
       "      <td>private</td>\n",
       "      <td>S0</td>\n",
       "      <td>0</td>\n",
       "      <td>0</td>\n",
       "      <td>0</td>\n",
       "      <td>0</td>\n",
       "      <td>0</td>\n",
       "      <td>0</td>\n",
       "      <td>...</td>\n",
       "      <td>0.05</td>\n",
       "      <td>0.00</td>\n",
       "      <td>0.00</td>\n",
       "      <td>1.00</td>\n",
       "      <td>1.00</td>\n",
       "      <td>0.00</td>\n",
       "      <td>0.00</td>\n",
       "      <td>neptune</td>\n",
       "      <td>19</td>\n",
       "      <td>dos</td>\n",
       "    </tr>\n",
       "    <tr>\n",
       "      <th>3</th>\n",
       "      <td>0</td>\n",
       "      <td>tcp</td>\n",
       "      <td>http</td>\n",
       "      <td>SF</td>\n",
       "      <td>232</td>\n",
       "      <td>8153</td>\n",
       "      <td>0</td>\n",
       "      <td>0</td>\n",
       "      <td>0</td>\n",
       "      <td>0</td>\n",
       "      <td>...</td>\n",
       "      <td>0.00</td>\n",
       "      <td>0.03</td>\n",
       "      <td>0.04</td>\n",
       "      <td>0.03</td>\n",
       "      <td>0.01</td>\n",
       "      <td>0.00</td>\n",
       "      <td>0.01</td>\n",
       "      <td>normal</td>\n",
       "      <td>21</td>\n",
       "      <td>normal</td>\n",
       "    </tr>\n",
       "    <tr>\n",
       "      <th>4</th>\n",
       "      <td>0</td>\n",
       "      <td>tcp</td>\n",
       "      <td>http</td>\n",
       "      <td>SF</td>\n",
       "      <td>199</td>\n",
       "      <td>420</td>\n",
       "      <td>0</td>\n",
       "      <td>0</td>\n",
       "      <td>0</td>\n",
       "      <td>0</td>\n",
       "      <td>...</td>\n",
       "      <td>0.00</td>\n",
       "      <td>0.00</td>\n",
       "      <td>0.00</td>\n",
       "      <td>0.00</td>\n",
       "      <td>0.00</td>\n",
       "      <td>0.00</td>\n",
       "      <td>0.00</td>\n",
       "      <td>normal</td>\n",
       "      <td>21</td>\n",
       "      <td>normal</td>\n",
       "    </tr>\n",
       "  </tbody>\n",
       "</table>\n",
       "<p>5 rows × 44 columns</p>\n",
       "</div>"
      ],
      "text/plain": [
       "   duration protocol   service flag  src_bytes  dst_bytes  land  \\\n",
       "0         0      tcp  ftp_data   SF        491          0     0   \n",
       "1         0      udp     other   SF        146          0     0   \n",
       "2         0      tcp   private   S0          0          0     0   \n",
       "3         0      tcp      http   SF        232       8153     0   \n",
       "4         0      tcp      http   SF        199        420     0   \n",
       "\n",
       "   wrong_fragment  urgent  hot  ...  dst_host_diff_srv_rate  \\\n",
       "0               0       0    0  ...                    0.03   \n",
       "1               0       0    0  ...                    0.60   \n",
       "2               0       0    0  ...                    0.05   \n",
       "3               0       0    0  ...                    0.00   \n",
       "4               0       0    0  ...                    0.00   \n",
       "\n",
       "   dst_host_same_src_port_rate  dst_host_srv_diff_host_rate  \\\n",
       "0                         0.17                         0.00   \n",
       "1                         0.88                         0.00   \n",
       "2                         0.00                         0.00   \n",
       "3                         0.03                         0.04   \n",
       "4                         0.00                         0.00   \n",
       "\n",
       "   dst_host_serror_rate  dst_host_srv_serror_rate  dst_host_rerror_rate  \\\n",
       "0                  0.00                      0.00                  0.05   \n",
       "1                  0.00                      0.00                  0.00   \n",
       "2                  1.00                      1.00                  0.00   \n",
       "3                  0.03                      0.01                  0.00   \n",
       "4                  0.00                      0.00                  0.00   \n",
       "\n",
       "   dst_host_srv_rerror_rate  attack_type  other  attack_set  \n",
       "0                      0.00       normal     20      normal  \n",
       "1                      0.00       normal     15      normal  \n",
       "2                      0.00      neptune     19         dos  \n",
       "3                      0.01       normal     21      normal  \n",
       "4                      0.00       normal     21      normal  \n",
       "\n",
       "[5 rows x 44 columns]"
      ]
     },
     "execution_count": 15,
     "metadata": {},
     "output_type": "execute_result"
    }
   ],
   "source": [
    "df.head()"
   ]
  },
  {
   "cell_type": "code",
   "execution_count": 16,
   "metadata": {},
   "outputs": [],
   "source": [
    "# Let's remove the labels from the dataset now\n",
    "del df['attack_type']\n",
    "del df['attack_set']"
   ]
  },
  {
   "cell_type": "code",
   "execution_count": 17,
   "metadata": {},
   "outputs": [
    {
     "data": {
      "text/html": [
       "<div>\n",
       "<style scoped>\n",
       "    .dataframe tbody tr th:only-of-type {\n",
       "        vertical-align: middle;\n",
       "    }\n",
       "\n",
       "    .dataframe tbody tr th {\n",
       "        vertical-align: top;\n",
       "    }\n",
       "\n",
       "    .dataframe thead th {\n",
       "        text-align: right;\n",
       "    }\n",
       "</style>\n",
       "<table border=\"1\" class=\"dataframe\">\n",
       "  <thead>\n",
       "    <tr style=\"text-align: right;\">\n",
       "      <th></th>\n",
       "      <th>duration</th>\n",
       "      <th>protocol</th>\n",
       "      <th>service</th>\n",
       "      <th>flag</th>\n",
       "      <th>src_bytes</th>\n",
       "      <th>dst_bytes</th>\n",
       "      <th>land</th>\n",
       "      <th>wrong_fragment</th>\n",
       "      <th>urgent</th>\n",
       "      <th>hot</th>\n",
       "      <th>...</th>\n",
       "      <th>dst_host_srv_count</th>\n",
       "      <th>dst_host_same_srv_rate</th>\n",
       "      <th>dst_host_diff_srv_rate</th>\n",
       "      <th>dst_host_same_src_port_rate</th>\n",
       "      <th>dst_host_srv_diff_host_rate</th>\n",
       "      <th>dst_host_serror_rate</th>\n",
       "      <th>dst_host_srv_serror_rate</th>\n",
       "      <th>dst_host_rerror_rate</th>\n",
       "      <th>dst_host_srv_rerror_rate</th>\n",
       "      <th>other</th>\n",
       "    </tr>\n",
       "  </thead>\n",
       "  <tbody>\n",
       "    <tr>\n",
       "      <th>0</th>\n",
       "      <td>0</td>\n",
       "      <td>tcp</td>\n",
       "      <td>ftp_data</td>\n",
       "      <td>SF</td>\n",
       "      <td>491</td>\n",
       "      <td>0</td>\n",
       "      <td>0</td>\n",
       "      <td>0</td>\n",
       "      <td>0</td>\n",
       "      <td>0</td>\n",
       "      <td>...</td>\n",
       "      <td>25</td>\n",
       "      <td>0.17</td>\n",
       "      <td>0.03</td>\n",
       "      <td>0.17</td>\n",
       "      <td>0.00</td>\n",
       "      <td>0.00</td>\n",
       "      <td>0.00</td>\n",
       "      <td>0.05</td>\n",
       "      <td>0.00</td>\n",
       "      <td>20</td>\n",
       "    </tr>\n",
       "    <tr>\n",
       "      <th>1</th>\n",
       "      <td>0</td>\n",
       "      <td>udp</td>\n",
       "      <td>other</td>\n",
       "      <td>SF</td>\n",
       "      <td>146</td>\n",
       "      <td>0</td>\n",
       "      <td>0</td>\n",
       "      <td>0</td>\n",
       "      <td>0</td>\n",
       "      <td>0</td>\n",
       "      <td>...</td>\n",
       "      <td>1</td>\n",
       "      <td>0.00</td>\n",
       "      <td>0.60</td>\n",
       "      <td>0.88</td>\n",
       "      <td>0.00</td>\n",
       "      <td>0.00</td>\n",
       "      <td>0.00</td>\n",
       "      <td>0.00</td>\n",
       "      <td>0.00</td>\n",
       "      <td>15</td>\n",
       "    </tr>\n",
       "    <tr>\n",
       "      <th>2</th>\n",
       "      <td>0</td>\n",
       "      <td>tcp</td>\n",
       "      <td>private</td>\n",
       "      <td>S0</td>\n",
       "      <td>0</td>\n",
       "      <td>0</td>\n",
       "      <td>0</td>\n",
       "      <td>0</td>\n",
       "      <td>0</td>\n",
       "      <td>0</td>\n",
       "      <td>...</td>\n",
       "      <td>26</td>\n",
       "      <td>0.10</td>\n",
       "      <td>0.05</td>\n",
       "      <td>0.00</td>\n",
       "      <td>0.00</td>\n",
       "      <td>1.00</td>\n",
       "      <td>1.00</td>\n",
       "      <td>0.00</td>\n",
       "      <td>0.00</td>\n",
       "      <td>19</td>\n",
       "    </tr>\n",
       "    <tr>\n",
       "      <th>3</th>\n",
       "      <td>0</td>\n",
       "      <td>tcp</td>\n",
       "      <td>http</td>\n",
       "      <td>SF</td>\n",
       "      <td>232</td>\n",
       "      <td>8153</td>\n",
       "      <td>0</td>\n",
       "      <td>0</td>\n",
       "      <td>0</td>\n",
       "      <td>0</td>\n",
       "      <td>...</td>\n",
       "      <td>255</td>\n",
       "      <td>1.00</td>\n",
       "      <td>0.00</td>\n",
       "      <td>0.03</td>\n",
       "      <td>0.04</td>\n",
       "      <td>0.03</td>\n",
       "      <td>0.01</td>\n",
       "      <td>0.00</td>\n",
       "      <td>0.01</td>\n",
       "      <td>21</td>\n",
       "    </tr>\n",
       "    <tr>\n",
       "      <th>4</th>\n",
       "      <td>0</td>\n",
       "      <td>tcp</td>\n",
       "      <td>http</td>\n",
       "      <td>SF</td>\n",
       "      <td>199</td>\n",
       "      <td>420</td>\n",
       "      <td>0</td>\n",
       "      <td>0</td>\n",
       "      <td>0</td>\n",
       "      <td>0</td>\n",
       "      <td>...</td>\n",
       "      <td>255</td>\n",
       "      <td>1.00</td>\n",
       "      <td>0.00</td>\n",
       "      <td>0.00</td>\n",
       "      <td>0.00</td>\n",
       "      <td>0.00</td>\n",
       "      <td>0.00</td>\n",
       "      <td>0.00</td>\n",
       "      <td>0.00</td>\n",
       "      <td>21</td>\n",
       "    </tr>\n",
       "  </tbody>\n",
       "</table>\n",
       "<p>5 rows × 42 columns</p>\n",
       "</div>"
      ],
      "text/plain": [
       "   duration protocol   service flag  src_bytes  dst_bytes  land  \\\n",
       "0         0      tcp  ftp_data   SF        491          0     0   \n",
       "1         0      udp     other   SF        146          0     0   \n",
       "2         0      tcp   private   S0          0          0     0   \n",
       "3         0      tcp      http   SF        232       8153     0   \n",
       "4         0      tcp      http   SF        199        420     0   \n",
       "\n",
       "   wrong_fragment  urgent  hot  ...  dst_host_srv_count  \\\n",
       "0               0       0    0  ...                  25   \n",
       "1               0       0    0  ...                   1   \n",
       "2               0       0    0  ...                  26   \n",
       "3               0       0    0  ...                 255   \n",
       "4               0       0    0  ...                 255   \n",
       "\n",
       "   dst_host_same_srv_rate  dst_host_diff_srv_rate  \\\n",
       "0                    0.17                    0.03   \n",
       "1                    0.00                    0.60   \n",
       "2                    0.10                    0.05   \n",
       "3                    1.00                    0.00   \n",
       "4                    1.00                    0.00   \n",
       "\n",
       "   dst_host_same_src_port_rate  dst_host_srv_diff_host_rate  \\\n",
       "0                         0.17                         0.00   \n",
       "1                         0.88                         0.00   \n",
       "2                         0.00                         0.00   \n",
       "3                         0.03                         0.04   \n",
       "4                         0.00                         0.00   \n",
       "\n",
       "   dst_host_serror_rate  dst_host_srv_serror_rate  dst_host_rerror_rate  \\\n",
       "0                  0.00                      0.00                  0.05   \n",
       "1                  0.00                      0.00                  0.00   \n",
       "2                  1.00                      1.00                  0.00   \n",
       "3                  0.03                      0.01                  0.00   \n",
       "4                  0.00                      0.00                  0.00   \n",
       "\n",
       "   dst_host_srv_rerror_rate  other  \n",
       "0                      0.00     20  \n",
       "1                      0.00     15  \n",
       "2                      0.00     19  \n",
       "3                      0.01     21  \n",
       "4                      0.00     21  \n",
       "\n",
       "[5 rows x 42 columns]"
      ]
     },
     "execution_count": 17,
     "metadata": {},
     "output_type": "execute_result"
    }
   ],
   "source": [
    "df.head()"
   ]
  },
  {
   "cell_type": "markdown",
   "metadata": {},
   "source": [
    "## Learn More About Our Features"
   ]
  },
  {
   "cell_type": "code",
   "execution_count": 18,
   "metadata": {},
   "outputs": [
    {
     "data": {
      "text/plain": [
       "(148517, 42)"
      ]
     },
     "execution_count": 18,
     "metadata": {},
     "output_type": "execute_result"
    }
   ],
   "source": [
    "df.shape"
   ]
  },
  {
   "cell_type": "markdown",
   "metadata": {},
   "source": [
    "The datset contains 148,517 observations and 42 labels! "
   ]
  },
  {
   "cell_type": "code",
   "execution_count": 19,
   "metadata": {},
   "outputs": [
    {
     "name": "stdout",
     "output_type": "stream",
     "text": [
      "<class 'pandas.core.frame.DataFrame'>\n",
      "Int64Index: 148517 entries, 0 to 22543\n",
      "Data columns (total 42 columns):\n",
      " #   Column                       Non-Null Count   Dtype  \n",
      "---  ------                       --------------   -----  \n",
      " 0   duration                     148517 non-null  int64  \n",
      " 1   protocol                     148517 non-null  object \n",
      " 2   service                      148517 non-null  object \n",
      " 3   flag                         148517 non-null  object \n",
      " 4   src_bytes                    148517 non-null  int64  \n",
      " 5   dst_bytes                    148517 non-null  int64  \n",
      " 6   land                         148517 non-null  int64  \n",
      " 7   wrong_fragment               148517 non-null  int64  \n",
      " 8   urgent                       148517 non-null  int64  \n",
      " 9   hot                          148517 non-null  int64  \n",
      " 10  num_failed_logins            148517 non-null  int64  \n",
      " 11  logged_in                    148517 non-null  int64  \n",
      " 12  num_compromised              148517 non-null  int64  \n",
      " 13  root_shell                   148517 non-null  int64  \n",
      " 14  su_attempted                 148517 non-null  int64  \n",
      " 15  num_root                     148517 non-null  int64  \n",
      " 16  num_file_creations           148517 non-null  int64  \n",
      " 17  num_shells                   148517 non-null  int64  \n",
      " 18  num_access_files             148517 non-null  int64  \n",
      " 19  num_outbound_cmds            148517 non-null  int64  \n",
      " 20  is_host_login                148517 non-null  int64  \n",
      " 21  is_guest_login               148517 non-null  int64  \n",
      " 22  count                        148517 non-null  int64  \n",
      " 23  srv_count                    148517 non-null  int64  \n",
      " 24  serror_rate                  148517 non-null  float64\n",
      " 25  srv_serror_rate              148517 non-null  float64\n",
      " 26  rerror_rate                  148517 non-null  float64\n",
      " 27  srv_rerror_rate              148517 non-null  float64\n",
      " 28  same_srv_rate                148517 non-null  float64\n",
      " 29  diff_srv_rate                148517 non-null  float64\n",
      " 30  srv_diff_host_rate           148517 non-null  float64\n",
      " 31  dst_host_count               148517 non-null  int64  \n",
      " 32  dst_host_srv_count           148517 non-null  int64  \n",
      " 33  dst_host_same_srv_rate       148517 non-null  float64\n",
      " 34  dst_host_diff_srv_rate       148517 non-null  float64\n",
      " 35  dst_host_same_src_port_rate  148517 non-null  float64\n",
      " 36  dst_host_srv_diff_host_rate  148517 non-null  float64\n",
      " 37  dst_host_serror_rate         148517 non-null  float64\n",
      " 38  dst_host_srv_serror_rate     148517 non-null  float64\n",
      " 39  dst_host_rerror_rate         148517 non-null  float64\n",
      " 40  dst_host_srv_rerror_rate     148517 non-null  float64\n",
      " 41  other                        148517 non-null  int64  \n",
      "dtypes: float64(15), int64(24), object(3)\n",
      "memory usage: 48.7+ MB\n"
     ]
    }
   ],
   "source": [
    "df.info()"
   ]
  },
  {
   "cell_type": "code",
   "execution_count": 20,
   "metadata": {},
   "outputs": [
    {
     "data": {
      "text/html": [
       "<div>\n",
       "<style scoped>\n",
       "    .dataframe tbody tr th:only-of-type {\n",
       "        vertical-align: middle;\n",
       "    }\n",
       "\n",
       "    .dataframe tbody tr th {\n",
       "        vertical-align: top;\n",
       "    }\n",
       "\n",
       "    .dataframe thead th {\n",
       "        text-align: right;\n",
       "    }\n",
       "</style>\n",
       "<table border=\"1\" class=\"dataframe\">\n",
       "  <thead>\n",
       "    <tr style=\"text-align: right;\">\n",
       "      <th></th>\n",
       "      <th>duration</th>\n",
       "      <th>src_bytes</th>\n",
       "      <th>dst_bytes</th>\n",
       "      <th>land</th>\n",
       "      <th>wrong_fragment</th>\n",
       "      <th>urgent</th>\n",
       "      <th>hot</th>\n",
       "      <th>num_failed_logins</th>\n",
       "      <th>logged_in</th>\n",
       "      <th>num_compromised</th>\n",
       "      <th>...</th>\n",
       "      <th>dst_host_srv_count</th>\n",
       "      <th>dst_host_same_srv_rate</th>\n",
       "      <th>dst_host_diff_srv_rate</th>\n",
       "      <th>dst_host_same_src_port_rate</th>\n",
       "      <th>dst_host_srv_diff_host_rate</th>\n",
       "      <th>dst_host_serror_rate</th>\n",
       "      <th>dst_host_srv_serror_rate</th>\n",
       "      <th>dst_host_rerror_rate</th>\n",
       "      <th>dst_host_srv_rerror_rate</th>\n",
       "      <th>other</th>\n",
       "    </tr>\n",
       "  </thead>\n",
       "  <tbody>\n",
       "    <tr>\n",
       "      <th>count</th>\n",
       "      <td>148517.000000</td>\n",
       "      <td>1.485170e+05</td>\n",
       "      <td>1.485170e+05</td>\n",
       "      <td>148517.000000</td>\n",
       "      <td>148517.000000</td>\n",
       "      <td>148517.000000</td>\n",
       "      <td>148517.000000</td>\n",
       "      <td>148517.000000</td>\n",
       "      <td>148517.000000</td>\n",
       "      <td>148517.000000</td>\n",
       "      <td>...</td>\n",
       "      <td>148517.000000</td>\n",
       "      <td>148517.000000</td>\n",
       "      <td>148517.000000</td>\n",
       "      <td>148517.000000</td>\n",
       "      <td>148517.000000</td>\n",
       "      <td>148517.000000</td>\n",
       "      <td>148517.000000</td>\n",
       "      <td>148517.000000</td>\n",
       "      <td>148517.000000</td>\n",
       "      <td>148517.000000</td>\n",
       "    </tr>\n",
       "    <tr>\n",
       "      <th>mean</th>\n",
       "      <td>276.779305</td>\n",
       "      <td>4.022795e+04</td>\n",
       "      <td>1.708885e+04</td>\n",
       "      <td>0.000215</td>\n",
       "      <td>0.020523</td>\n",
       "      <td>0.000202</td>\n",
       "      <td>0.189379</td>\n",
       "      <td>0.004323</td>\n",
       "      <td>0.402789</td>\n",
       "      <td>0.255062</td>\n",
       "      <td>...</td>\n",
       "      <td>119.462661</td>\n",
       "      <td>0.534521</td>\n",
       "      <td>0.084103</td>\n",
       "      <td>0.145932</td>\n",
       "      <td>0.030584</td>\n",
       "      <td>0.256122</td>\n",
       "      <td>0.251304</td>\n",
       "      <td>0.136220</td>\n",
       "      <td>0.136397</td>\n",
       "      <td>19.278480</td>\n",
       "    </tr>\n",
       "    <tr>\n",
       "      <th>std</th>\n",
       "      <td>2460.683131</td>\n",
       "      <td>5.409612e+06</td>\n",
       "      <td>3.703525e+06</td>\n",
       "      <td>0.014677</td>\n",
       "      <td>0.240069</td>\n",
       "      <td>0.019417</td>\n",
       "      <td>2.013160</td>\n",
       "      <td>0.072248</td>\n",
       "      <td>0.490461</td>\n",
       "      <td>22.231375</td>\n",
       "      <td>...</td>\n",
       "      <td>111.232318</td>\n",
       "      <td>0.448061</td>\n",
       "      <td>0.194102</td>\n",
       "      <td>0.308638</td>\n",
       "      <td>0.108975</td>\n",
       "      <td>0.428500</td>\n",
       "      <td>0.429719</td>\n",
       "      <td>0.322741</td>\n",
       "      <td>0.335282</td>\n",
       "      <td>2.739757</td>\n",
       "    </tr>\n",
       "    <tr>\n",
       "      <th>min</th>\n",
       "      <td>0.000000</td>\n",
       "      <td>0.000000e+00</td>\n",
       "      <td>0.000000e+00</td>\n",
       "      <td>0.000000</td>\n",
       "      <td>0.000000</td>\n",
       "      <td>0.000000</td>\n",
       "      <td>0.000000</td>\n",
       "      <td>0.000000</td>\n",
       "      <td>0.000000</td>\n",
       "      <td>0.000000</td>\n",
       "      <td>...</td>\n",
       "      <td>0.000000</td>\n",
       "      <td>0.000000</td>\n",
       "      <td>0.000000</td>\n",
       "      <td>0.000000</td>\n",
       "      <td>0.000000</td>\n",
       "      <td>0.000000</td>\n",
       "      <td>0.000000</td>\n",
       "      <td>0.000000</td>\n",
       "      <td>0.000000</td>\n",
       "      <td>0.000000</td>\n",
       "    </tr>\n",
       "    <tr>\n",
       "      <th>25%</th>\n",
       "      <td>0.000000</td>\n",
       "      <td>0.000000e+00</td>\n",
       "      <td>0.000000e+00</td>\n",
       "      <td>0.000000</td>\n",
       "      <td>0.000000</td>\n",
       "      <td>0.000000</td>\n",
       "      <td>0.000000</td>\n",
       "      <td>0.000000</td>\n",
       "      <td>0.000000</td>\n",
       "      <td>0.000000</td>\n",
       "      <td>...</td>\n",
       "      <td>11.000000</td>\n",
       "      <td>0.050000</td>\n",
       "      <td>0.000000</td>\n",
       "      <td>0.000000</td>\n",
       "      <td>0.000000</td>\n",
       "      <td>0.000000</td>\n",
       "      <td>0.000000</td>\n",
       "      <td>0.000000</td>\n",
       "      <td>0.000000</td>\n",
       "      <td>18.000000</td>\n",
       "    </tr>\n",
       "    <tr>\n",
       "      <th>50%</th>\n",
       "      <td>0.000000</td>\n",
       "      <td>4.400000e+01</td>\n",
       "      <td>0.000000e+00</td>\n",
       "      <td>0.000000</td>\n",
       "      <td>0.000000</td>\n",
       "      <td>0.000000</td>\n",
       "      <td>0.000000</td>\n",
       "      <td>0.000000</td>\n",
       "      <td>0.000000</td>\n",
       "      <td>0.000000</td>\n",
       "      <td>...</td>\n",
       "      <td>72.000000</td>\n",
       "      <td>0.600000</td>\n",
       "      <td>0.020000</td>\n",
       "      <td>0.000000</td>\n",
       "      <td>0.000000</td>\n",
       "      <td>0.000000</td>\n",
       "      <td>0.000000</td>\n",
       "      <td>0.000000</td>\n",
       "      <td>0.000000</td>\n",
       "      <td>20.000000</td>\n",
       "    </tr>\n",
       "    <tr>\n",
       "      <th>75%</th>\n",
       "      <td>0.000000</td>\n",
       "      <td>2.780000e+02</td>\n",
       "      <td>5.710000e+02</td>\n",
       "      <td>0.000000</td>\n",
       "      <td>0.000000</td>\n",
       "      <td>0.000000</td>\n",
       "      <td>0.000000</td>\n",
       "      <td>0.000000</td>\n",
       "      <td>1.000000</td>\n",
       "      <td>0.000000</td>\n",
       "      <td>...</td>\n",
       "      <td>255.000000</td>\n",
       "      <td>1.000000</td>\n",
       "      <td>0.070000</td>\n",
       "      <td>0.050000</td>\n",
       "      <td>0.010000</td>\n",
       "      <td>0.600000</td>\n",
       "      <td>0.500000</td>\n",
       "      <td>0.000000</td>\n",
       "      <td>0.000000</td>\n",
       "      <td>21.000000</td>\n",
       "    </tr>\n",
       "    <tr>\n",
       "      <th>max</th>\n",
       "      <td>57715.000000</td>\n",
       "      <td>1.379964e+09</td>\n",
       "      <td>1.309937e+09</td>\n",
       "      <td>1.000000</td>\n",
       "      <td>3.000000</td>\n",
       "      <td>3.000000</td>\n",
       "      <td>101.000000</td>\n",
       "      <td>5.000000</td>\n",
       "      <td>1.000000</td>\n",
       "      <td>7479.000000</td>\n",
       "      <td>...</td>\n",
       "      <td>255.000000</td>\n",
       "      <td>1.000000</td>\n",
       "      <td>1.000000</td>\n",
       "      <td>1.000000</td>\n",
       "      <td>1.000000</td>\n",
       "      <td>1.000000</td>\n",
       "      <td>1.000000</td>\n",
       "      <td>1.000000</td>\n",
       "      <td>1.000000</td>\n",
       "      <td>21.000000</td>\n",
       "    </tr>\n",
       "  </tbody>\n",
       "</table>\n",
       "<p>8 rows × 39 columns</p>\n",
       "</div>"
      ],
      "text/plain": [
       "            duration     src_bytes     dst_bytes           land  \\\n",
       "count  148517.000000  1.485170e+05  1.485170e+05  148517.000000   \n",
       "mean      276.779305  4.022795e+04  1.708885e+04       0.000215   \n",
       "std      2460.683131  5.409612e+06  3.703525e+06       0.014677   \n",
       "min         0.000000  0.000000e+00  0.000000e+00       0.000000   \n",
       "25%         0.000000  0.000000e+00  0.000000e+00       0.000000   \n",
       "50%         0.000000  4.400000e+01  0.000000e+00       0.000000   \n",
       "75%         0.000000  2.780000e+02  5.710000e+02       0.000000   \n",
       "max     57715.000000  1.379964e+09  1.309937e+09       1.000000   \n",
       "\n",
       "       wrong_fragment         urgent            hot  num_failed_logins  \\\n",
       "count   148517.000000  148517.000000  148517.000000      148517.000000   \n",
       "mean         0.020523       0.000202       0.189379           0.004323   \n",
       "std          0.240069       0.019417       2.013160           0.072248   \n",
       "min          0.000000       0.000000       0.000000           0.000000   \n",
       "25%          0.000000       0.000000       0.000000           0.000000   \n",
       "50%          0.000000       0.000000       0.000000           0.000000   \n",
       "75%          0.000000       0.000000       0.000000           0.000000   \n",
       "max          3.000000       3.000000     101.000000           5.000000   \n",
       "\n",
       "           logged_in  num_compromised  ...  dst_host_srv_count  \\\n",
       "count  148517.000000    148517.000000  ...       148517.000000   \n",
       "mean        0.402789         0.255062  ...          119.462661   \n",
       "std         0.490461        22.231375  ...          111.232318   \n",
       "min         0.000000         0.000000  ...            0.000000   \n",
       "25%         0.000000         0.000000  ...           11.000000   \n",
       "50%         0.000000         0.000000  ...           72.000000   \n",
       "75%         1.000000         0.000000  ...          255.000000   \n",
       "max         1.000000      7479.000000  ...          255.000000   \n",
       "\n",
       "       dst_host_same_srv_rate  dst_host_diff_srv_rate  \\\n",
       "count           148517.000000           148517.000000   \n",
       "mean                 0.534521                0.084103   \n",
       "std                  0.448061                0.194102   \n",
       "min                  0.000000                0.000000   \n",
       "25%                  0.050000                0.000000   \n",
       "50%                  0.600000                0.020000   \n",
       "75%                  1.000000                0.070000   \n",
       "max                  1.000000                1.000000   \n",
       "\n",
       "       dst_host_same_src_port_rate  dst_host_srv_diff_host_rate  \\\n",
       "count                148517.000000                148517.000000   \n",
       "mean                      0.145932                     0.030584   \n",
       "std                       0.308638                     0.108975   \n",
       "min                       0.000000                     0.000000   \n",
       "25%                       0.000000                     0.000000   \n",
       "50%                       0.000000                     0.000000   \n",
       "75%                       0.050000                     0.010000   \n",
       "max                       1.000000                     1.000000   \n",
       "\n",
       "       dst_host_serror_rate  dst_host_srv_serror_rate  dst_host_rerror_rate  \\\n",
       "count         148517.000000             148517.000000         148517.000000   \n",
       "mean               0.256122                  0.251304              0.136220   \n",
       "std                0.428500                  0.429719              0.322741   \n",
       "min                0.000000                  0.000000              0.000000   \n",
       "25%                0.000000                  0.000000              0.000000   \n",
       "50%                0.000000                  0.000000              0.000000   \n",
       "75%                0.600000                  0.500000              0.000000   \n",
       "max                1.000000                  1.000000              1.000000   \n",
       "\n",
       "       dst_host_srv_rerror_rate          other  \n",
       "count             148517.000000  148517.000000  \n",
       "mean                   0.136397      19.278480  \n",
       "std                    0.335282       2.739757  \n",
       "min                    0.000000       0.000000  \n",
       "25%                    0.000000      18.000000  \n",
       "50%                    0.000000      20.000000  \n",
       "75%                    0.000000      21.000000  \n",
       "max                    1.000000      21.000000  \n",
       "\n",
       "[8 rows x 39 columns]"
      ]
     },
     "execution_count": 20,
     "metadata": {},
     "output_type": "execute_result"
    }
   ],
   "source": [
    "df.describe()"
   ]
  },
  {
   "cell_type": "markdown",
   "metadata": {},
   "source": [
    "### Numerical Features"
   ]
  },
  {
   "cell_type": "code",
   "execution_count": 21,
   "metadata": {},
   "outputs": [
    {
     "data": {
      "text/plain": [
       "array([[<AxesSubplot:title={'center':'serror_rate'}>,\n",
       "        <AxesSubplot:title={'center':'srv_serror_rate'}>,\n",
       "        <AxesSubplot:title={'center':'rerror_rate'}>],\n",
       "       [<AxesSubplot:title={'center':'srv_rerror_rate'}>,\n",
       "        <AxesSubplot:title={'center':'same_srv_rate'}>,\n",
       "        <AxesSubplot:title={'center':'diff_srv_rate'}>],\n",
       "       [<AxesSubplot:title={'center':'srv_diff_host_rate'}>,\n",
       "        <AxesSubplot:title={'center':'dst_host_count'}>,\n",
       "        <AxesSubplot:title={'center':'dst_host_srv_count'}>]],\n",
       "      dtype=object)"
      ]
     },
     "execution_count": 21,
     "metadata": {},
     "output_type": "execute_result"
    },
    {
     "data": {
      "image/png": "[encoded data removed]",
      "text/plain": [
       "<Figure size 1440x1080 with 9 Axes>"
      ]
     },
     "metadata": {
      "needs_background": "light"
     },
     "output_type": "display_data"
    }
   ],
   "source": [
    "# This is a subset of the numerical features\n",
    "num_df = df[['serror_rate', 'srv_serror_rate', 'rerror_rate', 'srv_rerror_rate', 'same_srv_rate', 'diff_srv_rate', 'srv_diff_host_rate', 'dst_host_count', 'dst_host_srv_count']]\n",
    "num_df.hist(figsize=(20,15))"
   ]
  },
  {
   "cell_type": "markdown",
   "metadata": {},
   "source": [
    "### Categorical Features"
   ]
  },
  {
   "cell_type": "code",
   "execution_count": 22,
   "metadata": {},
   "outputs": [
    {
     "data": {
      "text/plain": [
       "(array([ 0,  1,  2,  3,  4,  5,  6,  7,  8,  9, 10, 11, 12, 13, 14, 15, 16,\n",
       "        17, 18, 19, 20, 21, 22, 23, 24, 25, 26, 27, 28, 29, 30, 31, 32, 33,\n",
       "        34, 35, 36, 37, 38, 39, 40, 41, 42, 43, 44, 45, 46, 47, 48, 49, 50,\n",
       "        51, 52, 53, 54, 55, 56, 57, 58, 59, 60, 61, 62, 63, 64, 65, 66, 67,\n",
       "        68, 69]),\n",
       " [Text(0, 0, 'ftp_data'),\n",
       "  Text(1, 0, 'other'),\n",
       "  Text(2, 0, 'private'),\n",
       "  Text(3, 0, 'http'),\n",
       "  Text(4, 0, 'remote_job'),\n",
       "  Text(5, 0, 'name'),\n",
       "  Text(6, 0, 'netbios_ns'),\n",
       "  Text(7, 0, 'eco_i'),\n",
       "  Text(8, 0, 'mtp'),\n",
       "  Text(9, 0, 'telnet'),\n",
       "  Text(10, 0, 'finger'),\n",
       "  Text(11, 0, 'domain_u'),\n",
       "  Text(12, 0, 'supdup'),\n",
       "  Text(13, 0, 'uucp_path'),\n",
       "  Text(14, 0, 'Z39_50'),\n",
       "  Text(15, 0, 'smtp'),\n",
       "  Text(16, 0, 'csnet_ns'),\n",
       "  Text(17, 0, 'uucp'),\n",
       "  Text(18, 0, 'netbios_dgm'),\n",
       "  Text(19, 0, 'urp_i'),\n",
       "  Text(20, 0, 'auth'),\n",
       "  Text(21, 0, 'domain'),\n",
       "  Text(22, 0, 'ftp'),\n",
       "  Text(23, 0, 'bgp'),\n",
       "  Text(24, 0, 'ldap'),\n",
       "  Text(25, 0, 'ecr_i'),\n",
       "  Text(26, 0, 'gopher'),\n",
       "  Text(27, 0, 'vmnet'),\n",
       "  Text(28, 0, 'systat'),\n",
       "  Text(29, 0, 'http_443'),\n",
       "  Text(30, 0, 'efs'),\n",
       "  Text(31, 0, 'whois'),\n",
       "  Text(32, 0, 'imap4'),\n",
       "  Text(33, 0, 'iso_tsap'),\n",
       "  Text(34, 0, 'echo'),\n",
       "  Text(35, 0, 'klogin'),\n",
       "  Text(36, 0, 'link'),\n",
       "  Text(37, 0, 'sunrpc'),\n",
       "  Text(38, 0, 'login'),\n",
       "  Text(39, 0, 'kshell'),\n",
       "  Text(40, 0, 'sql_net'),\n",
       "  Text(41, 0, 'time'),\n",
       "  Text(42, 0, 'hostnames'),\n",
       "  Text(43, 0, 'exec'),\n",
       "  Text(44, 0, 'ntp_u'),\n",
       "  Text(45, 0, 'discard'),\n",
       "  Text(46, 0, 'nntp'),\n",
       "  Text(47, 0, 'courier'),\n",
       "  Text(48, 0, 'ctf'),\n",
       "  Text(49, 0, 'ssh'),\n",
       "  Text(50, 0, 'daytime'),\n",
       "  Text(51, 0, 'shell'),\n",
       "  Text(52, 0, 'netstat'),\n",
       "  Text(53, 0, 'pop_3'),\n",
       "  Text(54, 0, 'nnsp'),\n",
       "  Text(55, 0, 'IRC'),\n",
       "  Text(56, 0, 'pop_2'),\n",
       "  Text(57, 0, 'printer'),\n",
       "  Text(58, 0, 'tim_i'),\n",
       "  Text(59, 0, 'pm_dump'),\n",
       "  Text(60, 0, 'red_i'),\n",
       "  Text(61, 0, 'netbios_ssn'),\n",
       "  Text(62, 0, 'rje'),\n",
       "  Text(63, 0, 'X11'),\n",
       "  Text(64, 0, 'urh_i'),\n",
       "  Text(65, 0, 'http_8001'),\n",
       "  Text(66, 0, 'aol'),\n",
       "  Text(67, 0, 'http_2784'),\n",
       "  Text(68, 0, 'tftp_u'),\n",
       "  Text(69, 0, 'harvest')])"
      ]
     },
     "execution_count": 22,
     "metadata": {},
     "output_type": "execute_result"
    },
    {
     "data": {
      "image/png": "[encoded data removed]",
      "text/plain": [
       "<Figure size 1800x720 with 1 Axes>"
      ]
     },
     "metadata": {
      "needs_background": "light"
     },
     "output_type": "display_data"
    }
   ],
   "source": [
    "fig, ax = plt.subplots(figsize=(25, 10))\n",
    "sns.countplot(ax=ax, x=\"service\", data=df)\n",
    "plt.xticks(rotation=45)"
   ]
  },
  {
   "cell_type": "code",
   "execution_count": 23,
   "metadata": {},
   "outputs": [
    {
     "data": {
      "text/plain": [
       "(array([ 0,  1,  2,  3,  4,  5,  6,  7,  8,  9, 10]),\n",
       " [Text(0, 0, 'SF'),\n",
       "  Text(1, 0, 'S0'),\n",
       "  Text(2, 0, 'REJ'),\n",
       "  Text(3, 0, 'RSTR'),\n",
       "  Text(4, 0, 'SH'),\n",
       "  Text(5, 0, 'RSTO'),\n",
       "  Text(6, 0, 'S1'),\n",
       "  Text(7, 0, 'RSTOS0'),\n",
       "  Text(8, 0, 'S3'),\n",
       "  Text(9, 0, 'S2'),\n",
       "  Text(10, 0, 'OTH')])"
      ]
     },
     "execution_count": 23,
     "metadata": {},
     "output_type": "execute_result"
    },
    {
     "data": {
      "image/png": "[encoded data removed]",
      "text/plain": [
       "<Figure size 1800x720 with 1 Axes>"
      ]
     },
     "metadata": {
      "needs_background": "light"
     },
     "output_type": "display_data"
    }
   ],
   "source": [
    "fig, ax = plt.subplots(figsize=(25, 10))\n",
    "sns.countplot(ax=ax, x=\"flag\", data=df)\n",
    "plt.xticks(rotation=45)"
   ]
  },
  {
   "cell_type": "code",
   "execution_count": 24,
   "metadata": {},
   "outputs": [
    {
     "data": {
      "text/plain": [
       "(array([0, 1]), [Text(0, 0, '0'), Text(1, 0, '1')])"
      ]
     },
     "execution_count": 24,
     "metadata": {},
     "output_type": "execute_result"
    },
    {
     "data": {
      "image/png": "[encoded data removed]",
      "text/plain": [
       "<Figure size 1800x720 with 1 Axes>"
      ]
     },
     "metadata": {
      "needs_background": "light"
     },
     "output_type": "display_data"
    }
   ],
   "source": [
    "fig, ax = plt.subplots(figsize=(25, 10))\n",
    "sns.countplot(ax=ax, x=\"land\", data=df)\n",
    "plt.xticks(rotation=45)"
   ]
  },
  {
   "cell_type": "code",
   "execution_count": 25,
   "metadata": {},
   "outputs": [
    {
     "data": {
      "text/plain": [
       "(array([0, 1, 2, 3]),\n",
       " [Text(0, 0, '0'), Text(1, 0, '1'), Text(2, 0, '2'), Text(3, 0, '3')])"
      ]
     },
     "execution_count": 25,
     "metadata": {},
     "output_type": "execute_result"
    },
    {
     "data": {
      "image/png": "[encoded data removed]",
      "text/plain": [
       "<Figure size 1800x720 with 1 Axes>"
      ]
     },
     "metadata": {
      "needs_background": "light"
     },
     "output_type": "display_data"
    }
   ],
   "source": [
    "fig, ax = plt.subplots(figsize=(25, 10))\n",
    "sns.countplot(ax=ax, x=\"urgent\", data=df)\n",
    "plt.xticks(rotation=45)"
   ]
  },
  {
   "cell_type": "code",
   "execution_count": 26,
   "metadata": {},
   "outputs": [
    {
     "data": {
      "text/plain": [
       "(array([ 0,  1,  2,  3,  4,  5,  6,  7,  8,  9, 10, 11, 12, 13, 14, 15, 16,\n",
       "        17, 18, 19, 20, 21, 22, 23, 24, 25, 26, 27, 28]),\n",
       " [Text(0, 0, '0'),\n",
       "  Text(1, 0, '1'),\n",
       "  Text(2, 0, '2'),\n",
       "  Text(3, 0, '3'),\n",
       "  Text(4, 0, '4'),\n",
       "  Text(5, 0, '5'),\n",
       "  Text(6, 0, '6'),\n",
       "  Text(7, 0, '7'),\n",
       "  Text(8, 0, '8'),\n",
       "  Text(9, 0, '9'),\n",
       "  Text(10, 0, '10'),\n",
       "  Text(11, 0, '11'),\n",
       "  Text(12, 0, '12'),\n",
       "  Text(13, 0, '14'),\n",
       "  Text(14, 0, '15'),\n",
       "  Text(15, 0, '17'),\n",
       "  Text(16, 0, '18'),\n",
       "  Text(17, 0, '19'),\n",
       "  Text(18, 0, '20'),\n",
       "  Text(19, 0, '21'),\n",
       "  Text(20, 0, '22'),\n",
       "  Text(21, 0, '24'),\n",
       "  Text(22, 0, '25'),\n",
       "  Text(23, 0, '28'),\n",
       "  Text(24, 0, '30'),\n",
       "  Text(25, 0, '33'),\n",
       "  Text(26, 0, '44'),\n",
       "  Text(27, 0, '77'),\n",
       "  Text(28, 0, '101')])"
      ]
     },
     "execution_count": 26,
     "metadata": {},
     "output_type": "execute_result"
    },
    {
     "data": {
      "image/png": "[encoded data removed]",
      "text/plain": [
       "<Figure size 1800x720 with 1 Axes>"
      ]
     },
     "metadata": {
      "needs_background": "light"
     },
     "output_type": "display_data"
    }
   ],
   "source": [
    "fig, ax = plt.subplots(figsize=(25, 10))\n",
    "sns.countplot(ax=ax, x=\"hot\", data=df)\n",
    "plt.xticks(rotation=45)"
   ]
  },
  {
   "cell_type": "code",
   "execution_count": 27,
   "metadata": {},
   "outputs": [
    {
     "data": {
      "text/plain": [
       "(array([0, 1, 2, 3, 4, 5]),\n",
       " [Text(0, 0, '0'),\n",
       "  Text(1, 0, '1'),\n",
       "  Text(2, 0, '2'),\n",
       "  Text(3, 0, '3'),\n",
       "  Text(4, 0, '4'),\n",
       "  Text(5, 0, '5')])"
      ]
     },
     "execution_count": 27,
     "metadata": {},
     "output_type": "execute_result"
    },
    {
     "data": {
      "image/png": "[encoded data removed]",
      "text/plain": [
       "<Figure size 1800x720 with 1 Axes>"
      ]
     },
     "metadata": {
      "needs_background": "light"
     },
     "output_type": "display_data"
    }
   ],
   "source": [
    "fig, ax = plt.subplots(figsize=(25, 10))\n",
    "sns.countplot(ax=ax, x=\"num_failed_logins\", data=df)\n",
    "plt.xticks(rotation=45)"
   ]
  },
  {
   "cell_type": "code",
   "execution_count": 28,
   "metadata": {},
   "outputs": [
    {
     "data": {
      "text/plain": [
       "(array([0, 1]), [Text(0, 0, '0'), Text(1, 0, '1')])"
      ]
     },
     "execution_count": 28,
     "metadata": {},
     "output_type": "execute_result"
    },
    {
     "data": {
      "image/png": "[encoded data removed]",
      "text/plain": [
       "<Figure size 1800x720 with 1 Axes>"
      ]
     },
     "metadata": {
      "needs_background": "light"
     },
     "output_type": "display_data"
    }
   ],
   "source": [
    "fig, ax = plt.subplots(figsize=(25, 10))\n",
    "sns.countplot(ax=ax, x=\"logged_in\", data=df)\n",
    "plt.xticks(rotation=45)"
   ]
  },
  {
   "cell_type": "code",
   "execution_count": 29,
   "metadata": {},
   "outputs": [
    {
     "data": {
      "text/plain": [
       "(array([ 0,  1,  2,  3,  4,  5,  6,  7,  8,  9, 10, 11, 12, 13, 14, 15, 16,\n",
       "        17, 18, 19, 20, 21, 22, 23, 24, 25, 26, 27, 28, 29, 30, 31, 32, 33,\n",
       "        34, 35, 36, 37, 38, 39, 40, 41, 42, 43, 44, 45, 46, 47, 48, 49, 50,\n",
       "        51, 52, 53, 54, 55, 56, 57, 58, 59, 60, 61, 62, 63, 64, 65, 66, 67,\n",
       "        68, 69, 70, 71, 72, 73, 74, 75, 76, 77, 78, 79, 80, 81, 82, 83, 84,\n",
       "        85, 86, 87, 88, 89, 90, 91, 92, 93, 94, 95]),\n",
       " [Text(0, 0, '0'),\n",
       "  Text(1, 0, '1'),\n",
       "  Text(2, 0, '2'),\n",
       "  Text(3, 0, '3'),\n",
       "  Text(4, 0, '4'),\n",
       "  Text(5, 0, '5'),\n",
       "  Text(6, 0, '6'),\n",
       "  Text(7, 0, '7'),\n",
       "  Text(8, 0, '8'),\n",
       "  Text(9, 0, '9'),\n",
       "  Text(10, 0, '10'),\n",
       "  Text(11, 0, '11'),\n",
       "  Text(12, 0, '12'),\n",
       "  Text(13, 0, '13'),\n",
       "  Text(14, 0, '14'),\n",
       "  Text(15, 0, '15'),\n",
       "  Text(16, 0, '16'),\n",
       "  Text(17, 0, '17'),\n",
       "  Text(18, 0, '18'),\n",
       "  Text(19, 0, '19'),\n",
       "  Text(20, 0, '21'),\n",
       "  Text(21, 0, '22'),\n",
       "  Text(22, 0, '23'),\n",
       "  Text(23, 0, '25'),\n",
       "  Text(24, 0, '31'),\n",
       "  Text(25, 0, '36'),\n",
       "  Text(26, 0, '37'),\n",
       "  Text(27, 0, '38'),\n",
       "  Text(28, 0, '40'),\n",
       "  Text(29, 0, '44'),\n",
       "  Text(30, 0, '46'),\n",
       "  Text(31, 0, '49'),\n",
       "  Text(32, 0, '54'),\n",
       "  Text(33, 0, '57'),\n",
       "  Text(34, 0, '74'),\n",
       "  Text(35, 0, '75'),\n",
       "  Text(36, 0, '78'),\n",
       "  Text(37, 0, '83'),\n",
       "  Text(38, 0, '94'),\n",
       "  Text(39, 0, '102'),\n",
       "  Text(40, 0, '107'),\n",
       "  Text(41, 0, '110'),\n",
       "  Text(42, 0, '121'),\n",
       "  Text(43, 0, '151'),\n",
       "  Text(44, 0, '157'),\n",
       "  Text(45, 0, '165'),\n",
       "  Text(46, 0, '166'),\n",
       "  Text(47, 0, '174'),\n",
       "  Text(48, 0, '175'),\n",
       "  Text(49, 0, '177'),\n",
       "  Text(50, 0, '187'),\n",
       "  Text(51, 0, '193'),\n",
       "  Text(52, 0, '198'),\n",
       "  Text(53, 0, '202'),\n",
       "  Text(54, 0, '217'),\n",
       "  Text(55, 0, '237'),\n",
       "  Text(56, 0, '247'),\n",
       "  Text(57, 0, '258'),\n",
       "  Text(58, 0, '281'),\n",
       "  Text(59, 0, '307'),\n",
       "  Text(60, 0, '345'),\n",
       "  Text(61, 0, '349'),\n",
       "  Text(62, 0, '371'),\n",
       "  Text(63, 0, '373'),\n",
       "  Text(64, 0, '375'),\n",
       "  Text(65, 0, '378'),\n",
       "  Text(66, 0, '381'),\n",
       "  Text(67, 0, '405'),\n",
       "  Text(68, 0, '407'),\n",
       "  Text(69, 0, '452'),\n",
       "  Text(70, 0, '456'),\n",
       "  Text(71, 0, '457'),\n",
       "  Text(72, 0, '462'),\n",
       "  Text(73, 0, '520'),\n",
       "  Text(74, 0, '537'),\n",
       "  Text(75, 0, '538'),\n",
       "  Text(76, 0, '543'),\n",
       "  Text(77, 0, '558'),\n",
       "  Text(78, 0, '568'),\n",
       "  Text(79, 0, '611'),\n",
       "  Text(80, 0, '622'),\n",
       "  Text(81, 0, '676'),\n",
       "  Text(82, 0, '682'),\n",
       "  Text(83, 0, '691'),\n",
       "  Text(84, 0, '716'),\n",
       "  Text(85, 0, '751'),\n",
       "  Text(86, 0, '756'),\n",
       "  Text(87, 0, '761'),\n",
       "  Text(88, 0, '767'),\n",
       "  Text(89, 0, '789'),\n",
       "  Text(90, 0, '796'),\n",
       "  Text(91, 0, '809'),\n",
       "  Text(92, 0, '884'),\n",
       "  Text(93, 0, '1043'),\n",
       "  Text(94, 0, '1739'),\n",
       "  Text(95, 0, '7479')])"
      ]
     },
     "execution_count": 29,
     "metadata": {},
     "output_type": "execute_result"
    },
    {
     "data": {
      "image/png": "[encoded data removed]",
      "text/plain": [
       "<Figure size 1800x720 with 1 Axes>"
      ]
     },
     "metadata": {
      "needs_background": "light"
     },
     "output_type": "display_data"
    }
   ],
   "source": [
    "fig, ax = plt.subplots(figsize=(25, 10))\n",
    "sns.countplot(ax=ax, x=\"num_compromised\", data=df)\n",
    "plt.xticks(rotation=45)"
   ]
  },
  {
   "cell_type": "code",
   "execution_count": 30,
   "metadata": {},
   "outputs": [
    {
     "data": {
      "text/plain": [
       "(array([0, 1]), [Text(0, 0, '0'), Text(1, 0, '1')])"
      ]
     },
     "execution_count": 30,
     "metadata": {},
     "output_type": "execute_result"
    },
    {
     "data": {
      "image/png": "[encoded data removed]",
      "text/plain": [
       "<Figure size 1800x720 with 1 Axes>"
      ]
     },
     "metadata": {
      "needs_background": "light"
     },
     "output_type": "display_data"
    }
   ],
   "source": [
    "fig, ax = plt.subplots(figsize=(25, 10))\n",
    "sns.countplot(ax=ax, x=\"root_shell\", data=df)\n",
    "plt.xticks(rotation=45)"
   ]
  },
  {
   "cell_type": "code",
   "execution_count": 31,
   "metadata": {},
   "outputs": [
    {
     "data": {
      "text/plain": [
       "(array([0, 1, 2]), [Text(0, 0, '0'), Text(1, 0, '1'), Text(2, 0, '2')])"
      ]
     },
     "execution_count": 31,
     "metadata": {},
     "output_type": "execute_result"
    },
    {
     "data": {
      "image/png": "[encoded data removed]",
      "text/plain": [
       "<Figure size 1800x720 with 1 Axes>"
      ]
     },
     "metadata": {
      "needs_background": "light"
     },
     "output_type": "display_data"
    }
   ],
   "source": [
    "fig, ax = plt.subplots(figsize=(25, 10))\n",
    "sns.countplot(ax=ax, x=\"su_attempted\", data=df)\n",
    "plt.xticks(rotation=45)"
   ]
  },
  {
   "cell_type": "code",
   "execution_count": 32,
   "metadata": {},
   "outputs": [
    {
     "data": {
      "text/plain": [
       "(array([ 0,  1,  2,  3,  4,  5,  6,  7,  8,  9, 10, 11, 12, 13, 14, 15, 16,\n",
       "        17, 18, 19, 20, 21, 22, 23, 24, 25, 26, 27, 28, 29, 30, 31, 32, 33,\n",
       "        34, 35, 36, 37, 38, 39, 40, 41, 42, 43, 44, 45, 46, 47, 48, 49, 50,\n",
       "        51, 52, 53, 54, 55, 56, 57, 58, 59, 60, 61, 62, 63, 64, 65, 66, 67,\n",
       "        68, 69, 70, 71, 72, 73, 74, 75, 76, 77, 78, 79, 80, 81, 82, 83, 84,\n",
       "        85, 86, 87, 88, 89, 90]),\n",
       " [Text(0, 0, '0'),\n",
       "  Text(1, 0, '1'),\n",
       "  Text(2, 0, '2'),\n",
       "  Text(3, 0, '3'),\n",
       "  Text(4, 0, '4'),\n",
       "  Text(5, 0, '5'),\n",
       "  Text(6, 0, '6'),\n",
       "  Text(7, 0, '7'),\n",
       "  Text(8, 0, '8'),\n",
       "  Text(9, 0, '9'),\n",
       "  Text(10, 0, '10'),\n",
       "  Text(11, 0, '12'),\n",
       "  Text(12, 0, '14'),\n",
       "  Text(13, 0, '16'),\n",
       "  Text(14, 0, '17'),\n",
       "  Text(15, 0, '22'),\n",
       "  Text(16, 0, '23'),\n",
       "  Text(17, 0, '26'),\n",
       "  Text(18, 0, '31'),\n",
       "  Text(19, 0, '36'),\n",
       "  Text(20, 0, '38'),\n",
       "  Text(21, 0, '39'),\n",
       "  Text(22, 0, '40'),\n",
       "  Text(23, 0, '45'),\n",
       "  Text(24, 0, '47'),\n",
       "  Text(25, 0, '51'),\n",
       "  Text(26, 0, '54'),\n",
       "  Text(27, 0, '55'),\n",
       "  Text(28, 0, '71'),\n",
       "  Text(29, 0, '74'),\n",
       "  Text(30, 0, '77'),\n",
       "  Text(31, 0, '91'),\n",
       "  Text(32, 0, '100'),\n",
       "  Text(33, 0, '104'),\n",
       "  Text(34, 0, '119'),\n",
       "  Text(35, 0, '121'),\n",
       "  Text(36, 0, '123'),\n",
       "  Text(37, 0, '145'),\n",
       "  Text(38, 0, '146'),\n",
       "  Text(39, 0, '151'),\n",
       "  Text(40, 0, '173'),\n",
       "  Text(41, 0, '179'),\n",
       "  Text(42, 0, '184'),\n",
       "  Text(43, 0, '187'),\n",
       "  Text(44, 0, '190'),\n",
       "  Text(45, 0, '191'),\n",
       "  Text(46, 0, '204'),\n",
       "  Text(47, 0, '206'),\n",
       "  Text(48, 0, '218'),\n",
       "  Text(49, 0, '222'),\n",
       "  Text(50, 0, '247'),\n",
       "  Text(51, 0, '261'),\n",
       "  Text(52, 0, '278'),\n",
       "  Text(53, 0, '287'),\n",
       "  Text(54, 0, '338'),\n",
       "  Text(55, 0, '387'),\n",
       "  Text(56, 0, '390'),\n",
       "  Text(57, 0, '401'),\n",
       "  Text(58, 0, '402'),\n",
       "  Text(59, 0, '416'),\n",
       "  Text(60, 0, '417'),\n",
       "  Text(61, 0, '421'),\n",
       "  Text(62, 0, '425'),\n",
       "  Text(63, 0, '446'),\n",
       "  Text(64, 0, '450'),\n",
       "  Text(65, 0, '502'),\n",
       "  Text(66, 0, '505'),\n",
       "  Text(67, 0, '508'),\n",
       "  Text(68, 0, '512'),\n",
       "  Text(69, 0, '572'),\n",
       "  Text(70, 0, '605'),\n",
       "  Text(71, 0, '610'),\n",
       "  Text(72, 0, '611'),\n",
       "  Text(73, 0, '626'),\n",
       "  Text(74, 0, '629'),\n",
       "  Text(75, 0, '684'),\n",
       "  Text(76, 0, '749'),\n",
       "  Text(77, 0, '754'),\n",
       "  Text(78, 0, '766'),\n",
       "  Text(79, 0, '789'),\n",
       "  Text(80, 0, '841'),\n",
       "  Text(81, 0, '849'),\n",
       "  Text(82, 0, '857'),\n",
       "  Text(83, 0, '867'),\n",
       "  Text(84, 0, '878'),\n",
       "  Text(85, 0, '889'),\n",
       "  Text(86, 0, '975'),\n",
       "  Text(87, 0, '993'),\n",
       "  Text(88, 0, '1045'),\n",
       "  Text(89, 0, '1743'),\n",
       "  Text(90, 0, '7468')])"
      ]
     },
     "execution_count": 32,
     "metadata": {},
     "output_type": "execute_result"
    },
    {
     "data": {
      "image/png": "[encoded data removed]",
      "text/plain": [
       "<Figure size 1800x720 with 1 Axes>"
      ]
     },
     "metadata": {
      "needs_background": "light"
     },
     "output_type": "display_data"
    }
   ],
   "source": [
    "fig, ax = plt.subplots(figsize=(25, 10))\n",
    "sns.countplot(ax=ax, x=\"num_root\", data=df)\n",
    "plt.xticks(rotation=45)"
   ]
  },
  {
   "cell_type": "code",
   "execution_count": 33,
   "metadata": {},
   "outputs": [
    {
     "data": {
      "text/plain": [
       "(array([0, 1]), [Text(0, 0, '0'), Text(1, 0, '1')])"
      ]
     },
     "execution_count": 33,
     "metadata": {},
     "output_type": "execute_result"
    },
    {
     "data": {
      "image/png": "[encoded data removed]",
      "text/plain": [
       "<Figure size 1800x720 with 1 Axes>"
      ]
     },
     "metadata": {
      "needs_background": "light"
     },
     "output_type": "display_data"
    }
   ],
   "source": [
    "fig, ax = plt.subplots(figsize=(25, 10))\n",
    "sns.countplot(ax=ax, x=\"is_host_login\", data=df)\n",
    "plt.xticks(rotation=45)"
   ]
  },
  {
   "cell_type": "code",
   "execution_count": 34,
   "metadata": {},
   "outputs": [
    {
     "data": {
      "text/plain": [
       "(array([0, 1]), [Text(0, 0, '0'), Text(1, 0, '1')])"
      ]
     },
     "execution_count": 34,
     "metadata": {},
     "output_type": "execute_result"
    },
    {
     "data": {
      "image/png": "[encoded data removed]",
      "text/plain": [
       "<Figure size 1800x720 with 1 Axes>"
      ]
     },
     "metadata": {
      "needs_background": "light"
     },
     "output_type": "display_data"
    }
   ],
   "source": [
    "fig, ax = plt.subplots(figsize=(25, 10))\n",
    "sns.countplot(ax=ax, x=\"is_guest_login\", data=df)\n",
    "plt.xticks(rotation=45)"
   ]
  },
  {
   "cell_type": "code",
   "execution_count": 35,
   "metadata": {},
   "outputs": [],
   "source": [
    "one_hot1 = pd.get_dummies(df['protocol'])\n",
    "one_hot2 = pd.get_dummies(df['service'])\n",
    "one_hot3 = pd.get_dummies(df['flag'])"
   ]
  },
  {
   "cell_type": "code",
   "execution_count": 36,
   "metadata": {},
   "outputs": [],
   "source": [
    "df = df.drop(columns=['protocol', 'service', 'flag', 'other'])"
   ]
  },
  {
   "cell_type": "code",
   "execution_count": 37,
   "metadata": {},
   "outputs": [
    {
     "data": {
      "text/plain": [
       "Index(['duration', 'src_bytes', 'dst_bytes', 'land', 'wrong_fragment',\n",
       "       'urgent', 'hot', 'num_failed_logins', 'logged_in', 'num_compromised',\n",
       "       'root_shell', 'su_attempted', 'num_root', 'num_file_creations',\n",
       "       'num_shells', 'num_access_files', 'num_outbound_cmds', 'is_host_login',\n",
       "       'is_guest_login', 'count', 'srv_count', 'serror_rate',\n",
       "       'srv_serror_rate', 'rerror_rate', 'srv_rerror_rate', 'same_srv_rate',\n",
       "       'diff_srv_rate', 'srv_diff_host_rate', 'dst_host_count',\n",
       "       'dst_host_srv_count', 'dst_host_same_srv_rate',\n",
       "       'dst_host_diff_srv_rate', 'dst_host_same_src_port_rate',\n",
       "       'dst_host_srv_diff_host_rate', 'dst_host_serror_rate',\n",
       "       'dst_host_srv_serror_rate', 'dst_host_rerror_rate',\n",
       "       'dst_host_srv_rerror_rate'],\n",
       "      dtype='object')"
      ]
     },
     "execution_count": 37,
     "metadata": {},
     "output_type": "execute_result"
    }
   ],
   "source": [
    "df.columns"
   ]
  },
  {
   "cell_type": "code",
   "execution_count": 38,
   "metadata": {},
   "outputs": [],
   "source": [
    "df = df[['duration', 'src_bytes', 'dst_bytes', 'num_failed_logins', 'num_compromised', 'root_shell', 'su_attempted']]"
   ]
  },
  {
   "cell_type": "code",
   "execution_count": 39,
   "metadata": {},
   "outputs": [
    {
     "name": "stderr",
     "output_type": "stream",
     "text": [
      "<ipython-input-39-265fad67b060>:1: FutureWarning: The frame.append method is deprecated and will be removed from pandas in a future version. Use pandas.concat instead.\n",
      "  df = df.append(one_hot1)\n",
      "<ipython-input-39-265fad67b060>:2: FutureWarning: The frame.append method is deprecated and will be removed from pandas in a future version. Use pandas.concat instead.\n",
      "  df = df.append(one_hot2)\n",
      "<ipython-input-39-265fad67b060>:3: FutureWarning: The frame.append method is deprecated and will be removed from pandas in a future version. Use pandas.concat instead.\n",
      "  df = df.append(one_hot3)\n"
     ]
    }
   ],
   "source": [
    "df = df.append(one_hot1)\n",
    "df = df.append(one_hot2)\n",
    "df = df.append(one_hot3)"
   ]
  },
  {
   "cell_type": "code",
   "execution_count": 42,
   "metadata": {},
   "outputs": [
    {
     "ename": "IndentationError",
     "evalue": "unexpected indent (<ipython-input-42-2c2e08b866bf>, line 33)",
     "output_type": "error",
     "traceback": [
      "\u001b[0;36m  File \u001b[0;32m\"<ipython-input-42-2c2e08b866bf>\"\u001b[0;36m, line \u001b[0;32m33\u001b[0m\n\u001b[0;31m    cm = plt.cm.RdBu\u001b[0m\n\u001b[0m    ^\u001b[0m\n\u001b[0;31mIndentationError\u001b[0m\u001b[0;31m:\u001b[0m unexpected indent\n"
     ]
    }
   ],
   "source": [
    "h = .02  # step size in the mesh\n",
    "\n",
    "names = [\"Nearest Neighbors\", \"Linear SVM\", \"RBF SVM\", \"Gaussian Process\",\n",
    "         \"Decision Tree\", \"Random Forest\", \"Neural Net\", \"AdaBoost\",\n",
    "         \"Naive Bayes\", \"QDA\"]\n",
    "\n",
    "classifiers = [\n",
    "    KNeighborsClassifier(3),\n",
    "    SVC(kernel=\"linear\", C=0.025),\n",
    "    SVC(gamma=2, C=1),\n",
    "    GaussianProcessClassifier(1.0 * RBF(1.0)),\n",
    "    DecisionTreeClassifier(max_depth=5),\n",
    "    RandomForestClassifier(max_depth=5, n_estimators=10, max_features=1),\n",
    "    MLPClassifier(alpha=1, max_iter=1000),\n",
    "    AdaBoostClassifier(),\n",
    "    GaussianNB(),\n",
    "    QuadraticDiscriminantAnalysis()]\n",
    "\n",
    "# X, y = make_classification(n_features=2, n_redundant=0, n_informative=2,\n",
    "#                           random_state=1, n_clusters_per_class=1)\n",
    "#rng = np.random.RandomState(2)\n",
    "# X_train, X_test, y_train, y_test = train_test_split(X, y, test_size=0.33, random_state=42)\n",
    "figure = plt.figure(figsize=(27, 9))\n",
    "\n",
    "X_train, X_test, y_train, y_test = train_test_split(X, y, test_size=.4, random_state=42)\n",
    "\n",
    "x_min, x_max = X[:, 0].min() - .5, X[:, 0].max() + .5\n",
    "y_min, y_max = X[:, 1].min() - .5, X[:, 1].max() + .5\n",
    "xx, yy = np.meshgrid(np.arange(x_min, x_max, h),\n",
    "                         np.arange(y_min, y_max, h))\n",
    "\n",
    "# just plot the dataset first\n",
    "cm = plt.cm.RdBu\n",
    "cm_bright = ListedColormap(['#FF0000', '#0000FF'])\n",
    "ax = plt.subplot(len(datasets), len(classifiers) + 1, i)\n",
    "\n",
    "# Plot the training points\n",
    "ax.scatter(X_train[:, 0], X_train[:, 1], c=y_train, cmap=cm_bright,\n",
    "               edgecolors='k')\n",
    "# Plot the testing points\n",
    "ax.scatter(X_test[:, 0], X_test[:, 1], c=y_test, cmap=cm_bright, alpha=0.6,\n",
    "               edgecolors='k')\n",
    "ax.set_xlim(xx.min(), xx.max())\n",
    "ax.set_ylim(yy.min(), yy.max())\n",
    "ax.set_xticks(())\n",
    "ax.set_yticks(())\n",
    "\n",
    "# iterate over classifiers\n",
    "for name, clf in zip(names, classifiers):\n",
    "    ax = plt.subplot(len(datasets), len(classifiers) + 1, i)\n",
    "    clf.fit(X_train, y_train)\n",
    "        score = clf.score(X_test, y_test)\n",
    "\n",
    "        # Plot the decision boundary. For that, we will assign a color to each\n",
    "        # point in the mesh [x_min, x_max]x[y_min, y_max].\n",
    "        if hasattr(clf, \"decision_function\"):\n",
    "            Z = clf.decision_function(np.c_[xx.ravel(), yy.ravel()])\n",
    "        else:\n",
    "            Z = clf.predict_proba(np.c_[xx.ravel(), yy.ravel()])[:, 1]\n",
    "\n",
    "        # Put the result into a color plot\n",
    "        Z = Z.reshape(xx.shape)\n",
    "        ax.contourf(xx, yy, Z, cmap=cm, alpha=.8)\n",
    "\n",
    "        # Plot the training points\n",
    "        ax.scatter(X_train[:, 0], X_train[:, 1], c=y_train, cmap=cm_bright,\n",
    "                   edgecolors='k')\n",
    "        # Plot the testing points\n",
    "        ax.scatter(X_test[:, 0], X_test[:, 1], c=y_test, cmap=cm_bright,\n",
    "                   edgecolors='k', alpha=0.6)\n",
    "\n",
    "        ax.set_xlim(xx.min(), xx.max())\n",
    "        ax.set_ylim(yy.min(), yy.max())\n",
    "        ax.set_xticks(())\n",
    "        ax.set_yticks(())\n",
    "        if ds_cnt == 0:\n",
    "            ax.set_title(name)\n",
    "        ax.text(xx.max() - .3, yy.min() + .3, ('%.2f' % score).lstrip('0'),\n",
    "                size=15, horizontalalignment='right')\n",
    "        i += 1\n",
    "\n",
    "plt.tight_layout()\n",
    "plt.show()"
   ]
  },
  {
   "cell_type": "code",
   "execution_count": null,
   "metadata": {},
   "outputs": [],
   "source": []
  }
 ],
 "metadata": {
  "anaconda-cloud": {},
  "kernelspec": {
   "display_name": "Python 3",
   "language": "python",
   "name": "python3"
  },
  "language_info": {
   "codemirror_mode": {
    "name": "ipython",
    "version": 3
   },
   "file_extension": ".py",
   "mimetype": "text/x-python",
   "name": "python",
   "nbconvert_exporter": "python",
   "pygments_lexer": "ipython3",
   "version": "3.8.10"
  },
  "toc": {
   "colors": {
    "hover_highlight": "#DAA520",
    "navigate_num": "#000000",
    "navigate_text": "#333333",
    "running_highlight": "#FF0000",
    "selected_highlight": "#FFD700",
    "sidebar_border": "#EEEEEE",
    "wrapper_background": "#FFFFFF"
   },
   "moveMenuLeft": true,
   "nav_menu": {
    "height": "136px",
    "width": "253px"
   },
   "navigate_menu": true,
   "number_sections": true,
   "sideBar": true,
   "threshold": 4,
   "toc_cell": false,
   "toc_section_display": "block",
   "toc_window_display": false,
   "widenNotebook": false
  }
 },
 "nbformat": 4,
 "nbformat_minor": 2
}
