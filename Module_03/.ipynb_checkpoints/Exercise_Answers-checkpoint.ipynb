{
 "cells": [
  {
   "cell_type": "code",
   "execution_count": 1,
   "metadata": {},
   "outputs": [],
   "source": [
    "import pandas as pd\n",
    "\n",
    "df = pd.read_csv('data/IRAhandle_tweets_1.csv')"
   ]
  },
  {
   "cell_type": "markdown",
   "metadata": {},
   "source": [
    "### Exercise 1\n",
    "* Create a new dataframe with the variable author and only the quantiative variables"
   ]
  },
  {
   "cell_type": "code",
   "execution_count": 2,
   "metadata": {},
   "outputs": [],
   "source": [
    "quant_df = df[['author', 'following', 'followers', 'updates']]"
   ]
  },
  {
   "cell_type": "markdown",
   "metadata": {},
   "source": [
    "### Exercise 2\n",
    "* Use one graph to visualize the outliers"
   ]
  },
  {
   "cell_type": "code",
   "execution_count": 3,
   "metadata": {},
   "outputs": [
    {
     "data": {
      "text/plain": [
       "<matplotlib.axes._subplots.AxesSubplot at 0x7f067f7c7828>"
      ]
     },
     "execution_count": 3,
     "metadata": {},
     "output_type": "execute_result"
    }
   ],
   "source": [
    "quant_df[['following', 'followers', 'updates']].boxplot()"
   ]
  },
  {
   "cell_type": "markdown",
   "metadata": {},
   "source": [
    "### Exercise 3\n",
    "* Obtain mean, median, mode, range, standard deviation, and variance of the frequency of account types\n",
    "* Describe what this means for our data"
   ]
  },
  {
   "cell_type": "code",
   "execution_count": 4,
   "metadata": {},
   "outputs": [],
   "source": [
    "qual_df = df[['external_author_id', 'author', 'content', 'region', 'language',\n",
    "       'publish_date', 'harvested_date', 'following', 'followers', 'updates',\n",
    "       'post_type', 'account_type', 'retweet', 'account_category',\n",
    "       'new_june_2018', 'alt_external_id', 'tweet_id', 'article_url',\n",
    "       'tco1_step1', 'tco2_step1', 'tco3_step1']]"
   ]
  },
  {
   "cell_type": "code",
   "execution_count": 5,
   "metadata": {},
   "outputs": [
    {
     "name": "stdout",
     "output_type": "stream",
     "text": [
      "Mean: 17420.785714285714\n",
      "Mode: 0    1\n",
      "dtype: int64\n",
      "Median: 952.5\n",
      "Range: 114809\n",
      "Standard Deviation: 31832.399868877117\n",
      "Variance: 1013301681.4120879\n"
     ]
    }
   ],
   "source": [
    "print('Mean: ' + str(qual_df['account_type'].value_counts().mean()))\n",
    "print('Mode: ' + str(qual_df['account_type'].value_counts().mode()))\n",
    "print('Median: ' + str(qual_df['account_type'].value_counts().median()))\n",
    "print('Range: ' + str(qual_df['account_type'].value_counts().max() - qual_df['account_type'].value_counts().min()))\n",
    "print('Standard Deviation: ' + str(qual_df['account_type'].value_counts().std()))\n",
    "print('Variance: ' + str(qual_df['account_type'].value_counts().var()))"
   ]
  },
  {
   "cell_type": "code",
   "execution_count": null,
   "metadata": {},
   "outputs": [],
   "source": []
  }
 ],
 "metadata": {
  "kernelspec": {
   "display_name": "Python 3",
   "language": "python",
   "name": "python3"
  },
  "language_info": {
   "codemirror_mode": {
    "name": "ipython",
    "version": 3
   },
   "file_extension": ".py",
   "mimetype": "text/x-python",
   "name": "python",
   "nbconvert_exporter": "python",
   "pygments_lexer": "ipython3",
   "version": "3.6.7"
  }
 },
 "nbformat": 4,
 "nbformat_minor": 2
}
