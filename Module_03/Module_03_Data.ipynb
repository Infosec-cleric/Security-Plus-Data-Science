{
 "cells": [
  {
   "cell_type": "markdown",
   "metadata": {},
   "source": [
    "# Data"
   ]
  },
  {
   "cell_type": "markdown",
   "metadata": {},
   "source": [
    "People turn to data in order to tell a story, or solve a problem. Typically, we start with a question, and then look to data for answers. Whenever you look at data, it is important to be open to unexpected patterns, explanations, and unusual results. Sometimes the most interesting stories to be told with data are not ones we are set out to tell."
   ]
  },
  {
   "cell_type": "markdown",
   "metadata": {},
   "source": [
    "## What is data?\n",
    "\n",
    "Data is used to described things by assigning a value ot them. The values are then organized processed, and presented within a given context so that it becomes useful. Data can be in two different forms: qualitiative and quantitative."
   ]
  },
  {
   "cell_type": "markdown",
   "metadata": {},
   "source": [
    "### Dataset Description\n",
    "\n",
    "This data was used in the FiveThirtyEight story `Why We’re Sharing 3 Million Russian Troll Tweets`. This dataset contains data on tweets sent from Twitter handles connected to the Internet Research Agency.\n",
    "\n",
    "\n",
    "\n",
    "Header | Definition\n",
    "---|---------\n",
    "`external_author_id` | An author account ID from Twitter \n",
    "`author` | The handle sending the tweet\n",
    "`content` | The text of the tweet\n",
    "`region` | A region classification, as [determined by Social Studio](https://help.salesforce.com/articleView?id=000199367&type=1)\n",
    "`language` | The language of the tweet\n",
    "`publish_date` | The date and time the tweet was sent\n",
    "`harvested_date` | The date and time the tweet was collected by Social Studio\n",
    "`following` | The number of accounts the handle was following at the time of the tweet\n",
    "`followers` | The number of followers the handle had at the time of the tweet\n",
    "`updates` | The number of “update actions” on the account that authored the tweet, including tweets, retweets and likes\n",
    "`post_type` | Indicates if the tweet was a retweet or a quote-tweet\n",
    "`account_type` | Specific account theme, as coded by Linvill and Warren\n",
    "`retweet` | A binary indicator of whether or not the tweet is a retweet\n",
    "`account_category` | General account theme, as coded by Linvill and Warren\n",
    "`new_june_2018` | A binary indicator of whether the handle was newly listed in June 2018\n",
    "`alt_external_id` | Reconstruction of author account ID from Twitter, derived from `article_url` variable and the first list provided to Congress\n",
    "`tweet_id` | Unique id assigned by twitter to each status update, derived from `article_url`\n",
    "`article_url` | Link to original tweet. Now redirects to \"Account Suspended\" page\n",
    "`tco1_step1` | First redirect for the first http(s)://t.co/ link in a tweet, if it exists\n",
    "`tco2_step1` | First redirect for the second http(s)://t.co/ link in a tweet, if it exists\n",
    "`tco3_step1` | First redirect for the third http(s)://t.co/ link in a tweet, if it exists"
   ]
  },
  {
   "cell_type": "markdown",
   "metadata": {},
   "source": [
    "## Quanitative Data\n",
    "\n",
    "Quantitative data are measures of values or counts and are expressed as numbers. Quantitative data are data about numeric variables (e.g. how many; how much; or how often). Summarizing quantiative data in a single value inevitably loses a lot of information held in variation within the data. Understanding this variation may be key to working out the story the data may tell, and deciding how to analyze and visualize it. Often the first thing to do when examining a dataset is to chart the distribution of each continuous variable. You can think of this as the “shape” of the dataset, for each variable.\n",
    "\n",
    "Many variables, such as human height and weight, follow a “normal” distribution. If you draw a graph plotting the range of values in the data along the horizontal axis (also known as the X axis), and the number of individual data points for each value on the vertical or Y axis, a normal distribution gives a bell-shaped curve."
   ]
  },
  {
   "cell_type": "code",
   "execution_count": 1,
   "metadata": {},
   "outputs": [],
   "source": [
    "import pandas as pd\n",
    "\n",
    "df = pd.read_csv('data/IRAhandle_tweets_1.csv')"
   ]
  },
  {
   "cell_type": "markdown",
   "metadata": {},
   "source": [
    "We are just going to investigate the quantiative data, so we are going to great a new dataframe that is filled only with the author and quantative variables."
   ]
  },
  {
   "cell_type": "markdown",
   "metadata": {},
   "source": [
    "### Exercise 1\n",
    "* Create a new dataframe with the variable author and only the quantiative variables"
   ]
  },
  {
   "cell_type": "code",
   "execution_count": 2,
   "metadata": {},
   "outputs": [],
   "source": [
    "quant_df = df[['author', 'following', 'followers', 'updates']]"
   ]
  },
  {
   "cell_type": "markdown",
   "metadata": {},
   "source": [
    "## Measures of Central Tendency\n",
    "\n",
    "The measures of central tendency are metrics that represent an answer to the following question: \"What does the middle of our data look like?\". The word `middle` is vague because there are multiple definitions we can use to represent the middle.\n",
    "\n",
    "* Mean\n",
    "* Median \n",
    "* Mode\n",
    "* Range/Interquartile Range\n",
    "* Standard Deviation\n",
    "* Variance"
   ]
  },
  {
   "cell_type": "markdown",
   "metadata": {},
   "source": [
    "## Mean\n",
    "\n",
    "The mean is a descriptive statistics that looks at the average value of data. The mean represents a typical observation in our data set. If we were to pick one of our observations at random, then we're likely to get a valuve that's close to the mean."
   ]
  },
  {
   "cell_type": "code",
   "execution_count": 3,
   "metadata": {},
   "outputs": [
    {
     "data": {
      "text/plain": [
       "following    2008.342079\n",
       "followers    2256.398219\n",
       "updates      6433.557208\n",
       "dtype: float64"
      ]
     },
     "execution_count": 3,
     "metadata": {},
     "output_type": "execute_result"
    }
   ],
   "source": [
    "quant_df[['following', 'followers', 'updates']].mean()"
   ]
  },
  {
   "cell_type": "markdown",
   "metadata": {},
   "source": [
    "The average number of `followers` is 2256.398. This teels us that most tweet authors have a decent amount of followers. Let's demonstrate if this is true."
   ]
  },
  {
   "cell_type": "code",
   "execution_count": 4,
   "metadata": {},
   "outputs": [
    {
     "data": {
      "text/plain": [
       "10366"
      ]
     },
     "execution_count": 4,
     "metadata": {},
     "output_type": "execute_result"
    }
   ],
   "source": [
    "import random\n",
    "x = random.randint(1,101)\n",
    "\n",
    "quant_df.iloc[x]['followers']"
   ]
  },
  {
   "cell_type": "markdown",
   "metadata": {},
   "source": [
    "There are multiple types of means, but this form is the most common use. This mean is referred to as the `arithmetic mean` since we are summing up the values."
   ]
  },
  {
   "cell_type": "markdown",
   "metadata": {},
   "source": [
    "## Median\n",
    "\n",
    "The next measure of central tendency we'll cover is the median. The median also attempts to define a typical value in the dataset, but unlike mean, does not require calculation. To find the median, we first need to reorganize our dataset in ascending order. Then, the median is the value that coincides with the middle of the dataset. If there are an even amount of items, then we take the average of the two values that would `surround` the middle."
   ]
  },
  {
   "cell_type": "code",
   "execution_count": 5,
   "metadata": {},
   "outputs": [
    {
     "data": {
      "text/plain": [
       "following     939.0\n",
       "followers     611.0\n",
       "updates      2759.0\n",
       "dtype: float64"
      ]
     },
     "execution_count": 5,
     "metadata": {},
     "output_type": "execute_result"
    }
   ],
   "source": [
    "quant_df[['following', 'followers', 'updates']].median()"
   ]
  },
  {
   "cell_type": "markdown",
   "metadata": {},
   "source": [
    "The median number of followers is alot lower than the mean. The difference between mean and median is due to robustness."
   ]
  },
  {
   "cell_type": "markdown",
   "metadata": {},
   "source": [
    "## The Problem of Outliers\n",
    "\n",
    "The mean is calculated by summing up all the values we want and dividng by the numbe rof items, while the median is found by simply rearranging items. If we have outliers in our data, items that are much higher or lower than the other values, it can have an adverse effect on the mean. The mean is not `robust` to outliers. The median is robust to them. Let's examine the maximum and minimum values in our dataset."
   ]
  },
  {
   "cell_type": "code",
   "execution_count": 6,
   "metadata": {},
   "outputs": [
    {
     "data": {
      "text/plain": [
       "following    21843\n",
       "followers    23890\n",
       "updates      70028\n",
       "dtype: int64"
      ]
     },
     "execution_count": 6,
     "metadata": {},
     "output_type": "execute_result"
    }
   ],
   "source": [
    "quant_df[['following', 'followers', 'updates']].max()"
   ]
  },
  {
   "cell_type": "code",
   "execution_count": 7,
   "metadata": {},
   "outputs": [
    {
     "data": {
      "text/plain": [
       "following    0\n",
       "followers    0\n",
       "updates      1\n",
       "dtype: int64"
      ]
     },
     "execution_count": 7,
     "metadata": {},
     "output_type": "execute_result"
    }
   ],
   "source": [
    "quant_df[['following', 'followers', 'updates']].min()"
   ]
  },
  {
   "cell_type": "markdown",
   "metadata": {},
   "source": [
    "We now know that outliers are present in our data. Outliers can represent interesting events or errors in out data collection, so it's important to be able to recognize when they're present in the data. The comparison of median and mode is just one of many ways to detect the present of outliers, visualizaution is typically quicker."
   ]
  },
  {
   "cell_type": "markdown",
   "metadata": {},
   "source": [
    "### Exercise 2\n",
    "* Use one graph to visualize the outliers"
   ]
  },
  {
   "cell_type": "markdown",
   "metadata": {},
   "source": [
    "## Mode\n",
    "\n",
    "The mode is defined as the value that appears the most frequently in the data. The intuition of the mode as the `middle` is not as immediate as mean or median. If a value towards the modal value. The more a value appears, the more it will influence the mena. A mode represents the highest weighted contrributing factor to our mean."
   ]
  },
  {
   "cell_type": "code",
   "execution_count": 8,
   "metadata": {},
   "outputs": [
    {
     "data": {
      "text/html": [
       "<div>\n",
       "<style scoped>\n",
       "    .dataframe tbody tr th:only-of-type {\n",
       "        vertical-align: middle;\n",
       "    }\n",
       "\n",
       "    .dataframe tbody tr th {\n",
       "        vertical-align: top;\n",
       "    }\n",
       "\n",
       "    .dataframe thead th {\n",
       "        text-align: right;\n",
       "    }\n",
       "</style>\n",
       "<table border=\"1\" class=\"dataframe\">\n",
       "  <thead>\n",
       "    <tr style=\"text-align: right;\">\n",
       "      <th></th>\n",
       "      <th>following</th>\n",
       "      <th>followers</th>\n",
       "      <th>updates</th>\n",
       "    </tr>\n",
       "  </thead>\n",
       "  <tbody>\n",
       "    <tr>\n",
       "      <th>0</th>\n",
       "      <td>68</td>\n",
       "      <td>2</td>\n",
       "      <td>3</td>\n",
       "    </tr>\n",
       "  </tbody>\n",
       "</table>\n",
       "</div>"
      ],
      "text/plain": [
       "   following  followers  updates\n",
       "0         68          2        3"
      ]
     },
     "execution_count": 8,
     "metadata": {},
     "output_type": "execute_result"
    }
   ],
   "source": [
    "quant_df[['following', 'followers', 'updates']].mode()"
   ]
  },
  {
   "cell_type": "markdown",
   "metadata": {},
   "source": [
    "The modes are not reasonably close to the median, causing us to lose confidence in that both the median and mode do not fully help us represent the data. The measure of central tendency are useful for summarizing what an average observation is like in our data. However, they do not inform us as to how spread out are data is. There summaries of spread are what measures of spread help describe."
   ]
  },
  {
   "cell_type": "markdown",
   "metadata": {},
   "source": [
    "## Measures of Spread\n",
    "\n",
    "The measures of spread answers the question, `How much does my data vary?` There are few things in the world that stay the same everytime we observe it. This variability makes the world fuzzy and uncertain, so it's useful to have metrics that summarize this fuzzines."
   ]
  },
  {
   "cell_type": "markdown",
   "metadata": {},
   "source": [
    "### Range and Interquartile Range\n",
    "\n",
    "The first measure of spread we’ll cover is range. Range is the simplest to compute of the measures we’ll see: just subtract the smallest value of your data set from the largest value in the data. We found out what the minimum and maximum values of our variables were when we were investigating the median, so we’ll use these to find the range."
   ]
  },
  {
   "cell_type": "code",
   "execution_count": 9,
   "metadata": {},
   "outputs": [
    {
     "data": {
      "text/plain": [
       "23890"
      ]
     },
     "execution_count": 9,
     "metadata": {},
     "output_type": "execute_result"
    }
   ],
   "source": [
    "quant_df['followers'].max() - quant_df['followers'].min()"
   ]
  },
  {
   "cell_type": "markdown",
   "metadata": {},
   "source": [
    "We found a range of 23890, but what does that mean precisely? When we look at our various measures, it is important to keep all of this information in the context of your data. Our median follwer count was 611. The range is two orders of magnitude higher than our median, so it suggests that our data is extremely spread out. Perhaps if we had another data set, we could compare the ranges of these two data sets to gain an understanding on how they differ. Otherwise, the range alone isn’t super helpful. More often, we’ll want to see how much our data varies from the typical value. This summary falls under the jurisdiction of standard deviation and variance."
   ]
  },
  {
   "cell_type": "markdown",
   "metadata": {},
   "source": [
    "### Standard Deviation\n",
    "\n",
    "The standard deviation is also a measure of the spread of your observations, but is a statement of how much your data deviates from a typical data point. That is to say, the standard deviation summarizes how much your data differs from the mean. This relationship to the mean is apparent in standard deviation’s calculation. "
   ]
  },
  {
   "cell_type": "code",
   "execution_count": 10,
   "metadata": {},
   "outputs": [
    {
     "data": {
      "text/plain": [
       "4781.906073617183"
      ]
     },
     "execution_count": 10,
     "metadata": {},
     "output_type": "execute_result"
    }
   ],
   "source": [
    "quant_df['followers'].std()"
   ]
  },
  {
   "cell_type": "markdown",
   "metadata": {},
   "source": [
    "The results are expected. The followers range from 0 to 23890 making the standard deviation very large. The larger the standard deviation, the more spread out the data is around the mean and vice-versa. Variance is closely related to standard deviation"
   ]
  },
  {
   "cell_type": "markdown",
   "metadata": {},
   "source": [
    "### Variance\n",
    "\n",
    "Variance and standard deviation are almost the exact same thing! Variance is just the square of the standard deviation. Likewise, variance and standard deviation represent the same thing — a measure of spread — but it’s worth noting that the units are different. Whatever units your data are in, standard deviation will be the same, and variation will be in that units-squared.\n",
    "\n",
    "Like the mean, variance and standard deviation are affected by outliers. Many times, outliers are also points of interest in our data set, so squaring the difference from the mean allows us to point out this significance. More often than not, any statistical analyses you do will require just the mean and standard deviation, but the variance still has significance in other academic areas. The measures of central tendency and spread allow us to summarize key aspects of our data set, and we can build on these summaries to glean more insights from our data."
   ]
  },
  {
   "cell_type": "code",
   "execution_count": 11,
   "metadata": {},
   "outputs": [
    {
     "data": {
      "text/plain": [
       "22866625.696896903"
      ]
     },
     "execution_count": 11,
     "metadata": {},
     "output_type": "execute_result"
    }
   ],
   "source": [
    "quant_df['followers'].var()"
   ]
  },
  {
   "cell_type": "markdown",
   "metadata": {},
   "source": [
    "## Qualitative Data\n",
    "\n",
    "The most basic operation with cateogircal data is to aggregate it by counting the number of records that fall into each category. This gives a table of \"frequencies\". Often these are divided by the total number of records, and then multiplied by 100 to show them as percentages of the total. Here in this example"
   ]
  },
  {
   "cell_type": "code",
   "execution_count": 12,
   "metadata": {},
   "outputs": [],
   "source": [
    "qual_df = df[['external_author_id', 'author', 'content', 'region', 'language',\n",
    "       'publish_date', 'harvested_date', 'following', 'followers', 'updates',\n",
    "       'post_type', 'account_type', 'retweet', 'account_category',\n",
    "       'new_june_2018', 'alt_external_id', 'tweet_id', 'article_url',\n",
    "       'tco1_step1', 'tco2_step1', 'tco3_step1']]"
   ]
  },
  {
   "cell_type": "markdown",
   "metadata": {},
   "source": [
    "We rely on the `value_counts` function to receive the frequency of each unique value in the column"
   ]
  },
  {
   "cell_type": "code",
   "execution_count": 13,
   "metadata": {},
   "outputs": [
    {
     "data": {
      "text/plain": [
       "AMELIEBALDWIN      35261\n",
       "ARM_2_ALAN         14721\n",
       "ANTONHAYHAY        10400\n",
       "ANDYHASHTAGGER      9294\n",
       "ATLANTA_ONLINE      8467\n",
       "ALECMOOOOODY        8354\n",
       "ACEJINEV            6260\n",
       "ADNNELSTR           6091\n",
       "ANIIANTRS           5195\n",
       "4MYSQUAD            4833\n",
       "AMANDAVGREEN        4344\n",
       "ALDRICH420          3479\n",
       "ANNAROMAN0          3227\n",
       "ALEXXDRTRR          3200\n",
       "AIDEN7757           3142\n",
       "1LORENAFAVA1        3051\n",
       "ANNIEPOSHES         3044\n",
       "AMBERLINETR         2990\n",
       "ADRIENNE_GG         2900\n",
       "ALBUQUERQUEON       2824\n",
       "ANAAISLEC           2421\n",
       "ALEXHARRITONOV      2332\n",
       "ARABMTR             2268\n",
       "ARCHIEOLIVERS       2228\n",
       "ANZGRI              1993\n",
       "ADRGREERR           1897\n",
       "ANDYDREWDANIELS     1852\n",
       "ARTEMSSFE           1806\n",
       "ABIGAILSSILK        1714\n",
       "ALIISTRR            1621\n",
       "                   ...  \n",
       "ALAXXATRT              6\n",
       "ARMEDFREJYA            6\n",
       "AMALIAHULICK           5\n",
       "ALEKSANISIMOF          5\n",
       "ACHSAHORKHAN           5\n",
       "APRIILDTRUT            5\n",
       "AARON_M1TCHELL         4\n",
       "ADALESTRTM             3\n",
       "ANKIDINOVAKIRA         3\n",
       "AGAINUKRFAKE           3\n",
       "ANWARGAFUR             3\n",
       "ALEMICHLESS            3\n",
       "AMYYSSTS               3\n",
       "AGNESMLTRT             3\n",
       "ADLEESTTT              3\n",
       "2NDHALFONION           3\n",
       "ANEELSSTRT             3\n",
       "ANNETTETEAL1           3\n",
       "ABBYLOPTRT             3\n",
       "ALFNEWDAY              2\n",
       "ALIDANILOVSKAYA        2\n",
       "1ERIK_LEE              2\n",
       "ABU_UBAIDA2            1\n",
       "ANDREJFROLOV69         1\n",
       "459JISALGE             1\n",
       "ARTEMBOGACHENKO        1\n",
       "ACTIVEMIKR             1\n",
       "ALWAYSHUNGRYBAE        1\n",
       "ABBASSHUKRI            1\n",
       "AAATEST1234            1\n",
       "Name: author, Length: 298, dtype: int64"
      ]
     },
     "execution_count": 13,
     "metadata": {},
     "output_type": "execute_result"
    }
   ],
   "source": [
    "\n",
    "qual_df['author'].value_counts()"
   ]
  },
  {
   "cell_type": "markdown",
   "metadata": {},
   "source": [
    "This is a large dataset to view, lets just examine the 5 highest frequencies."
   ]
  },
  {
   "cell_type": "code",
   "execution_count": 14,
   "metadata": {},
   "outputs": [
    {
     "data": {
      "text/plain": [
       "AMELIEBALDWIN     35261\n",
       "ARM_2_ALAN        14721\n",
       "ANTONHAYHAY       10400\n",
       "ANDYHASHTAGGER     9294\n",
       "ATLANTA_ONLINE     8467\n",
       "Name: author, dtype: int64"
      ]
     },
     "execution_count": 14,
     "metadata": {},
     "output_type": "execute_result"
    }
   ],
   "source": [
    "quant_df['author'].value_counts().nlargest(5)"
   ]
  },
  {
   "cell_type": "markdown",
   "metadata": {},
   "source": [
    "Lets visualize this information."
   ]
  },
  {
   "cell_type": "code",
   "execution_count": 15,
   "metadata": {},
   "outputs": [
    {
     "data": {
      "text/plain": [
       "<matplotlib.axes._subplots.AxesSubplot at 0x7fe6a2273fd0>"
      ]
     },
     "execution_count": 15,
     "metadata": {},
     "output_type": "execute_result"
    }
   ],
   "source": [
    "quant_df['author'].value_counts().nlargest(5).plot.bar()"
   ]
  },
  {
   "cell_type": "markdown",
   "metadata": {},
   "source": [
    "In order to see the percetanges, we will use a pie plot to visualize this information."
   ]
  },
  {
   "cell_type": "code",
   "execution_count": 16,
   "metadata": {},
   "outputs": [
    {
     "data": {
      "text/plain": [
       "<matplotlib.axes._subplots.AxesSubplot at 0x7fe69ff3beb8>"
      ]
     },
     "execution_count": 16,
     "metadata": {},
     "output_type": "execute_result"
    },
    {
     "data": {
      "image/png": "[encoded data removed]",
      "text/plain": [
       "<Figure size 432x288 with 1 Axes>"
      ]
     },
     "metadata": {},
     "output_type": "display_data"
    }
   ],
   "source": [
    "quant_df['author'].value_counts().nlargest(10).plot.pie()"
   ]
  },
  {
   "cell_type": "markdown",
   "metadata": {},
   "source": [
    "Creating frequency counts from qualitative data creates a new quantitative variable, and has changed the level of analysis. The original data would consist of a huge table with a record for each author in creating the frequency data shown here, the level of analysis is shifted from the individual to the class."
   ]
  },
  {
   "cell_type": "markdown",
   "metadata": {},
   "source": [
    "### Exercise 3\n",
    "* Obtain mean, median, mode, range, standard deviation, and variance of the frequency of account types\n",
    "* Describe what this means for our data"
   ]
  },
  {
   "cell_type": "code",
   "execution_count": null,
   "metadata": {},
   "outputs": [],
   "source": []
  }
 ],
 "metadata": {
  "anaconda-cloud": {},
  "kernelspec": {
   "display_name": "Python 3",
   "language": "python",
   "name": "python3"
  },
  "language_info": {
   "codemirror_mode": {
    "name": "ipython",
    "version": 3
   },
   "file_extension": ".py",
   "mimetype": "text/x-python",
   "name": "python",
   "nbconvert_exporter": "python",
   "pygments_lexer": "ipython3",
   "version": "3.6.8"
  }
 },
 "nbformat": 4,
 "nbformat_minor": 2
}
