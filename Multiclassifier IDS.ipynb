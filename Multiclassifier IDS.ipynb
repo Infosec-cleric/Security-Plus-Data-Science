{
 "cells": [
  {
   "cell_type": "markdown",
   "metadata": {},
   "source": [
    "# Multiclassifer Intrusion Detection System"
   ]
  },
  {
   "cell_type": "markdown",
   "metadata": {},
   "source": [
    "## Problem\n",
    "* Diverse network environments\n",
    "* Dynamic attack landscape\n",
    "* Adversarial environment\n",
    "* IDS performance strongly depends on chosen classifier\n",
    "    * Perform differently in different environments\n",
    "    * No Free Lunch Theorem"
   ]
  },
  {
   "cell_type": "markdown",
   "metadata": {},
   "source": [
    "## Solution: Multiple Classifier Systems\n",
    "* Combine outputs of several IDSs\n",
    "    * Example: majority voting\n",
    "* Adapt to dynamic adversarial environments"
   ]
  },
  {
   "cell_type": "markdown",
   "metadata": {},
   "source": [
    "## Adaptive Intrusion Detection System\n",
    "* Base classifiers:\n",
    "    * NaiveBayes\n",
    "    * BayesNetwork\n",
    "    * Decision Stump\n",
    "    * RBFNetwork\n",
    "* Supervised Framework:\n",
    "    * Combine results of base IDSs\n",
    "    * Receive the true label of current sample\n",
    "    * Measure losses between IDS outputs and true label\n",
    "    * Maintain weights for base IDSs\n",
    "* Fusion steps:\n",
    "    * Loss update\n",
    "    * Mixing update\n",
    "* Loss update keeps ensemble competitive with the best base IDS\n",
    "    * Issue: Hard to recover if an IDS temporarily performs poorly and then performs well\n",
    "        * Slow adaptation to channge in IDS performances\n",
    "        * Vulnerable to adversarial changes in the attack pattern\n",
    "* Mixing update\n",
    "    * Keeps once-good IDSs around for quick recovery"
   ]
  }
 ],
 "metadata": {
  "kernelspec": {
   "display_name": "Python 3",
   "language": "python",
   "name": "python3"
  },
  "language_info": {
   "codemirror_mode": {
    "name": "ipython",
    "version": 3
   },
   "file_extension": ".py",
   "mimetype": "text/x-python",
   "name": "python",
   "nbconvert_exporter": "python",
   "pygments_lexer": "ipython3",
   "version": "3.6.7"
  }
 },
 "nbformat": 4,
 "nbformat_minor": 2
}
