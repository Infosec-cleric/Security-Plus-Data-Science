{
 "cells": [
  {
   "cell_type": "markdown",
   "metadata": {},
   "source": [
    "# Alert Correlation\n",
    "\n",
    "* Different attack manifestations\n",
    "    * Network packets\n",
    "    * OS Calls\n",
    "    * Audit records\n",
    "    * Application logs\n",
    "* Different types of intrusion detection\n",
    "    * Host vs network\n",
    "    * IT environment (e.g., Windows vs Linux)\n",
    "    * Level of abstraction (e.g., kernel leve vs application level)\n",
    "* Goal:\n",
    "    * Aggregate outputs of multiple IDSs\n",
    "    * Filter out irrelevant alerts\n",
    "    * Provide succinct view of security-related activity on the network\n",
    "\n",
    "## Components\n",
    "* Normalization: translate alerts to a common format\n",
    "* Preprocessing: augment normalized alerts by assigning meaningful values to all alert attributes\n",
    "    * start time, end time\n",
    "    * source, target\n",
    "* Fusion: combine alerts representing the same attack by different IDSs\n",
    "* Verification: determine the success of the attack corresponding to the alert\n",
    "* Thread reconstruction: combine series of alerts due to attacks by a single attacker against a single target\n",
    "* Session reconstruction: associate network-based alerts and host-based alerts\n",
    "* Focus recognition: identify hosts that are source or target of many attacks\n",
    "    * DoS, port scanning\n",
    "* Multistep correlation: identify common attack patterns\n",
    "    * sequence of individual attacks at different points of network\n",
    "    * example: island hopping\n",
    "* impact analysis: determine the attack impact for the specific network\n",
    "* prioritization: assign priorities to alerts"
   ]
  },
  {
   "cell_type": "markdown",
   "metadata": {},
   "source": [
    "## Alert preprocessing\n",
    "* supply missing alert attributes as accurately as possible\n",
    "    * use several heuristics\n",
    "\n",
    "## Alert Fusion\n",
    "* Goal: combine alerts representing independent detection of a same attack by different IDSs\n",
    "* Fusion: Temporal difference between alerts and information they contain\n",
    "    * keep sliding time window of alerts\n",
    "    * Alerts within the time window stored in a time-ordered queue\n",
    "    * Upon new alert, compared to alerts in queue\n",
    "    * Match if all overlaping attributes are equal and new alert is produced by different sensor\n",
    "    * Upon a match, alerts are merged; resulting meta-alert replaces the matched alert in the queue\n",
    "    \n",
    "## Alert Verification\n",
    "* True positive\n",
    "* Ireelevant positive\n",
    "* False positive\n",
    "* Idea extending intrusion detection signatures with an expected \"outcome\" of the attack\n",
    "    * visible and verifiable traces left by attack\n",
    "    * example: temporary file, outgoing connection\n",
    "\n",
    "## Attack thread reconstruction\n",
    "* combines a series of alerts due to attacks by one attacker against a single target\n",
    "* idea: merging alerts with equivalent source and target attributes in temporal proximity\n",
    "\n",
    "## Attack session reconstruction\n",
    "* Goal: link network-based alerts to related host-based alerts\n",
    "* Idea: rought spatial and temporal correspondence between the alerts\n",
    "\n",
    "## Attack focus recognition\n",
    "* Goal: identify hosts that are either the source or the target of a substantial number of attacks\n",
    "\n",
    "## Multistep correlation\n",
    "* Goal: identify high-level attack patterns that are composed of several individual attacks\n",
    "* High-level attack signatures\n",
    "    * Example: recon-breakin-escalate, island hopping"
   ]
  }
 ],
 "metadata": {
  "kernelspec": {
   "display_name": "Python 3",
   "language": "python",
   "name": "python3"
  },
  "language_info": {
   "codemirror_mode": {
    "name": "ipython",
    "version": 3
   },
   "file_extension": ".py",
   "mimetype": "text/x-python",
   "name": "python",
   "nbconvert_exporter": "python",
   "pygments_lexer": "ipython3",
   "version": "3.6.7"
  }
 },
 "nbformat": 4,
 "nbformat_minor": 2
}
