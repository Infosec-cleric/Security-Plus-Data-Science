{
 "cells": [
  {
   "cell_type": "markdown",
   "metadata": {},
   "source": [
    "Instructor: Imani Palmer\n",
    "\n",
    "Course Github: https://github.com/inp2/UIUC-iSchool-DataViz/\n",
    "\n",
    "Slack:"
   ]
  },
  {
   "cell_type": "markdown",
   "metadata": {},
   "source": [
    "# The Application of Data Science to Cybersecurity"
   ]
  },
  {
   "cell_type": "markdown",
   "metadata": {},
   "source": [
    "## Security Measures\n",
    "\n",
    "1. Prevention\n",
    "2. Detection\n",
    "3. Response"
   ]
  },
  {
   "cell_type": "markdown",
   "metadata": {},
   "source": [
    "### Detective Security\n",
    "* 1st Generation: Intrusion Detection Systems (IDS)\n",
    "    * 100% protection/prevention impossible\n",
    "    * Layered security\n",
    "* 2nd Generation: Security information and even management (SIEM)\n",
    "    * Correlate alerts from different intrusion detection sensors\n",
    "    * Present actionable information to security analyst\n",
    "* 3rd Generation: Big Data Analytics for Security\n",
    "    * Contextual security intelligence\n",
    "    * Long-term correlations"
   ]
  },
  {
   "cell_type": "markdown",
   "metadata": {},
   "source": [
    "### Why Now?\n",
    "* Attack landscape\n",
    "    * Attacks increasingly more sophisticated\n",
    "    * Required attacker knowledge going down\n",
    "    * Highly motivated attackers\n",
    "        * Attacker needs to succeed only once, defense needs to be right every single time\n",
    "* Current detection techniques failing\n",
    "    * Polymorphic malwares\n",
    "    * Zero-day attacks\n",
    "    * Advanced Persistent Threats (APTs)\n",
    "* Network perimeter dissolving\n",
    "    * Mobile/BYOD\n",
    "    * Cloud\n",
    "* Big data technology enable storage and analysis of higher volumes & more types of data\n",
    "* 2010 Verizon data breach investigation\n",
    "    * In 86% of cases of breach, evidence was in the logs\n",
    "    * Detection mechanisms failed to raise alerts"
   ]
  },
  {
   "cell_type": "markdown",
   "metadata": {},
   "source": [
    "## Detection Taxonomy\n",
    "\n",
    "* Information Source\n",
    "* Analysis Strategy\n",
    "* Time Aspects\n",
    "* Activeness\n",
    "* Continuality"
   ]
  },
  {
   "cell_type": "markdown",
   "metadata": {},
   "source": [
    "## Detection Taxonomy: Information Source\n",
    "\n",
    "* Host-based\n",
    "    * System calls, system logs\n",
    "* Network-based\n",
    "* Wireless Network\n",
    "* Application logs\n",
    "    * DB logs, web logs\n",
    "* IDS sensor alerts\n",
    "    * lower level sensor alarms"
   ]
  },
  {
   "cell_type": "markdown",
   "metadata": {},
   "source": [
    "## Detection Taxonomy: Analysis Strategy\n",
    "* Misuse detection\n",
    "    * Premise\n",
    "        * Knowledge of attack patterns provided by human experts\n",
    "        * Signature matching\n",
    "        * Data mining using labeled datasets\n",
    "    * Benefit: high accuracy in detecting known attacks\n",
    "    * Drawbacks:\n",
    "        * Ineffective against novel attacks\n",
    "        * Signatures need upates with each new discovered attack\n",
    "* Anomaly detection\n",
    "    * Premise\n",
    "        * Build profiles of normal behavior (users, hosts, networks)\n",
    "        * Detect deviations from normal profiles\n",
    "    * Benefit: detect novel attacks\n",
    "    * Drawback: Possible high false alarm rate"
   ]
  },
  {
   "cell_type": "markdown",
   "metadata": {},
   "source": [
    "## Detection Taxonomy: Time Aspects\n",
    "* Real-time\n",
    "    * Analyze live data (e.g., session data)\n",
    "    * Raise alert immediately if attack detected\n",
    "* Offline\n",
    "    * Analyze data offline\n",
    "    * Useful for forensics"
   ]
  },
  {
   "cell_type": "markdown",
   "metadata": {},
   "source": [
    "## Advanced Visualizations\n",
    "* Passive reaction\n",
    "    * Only generate alarms\n",
    "    * Benefit: human in the loop\n",
    "    * Drawback: alert may go unnoticed\n",
    "        * Example: target breach\n",
    "* Active response\n",
    "    * Corrective response (e.g., reconfigure firewalls)\n",
    "    * Proactive (e.g., log out attacker)\n",
    "    * Benefit: speed\n",
    "    * Drawback: may turn into DoS attack against"
   ]
  },
  {
   "cell_type": "markdown",
   "metadata": {},
   "source": [
    "## Detection Taxonomy: Continuality\n",
    "* Continuous monitoring\n",
    "    * Continuous real-time analysis\n",
    "    * Collect information about actions immediately\n",
    "    * Higher deployment effort\n",
    "* Periodic analysis\n",
    "    * Take periodic snapshots of the environment\n",
    "    * Lower security: exploitation between two snapshots"
   ]
  },
  {
   "cell_type": "markdown",
   "metadata": {},
   "source": [
    "# Examples of Data Science Application to Security\n",
    "\n",
    "* Detect malware-infected hosts\n",
    "    * Build host-domain access graph from web proxy logs\n",
    "    * Seed the analysis using minimal ground truth\n",
    "        * A blacklist & a whitelist of known bad & good sites\n",
    "    * Belief-propagation (PageRank-style): estimate likelihood of a host/domain to be malicious\n",
    "    * An instance of semi-supervised learning\n",
    "    \n",
    "* P2P botnet detection using netflow modeling\n",
    "    * Represent each host (IP address) as a node in a graph\n",
    "    * Edge (A,B) if & only if a flow from A to B exists\n",
    "    * Compute Hubs and Authorities scores\n",
    "    * Bots show similar hub-authority characteristics\n",
    "    * Do clustering in the 2-dimensional space (hub, authority)\n",
    "    \n",
    "* Beaconing pattern detection\n",
    "    * Web proxy alerts repeated access to suspicious IP\n",
    "    * Perform frequent itemset mining on sets of events prior to those IP accesses\n",
    "    * Frequent authentications to critical DB detected\n",
    "    \n",
    "* Behavior Profiling for APT Detection\n",
    "    * Anomaly sensors to detect specific deviations\n",
    "        * Unusual connections from a host to external IPs\n",
    "        * Profile set of machines each user logs into\n",
    "        * Model each user's normal working hours\n",
    "        * Model flow of data between internal hosts (e.g., to detect staging before data exfiltration)"
   ]
  }
 ],
 "metadata": {
  "anaconda-cloud": {},
  "kernelspec": {
   "display_name": "Python 3",
   "language": "python",
   "name": "python3"
  },
  "language_info": {
   "codemirror_mode": {
    "name": "ipython",
    "version": 3
   },
   "file_extension": ".py",
   "mimetype": "text/x-python",
   "name": "python",
   "nbconvert_exporter": "python",
   "pygments_lexer": "ipython3",
   "version": "3.6.7"
  }
 },
 "nbformat": 4,
 "nbformat_minor": 2
}
