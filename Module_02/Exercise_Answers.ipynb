{
 "cells": [
  {
   "cell_type": "code",
   "execution_count": 1,
   "metadata": {},
   "outputs": [],
   "source": [
    "import pandas as pd\n",
    "import matplotlib.pyplot as plt"
   ]
  },
  {
   "cell_type": "markdown",
   "metadata": {},
   "source": [
    "### Exercise 1"
   ]
  },
  {
   "cell_type": "code",
   "execution_count": 2,
   "metadata": {},
   "outputs": [],
   "source": [
    "# Answers\n",
    "\n",
    "# Create a dataframe\n",
    "df = pd.read_json('data/nvdcve.json')"
   ]
  },
  {
   "cell_type": "code",
   "execution_count": 3,
   "metadata": {},
   "outputs": [
    {
     "data": {
      "text/html": [
       "<div>\n",
       "<style scoped>\n",
       "    .dataframe tbody tr th:only-of-type {\n",
       "        vertical-align: middle;\n",
       "    }\n",
       "\n",
       "    .dataframe tbody tr th {\n",
       "        vertical-align: top;\n",
       "    }\n",
       "\n",
       "    .dataframe thead th {\n",
       "        text-align: right;\n",
       "    }\n",
       "</style>\n",
       "<table border=\"1\" class=\"dataframe\">\n",
       "  <thead>\n",
       "    <tr style=\"text-align: right;\">\n",
       "      <th></th>\n",
       "      <th>CVE_data_type</th>\n",
       "      <th>CVE_data_format</th>\n",
       "      <th>CVE_data_version</th>\n",
       "      <th>CVE_data_numberOfCVEs</th>\n",
       "      <th>CVE_data_timestamp</th>\n",
       "      <th>CVE_Items</th>\n",
       "    </tr>\n",
       "  </thead>\n",
       "  <tbody>\n",
       "    <tr>\n",
       "      <th>0</th>\n",
       "      <td>CVE</td>\n",
       "      <td>MITRE</td>\n",
       "      <td>4</td>\n",
       "      <td>540</td>\n",
       "      <td>2019-04-16T00:00Z</td>\n",
       "      <td>{'cve': {'data_type': 'CVE', 'data_format': 'M...</td>\n",
       "    </tr>\n",
       "    <tr>\n",
       "      <th>1</th>\n",
       "      <td>CVE</td>\n",
       "      <td>MITRE</td>\n",
       "      <td>4</td>\n",
       "      <td>540</td>\n",
       "      <td>2019-04-16T00:00Z</td>\n",
       "      <td>{'cve': {'data_type': 'CVE', 'data_format': 'M...</td>\n",
       "    </tr>\n",
       "    <tr>\n",
       "      <th>2</th>\n",
       "      <td>CVE</td>\n",
       "      <td>MITRE</td>\n",
       "      <td>4</td>\n",
       "      <td>540</td>\n",
       "      <td>2019-04-16T00:00Z</td>\n",
       "      <td>{'cve': {'data_type': 'CVE', 'data_format': 'M...</td>\n",
       "    </tr>\n",
       "    <tr>\n",
       "      <th>3</th>\n",
       "      <td>CVE</td>\n",
       "      <td>MITRE</td>\n",
       "      <td>4</td>\n",
       "      <td>540</td>\n",
       "      <td>2019-04-16T00:00Z</td>\n",
       "      <td>{'cve': {'data_type': 'CVE', 'data_format': 'M...</td>\n",
       "    </tr>\n",
       "    <tr>\n",
       "      <th>4</th>\n",
       "      <td>CVE</td>\n",
       "      <td>MITRE</td>\n",
       "      <td>4</td>\n",
       "      <td>540</td>\n",
       "      <td>2019-04-16T00:00Z</td>\n",
       "      <td>{'cve': {'data_type': 'CVE', 'data_format': 'M...</td>\n",
       "    </tr>\n",
       "    <tr>\n",
       "      <th>5</th>\n",
       "      <td>CVE</td>\n",
       "      <td>MITRE</td>\n",
       "      <td>4</td>\n",
       "      <td>540</td>\n",
       "      <td>2019-04-16T00:00Z</td>\n",
       "      <td>{'cve': {'data_type': 'CVE', 'data_format': 'M...</td>\n",
       "    </tr>\n",
       "    <tr>\n",
       "      <th>6</th>\n",
       "      <td>CVE</td>\n",
       "      <td>MITRE</td>\n",
       "      <td>4</td>\n",
       "      <td>540</td>\n",
       "      <td>2019-04-16T00:00Z</td>\n",
       "      <td>{'cve': {'data_type': 'CVE', 'data_format': 'M...</td>\n",
       "    </tr>\n",
       "    <tr>\n",
       "      <th>7</th>\n",
       "      <td>CVE</td>\n",
       "      <td>MITRE</td>\n",
       "      <td>4</td>\n",
       "      <td>540</td>\n",
       "      <td>2019-04-16T00:00Z</td>\n",
       "      <td>{'cve': {'data_type': 'CVE', 'data_format': 'M...</td>\n",
       "    </tr>\n",
       "    <tr>\n",
       "      <th>8</th>\n",
       "      <td>CVE</td>\n",
       "      <td>MITRE</td>\n",
       "      <td>4</td>\n",
       "      <td>540</td>\n",
       "      <td>2019-04-16T00:00Z</td>\n",
       "      <td>{'cve': {'data_type': 'CVE', 'data_format': 'M...</td>\n",
       "    </tr>\n",
       "    <tr>\n",
       "      <th>9</th>\n",
       "      <td>CVE</td>\n",
       "      <td>MITRE</td>\n",
       "      <td>4</td>\n",
       "      <td>540</td>\n",
       "      <td>2019-04-16T00:00Z</td>\n",
       "      <td>{'cve': {'data_type': 'CVE', 'data_format': 'M...</td>\n",
       "    </tr>\n",
       "  </tbody>\n",
       "</table>\n",
       "</div>"
      ],
      "text/plain": [
       "  CVE_data_type CVE_data_format  CVE_data_version  CVE_data_numberOfCVEs  \\\n",
       "0           CVE           MITRE                 4                    540   \n",
       "1           CVE           MITRE                 4                    540   \n",
       "2           CVE           MITRE                 4                    540   \n",
       "3           CVE           MITRE                 4                    540   \n",
       "4           CVE           MITRE                 4                    540   \n",
       "5           CVE           MITRE                 4                    540   \n",
       "6           CVE           MITRE                 4                    540   \n",
       "7           CVE           MITRE                 4                    540   \n",
       "8           CVE           MITRE                 4                    540   \n",
       "9           CVE           MITRE                 4                    540   \n",
       "\n",
       "  CVE_data_timestamp                                          CVE_Items  \n",
       "0  2019-04-16T00:00Z  {'cve': {'data_type': 'CVE', 'data_format': 'M...  \n",
       "1  2019-04-16T00:00Z  {'cve': {'data_type': 'CVE', 'data_format': 'M...  \n",
       "2  2019-04-16T00:00Z  {'cve': {'data_type': 'CVE', 'data_format': 'M...  \n",
       "3  2019-04-16T00:00Z  {'cve': {'data_type': 'CVE', 'data_format': 'M...  \n",
       "4  2019-04-16T00:00Z  {'cve': {'data_type': 'CVE', 'data_format': 'M...  \n",
       "5  2019-04-16T00:00Z  {'cve': {'data_type': 'CVE', 'data_format': 'M...  \n",
       "6  2019-04-16T00:00Z  {'cve': {'data_type': 'CVE', 'data_format': 'M...  \n",
       "7  2019-04-16T00:00Z  {'cve': {'data_type': 'CVE', 'data_format': 'M...  \n",
       "8  2019-04-16T00:00Z  {'cve': {'data_type': 'CVE', 'data_format': 'M...  \n",
       "9  2019-04-16T00:00Z  {'cve': {'data_type': 'CVE', 'data_format': 'M...  "
      ]
     },
     "execution_count": 3,
     "metadata": {},
     "output_type": "execute_result"
    }
   ],
   "source": [
    "# List the first 10 entries of the dataframe\n",
    "df.head(10)"
   ]
  },
  {
   "cell_type": "code",
   "execution_count": 4,
   "metadata": {},
   "outputs": [
    {
     "data": {
      "text/plain": [
       "0    4\n",
       "1    4\n",
       "2    4\n",
       "3    4\n",
       "4    4\n",
       "5    4\n",
       "6    4\n",
       "7    4\n",
       "8    4\n",
       "9    4\n",
       "Name: CVE_data_version, dtype: int64"
      ]
     },
     "execution_count": 4,
     "metadata": {},
     "output_type": "execute_result"
    }
   ],
   "source": [
    "# Show the CVE_data version of the first 5 people\n",
    "df.CVE_data_version[0:10]"
   ]
  },
  {
   "cell_type": "code",
   "execution_count": 5,
   "metadata": {},
   "outputs": [
    {
     "data": {
      "text/plain": [
       "540.0"
      ]
     },
     "execution_count": 5,
     "metadata": {},
     "output_type": "execute_result"
    }
   ],
   "source": [
    "# Calculate the mean of the number of CVEs\n",
    "df.CVE_data_numberOfCVEs.mean()"
   ]
  },
  {
   "cell_type": "code",
   "execution_count": 6,
   "metadata": {},
   "outputs": [
    {
     "data": {
      "text/plain": [
       "540.0"
      ]
     },
     "execution_count": 6,
     "metadata": {},
     "output_type": "execute_result"
    }
   ],
   "source": [
    "# Calculate the median of the number of CVEs\n",
    "df.CVE_data_numberOfCVEs.median()"
   ]
  },
  {
   "cell_type": "markdown",
   "metadata": {},
   "source": [
    "## Exercise 2"
   ]
  },
  {
   "cell_type": "code",
   "execution_count": 7,
   "metadata": {},
   "outputs": [
    {
     "data": {
      "text/html": [
       "<div>\n",
       "<style scoped>\n",
       "    .dataframe tbody tr th:only-of-type {\n",
       "        vertical-align: middle;\n",
       "    }\n",
       "\n",
       "    .dataframe tbody tr th {\n",
       "        vertical-align: top;\n",
       "    }\n",
       "\n",
       "    .dataframe thead th {\n",
       "        text-align: right;\n",
       "    }\n",
       "</style>\n",
       "<table border=\"1\" class=\"dataframe\">\n",
       "  <thead>\n",
       "    <tr style=\"text-align: right;\">\n",
       "      <th></th>\n",
       "      <th>CVE_data_format</th>\n",
       "    </tr>\n",
       "  </thead>\n",
       "  <tbody>\n",
       "    <tr>\n",
       "      <th>0</th>\n",
       "      <td>MITRE</td>\n",
       "    </tr>\n",
       "    <tr>\n",
       "      <th>1</th>\n",
       "      <td>MITRE</td>\n",
       "    </tr>\n",
       "    <tr>\n",
       "      <th>2</th>\n",
       "      <td>MITRE</td>\n",
       "    </tr>\n",
       "    <tr>\n",
       "      <th>3</th>\n",
       "      <td>MITRE</td>\n",
       "    </tr>\n",
       "    <tr>\n",
       "      <th>4</th>\n",
       "      <td>MITRE</td>\n",
       "    </tr>\n",
       "    <tr>\n",
       "      <th>...</th>\n",
       "      <td>...</td>\n",
       "    </tr>\n",
       "    <tr>\n",
       "      <th>535</th>\n",
       "      <td>MITRE</td>\n",
       "    </tr>\n",
       "    <tr>\n",
       "      <th>536</th>\n",
       "      <td>MITRE</td>\n",
       "    </tr>\n",
       "    <tr>\n",
       "      <th>537</th>\n",
       "      <td>MITRE</td>\n",
       "    </tr>\n",
       "    <tr>\n",
       "      <th>538</th>\n",
       "      <td>MITRE</td>\n",
       "    </tr>\n",
       "    <tr>\n",
       "      <th>539</th>\n",
       "      <td>MITRE</td>\n",
       "    </tr>\n",
       "  </tbody>\n",
       "</table>\n",
       "<p>540 rows × 1 columns</p>\n",
       "</div>"
      ],
      "text/plain": [
       "    CVE_data_format\n",
       "0             MITRE\n",
       "1             MITRE\n",
       "2             MITRE\n",
       "3             MITRE\n",
       "4             MITRE\n",
       "..              ...\n",
       "535           MITRE\n",
       "536           MITRE\n",
       "537           MITRE\n",
       "538           MITRE\n",
       "539           MITRE\n",
       "\n",
       "[540 rows x 1 columns]"
      ]
     },
     "execution_count": 7,
     "metadata": {},
     "output_type": "execute_result"
    }
   ],
   "source": [
    "# Answers\n",
    "\n",
    "# Create a dataframe\n",
    "df = pd.read_json('data/nvdcve.json')\n",
    "\n",
    "df[(df.CVE_data_timestamp == '2019-04-16T00:00Z')]\n",
    "\n",
    "df[(df.CVE_data_timestamp == '2019-04-16T00:00Z') & \n",
    "   (df.CVE_data_type == 'CVE')]\n",
    "\n",
    "df[(df.CVE_data_timestamp == '2019-04-16T00:00Z') & \n",
    "   (df.CVE_data_type == 'CVE') & \n",
    "  (df.CVE_data_numberOfCVEs >= 540)]\n",
    "\n",
    "\n",
    "df[(df.CVE_data_timestamp == '2019-04-16T00:00Z') & \n",
    "   (df.CVE_data_type == 'CVE') & \n",
    "  (df.CVE_data_numberOfCVEs >= 540)][['CVE_data_format']]"
   ]
  },
  {
   "cell_type": "markdown",
   "metadata": {},
   "source": [
    "# Exercise 3"
   ]
  },
  {
   "cell_type": "code",
   "execution_count": 14,
   "metadata": {},
   "outputs": [
    {
     "data": {
      "text/plain": [
       "<AxesSubplot:xlabel='unique_values,counts'>"
      ]
     },
     "execution_count": 14,
     "metadata": {},
     "output_type": "execute_result"
    },
    {
     "data": {
      "image/png": "[encoded data removed]",
      "text/plain": [
       "<Figure size 432x288 with 1 Axes>"
      ]
     },
     "metadata": {
      "needs_background": "light"
     },
     "output_type": "display_data"
    }
   ],
   "source": [
    "# Answers\n",
    "\n",
    "# Create a dataframe\n",
    "df = pd.read_csv('data/ransomwaretracker.abuse.ch.txt')\n",
    "\n",
    "# Represent in the appropriate plot the distirbution of frequency in IP addresses\n",
    "# Histogram\n",
    "df['IP address(es)'].hist()\n",
    "\n",
    "# Represent in appropriate plot the frequency of each unique IP address\n",
    "df['IP address(es)'].value_counts().plot(kind='bar')\n",
    "\n",
    "# Have fun!\n",
    "df1 = df['Threat'].value_counts().rename_axis('unique_values').reset_index(name='counts')\n",
    "df1.value_counts().plot(kind='bar')\n",
    "# df2 = df['Malware'].value_counts().rename_axis('unique_values').reset_index(name='counts')\n",
    "# plt.scatter(x=df1['counts'], y=df2['counts'])"
   ]
  },
  {
   "cell_type": "markdown",
   "metadata": {},
   "source": [
    "# Final Exercise\n"
   ]
  },
  {
   "cell_type": "code",
   "execution_count": 9,
   "metadata": {},
   "outputs": [
    {
     "data": {
      "text/plain": [
       "<AxesSubplot:>"
      ]
     },
     "execution_count": 9,
     "metadata": {},
     "output_type": "execute_result"
    },
    {
     "data": {
      "image/png": "[encoded data removed]",
      "text/plain": [
       "<Figure size 432x288 with 1 Axes>"
      ]
     },
     "metadata": {
      "needs_background": "light"
     },
     "output_type": "display_data"
    }
   ],
   "source": [
    "%matplotlib inline\n",
    "import pandas as pd\n",
    "\n",
    "df = pd.read_csv('data/redteam.txt')\n",
    "\n",
    "df['source'].value_counts().plot(kind=\"bar\")"
   ]
  },
  {
   "cell_type": "code",
   "execution_count": 10,
   "metadata": {},
   "outputs": [
    {
     "data": {
      "text/html": [
       "<div>\n",
       "<style scoped>\n",
       "    .dataframe tbody tr th:only-of-type {\n",
       "        vertical-align: middle;\n",
       "    }\n",
       "\n",
       "    .dataframe tbody tr th {\n",
       "        vertical-align: top;\n",
       "    }\n",
       "\n",
       "    .dataframe thead th {\n",
       "        text-align: right;\n",
       "    }\n",
       "</style>\n",
       "<table border=\"1\" class=\"dataframe\">\n",
       "  <thead>\n",
       "    <tr style=\"text-align: right;\">\n",
       "      <th></th>\n",
       "      <th>time</th>\n",
       "      <th>user@domain</th>\n",
       "      <th>source</th>\n",
       "      <th>destination</th>\n",
       "    </tr>\n",
       "  </thead>\n",
       "  <tbody>\n",
       "    <tr>\n",
       "      <th>10</th>\n",
       "      <td>210086</td>\n",
       "      <td>U748@DOM1</td>\n",
       "      <td>C18025</td>\n",
       "      <td>C1493</td>\n",
       "    </tr>\n",
       "    <tr>\n",
       "      <th>11</th>\n",
       "      <td>210294</td>\n",
       "      <td>U748@DOM1</td>\n",
       "      <td>C18025</td>\n",
       "      <td>C1493</td>\n",
       "    </tr>\n",
       "    <tr>\n",
       "      <th>12</th>\n",
       "      <td>210312</td>\n",
       "      <td>U748@DOM1</td>\n",
       "      <td>C18025</td>\n",
       "      <td>C1493</td>\n",
       "    </tr>\n",
       "  </tbody>\n",
       "</table>\n",
       "</div>"
      ],
      "text/plain": [
       "      time user@domain  source destination\n",
       "10  210086   U748@DOM1  C18025       C1493\n",
       "11  210294   U748@DOM1  C18025       C1493\n",
       "12  210312   U748@DOM1  C18025       C1493"
      ]
     },
     "execution_count": 10,
     "metadata": {},
     "output_type": "execute_result"
    }
   ],
   "source": [
    "df[df['source'] == 'C18025']"
   ]
  },
  {
   "cell_type": "code",
   "execution_count": 11,
   "metadata": {},
   "outputs": [
    {
     "data": {
      "text/plain": [
       "<AxesSubplot:>"
      ]
     },
     "execution_count": 11,
     "metadata": {},
     "output_type": "execute_result"
    },
    {
     "data": {
      "image/png": "[encoded data removed]",
      "text/plain": [
       "<Figure size 432x288 with 1 Axes>"
      ]
     },
     "metadata": {
      "needs_background": "light"
     },
     "output_type": "display_data"
    }
   ],
   "source": [
    "df['user@domain'].value_counts().nlargest(10).plot(kind=\"bar\")"
   ]
  },
  {
   "cell_type": "code",
   "execution_count": 12,
   "metadata": {},
   "outputs": [
    {
     "data": {
      "text/plain": [
       "<AxesSubplot:>"
      ]
     },
     "execution_count": 12,
     "metadata": {},
     "output_type": "execute_result"
    },
    {
     "data": {
      "image/png": "[encoded data removed]",
      "text/plain": [
       "<Figure size 432x288 with 1 Axes>"
      ]
     },
     "metadata": {
      "needs_background": "light"
     },
     "output_type": "display_data"
    }
   ],
   "source": [
    "df['destination'].value_counts().nlargest(10).plot(kind=\"bar\")"
   ]
  },
  {
   "cell_type": "markdown",
   "metadata": {},
   "source": [
    "U748@DOM1 only connects and makes connections to and from itself.\n",
    "U66@DOM1 makes more connections on average than other users."
   ]
  }
 ],
 "metadata": {
  "kernelspec": {
   "display_name": "Python 3",
   "language": "python",
   "name": "python3"
  },
  "language_info": {
   "codemirror_mode": {
    "name": "ipython",
    "version": 3
   },
   "file_extension": ".py",
   "mimetype": "text/x-python",
   "name": "python",
   "nbconvert_exporter": "python",
   "pygments_lexer": "ipython3",
   "version": "3.8.10"
  }
 },
 "nbformat": 4,
 "nbformat_minor": 2
}
