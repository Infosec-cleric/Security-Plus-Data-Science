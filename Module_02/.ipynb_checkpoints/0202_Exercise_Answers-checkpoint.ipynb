{
 "cells": [
  {
   "cell_type": "code",
   "execution_count": 1,
   "metadata": {},
   "outputs": [],
   "source": [
    "import pandas as pd\n",
    "import numpy as np\n",
    "\n",
    "df = pd.read_csv(\"data/comp_net_traff.csv\")"
   ]
  },
  {
   "cell_type": "markdown",
   "metadata": {},
   "source": [
    "### Exercise 1\n",
    "\n",
    "We have already loaded in the data you need. Making use of the dataframe perform the following tasks:\n",
    "* Report 10 of the local ip addresses\n",
    "* Print the minimum number of flows"
   ]
  },
  {
   "cell_type": "code",
   "execution_count": 6,
   "metadata": {},
   "outputs": [
    {
     "name": "stdout",
     "output_type": "stream",
     "text": [
      "Report 10 of the remote ASN: 0     701\n",
      "1     714\n",
      "2    1239\n",
      "3    1680\n",
      "4    2514\n",
      "5    3320\n",
      "6    3561\n",
      "7    4134\n",
      "8    5617\n",
      "9    6478\n",
      "Name: r_asn, dtype: int64\n",
      "\n",
      "Print the minimum number of flows: 1\n"
     ]
    }
   ],
   "source": [
    "# Answers:\n",
    "print('Report 10 of the remote ASN: ' + str(df['r_asn'].head(10)) + '\\n')\n",
    "print('Print the minimum number of flows: ' + str(df.f.min()))\n"
   ]
  },
  {
   "cell_type": "code",
   "execution_count": null,
   "metadata": {},
   "outputs": [],
   "source": []
  }
 ],
 "metadata": {
  "kernelspec": {
   "display_name": "Python 3",
   "language": "python",
   "name": "python3"
  },
  "language_info": {
   "codemirror_mode": {
    "name": "ipython",
    "version": 3
   },
   "file_extension": ".py",
   "mimetype": "text/x-python",
   "name": "python",
   "nbconvert_exporter": "python",
   "pygments_lexer": "ipython3",
   "version": "3.5.2"
  }
 },
 "nbformat": 4,
 "nbformat_minor": 2
}
